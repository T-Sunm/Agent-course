{
 "cells": [
  {
   "cell_type": "code",
   "execution_count": null,
   "id": "d4249b8b",
   "metadata": {},
   "outputs": [],
   "source": [
    "from langgraph.graph.message import add_messages\n",
    "from langchain_core.messages import BaseMessage\n",
    "import operator\n",
    "from typing import Annotated, List, Tuple\n",
    "from typing_extensions import TypedDict\n",
    "import os\n",
    "from dotenv import load_dotenv\n",
    "from langchain_tavily import TavilySearch\n",
    "from langchain_core.tools import tool\n",
    "from langchain_openai import ChatOpenAI\n",
    "from langchain_core.messages import SystemMessage\n",
    "import json\n",
    "from langchain_core.messages import ToolMessage\n",
    "from langchain_core.runnables import RunnableConfig\n",
    "from langgraph.prebuilt import create_react_agent\n",
    "from langgraph.graph import StateGraph, START\n",
    "load_dotenv()\n",
    "\n",
    "BASE_URL = \"http://127.0.0.1:1234/v1\""
   ]
  },
  {
   "cell_type": "markdown",
   "id": "b086006a",
   "metadata": {},
   "source": [
    "## Define state"
   ]
  },
  {
   "cell_type": "code",
   "execution_count": null,
   "id": "f66ebd9e",
   "metadata": {},
   "outputs": [],
   "source": [
    "class PlanExecute(TypedDict):\n",
    "    input: str\n",
    "    plan: List[str]\n",
    "    past_steps: Annotated[List[Tuple], operator.add]\n",
    "    response: str\n"
   ]
  },
  {
   "cell_type": "markdown",
   "id": "60647c94",
   "metadata": {},
   "source": [
    "## Define tools"
   ]
  },
  {
   "cell_type": "code",
   "execution_count": null,
   "id": "72517b56",
   "metadata": {},
   "outputs": [],
   "source": [
    "tools = [TavilySearch(max_results=1)]"
   ]
  },
  {
   "cell_type": "markdown",
   "id": "89b98e40",
   "metadata": {},
   "source": [
    "## Define agents"
   ]
  },
  {
   "cell_type": "markdown",
   "id": "8f670b52",
   "metadata": {},
   "source": [
    "### Planner Agents"
   ]
  },
  {
   "cell_type": "code",
   "execution_count": null,
   "id": "f16b05da",
   "metadata": {},
   "outputs": [],
   "source": [
    "from langchain_core.prompts import ChatPromptTemplate\n",
    "from pydantic import BaseModel, Field\n",
    "from langchain_core.output_parsers import PydanticOutputParser\n",
    "from langchain.chat_models import init_chat_model\n",
    "\n",
    "class Plan(BaseModel):\n",
    "    \"\"\"Plan to follow in future\"\"\"\n",
    "\n",
    "    steps: list[str] = Field(\n",
    "        description=\"Different steps to follow, should be in sorted order\"\n",
    "    )\n",
    "\n",
    "planner_prompt = ChatPromptTemplate.from_messages(\n",
    "    [\n",
    "        (\n",
    "            \"system\",\n",
    "            \"\"\"For the given objective, come up with a simple step by step plan.\n",
    "This plan should involve individual tasks, that if executed correctly will yield\n",
    "the correct answer. Do not add any superfluous steps.\n",
    "The result of the final step should be the final answer. Make sure that each step\n",
    "has all the information needed - do not skip steps.\"\"\"\n",
    "        ),\n",
    "        (\"placeholder\", \"{messages}\"),\n",
    "    ]\n",
    ")\n",
    "\n",
    "planner = planner_prompt | init_chat_model(\n",
    "    model=\"llama-3.2-3b-instruct\",\n",
    "    model_provider=\"openai\",            # provider “openai” để dùng endpoint tương thích\n",
    "    base_url=BASE_URL,  # URL server LM Studio\n",
    "    api_key=\"lm-studio\",                # có thể bất kỳ chuỗi nào\n",
    "    temperature=0.7\n",
    ").with_structured_output(Plan)\n",
    "\n",
    "plan = planner.invoke({\"input\": \"What is the weather in Vietnam?\"})\n",
    "print(plan)"
   ]
  },
  {
   "cell_type": "markdown",
   "id": "e3ffb660",
   "metadata": {},
   "source": [
    "### Executor agents"
   ]
  },
  {
   "cell_type": "code",
   "execution_count": null,
   "id": "1111a2e7",
   "metadata": {},
   "outputs": [],
   "source": [
    "model = ChatOpenAI(\n",
    "    base_url=BASE_URL,\n",
    "    api_key=\"not-needed\",  # LM Studio không yêu cầu API key\n",
    "    temperature=0,\n",
    ")\n",
    "prompt = \"You are a helpful assistant.\"\n",
    "agent_executor = create_react_agent(model, tools, prompt=prompt)"
   ]
  },
  {
   "cell_type": "code",
   "execution_count": null,
   "id": "0f601370",
   "metadata": {},
   "outputs": [],
   "source": [
    "agent_executor.invoke(\n",
    "    {\"messages\": [(\"user\", \"How is the weather in Vietnam?\")]})"
   ]
  },
  {
   "cell_type": "markdown",
   "id": "e9104d89",
   "metadata": {},
   "source": [
    "### Replanner Agents"
   ]
  },
  {
   "cell_type": "code",
   "execution_count": null,
   "id": "6d088527",
   "metadata": {},
   "outputs": [],
   "source": [
    "from typing import Union\n",
    "\n",
    "class Response(BaseModel):\n",
    "    \"\"\"Response to user.\"\"\"\n",
    "\n",
    "    response: str\n",
    "\n",
    "\"\"\"\n",
    "Trường action có thể là:\n",
    "    - Response: trả lời luôn cho user (kết thúc).\n",
    "Plan: lên/kế hoạch mới gồm các bước cần làm tiếp (nếu chưa đủ dữ kiện để trả lời hoặc task chưa xong).\n",
    "Union dùng để cho phép output linh hoạt: hoặc trả lời user, hoặc lên kế hoạch mới.\n",
    "\"\"\"\n",
    "class Act(BaseModel):\n",
    "    \"\"\"Action to perform.\"\"\"\n",
    "\n",
    "    action: Union[Response, Plan] = Field(\n",
    "        description=\"Action to perform. If you want to respond to user, use Response. \"\n",
    "                    \"If you need to further use tools to get the answer, use Plan.\"\n",
    "    )\n",
    "\n",
    "\n",
    "replanner_prompt = ChatPromptTemplate.from_template(\n",
    "    \"\"\"For the given objective, come up with a simple step by step plan.\n",
    "This plan should involve individual tasks, that if executed correctly will yield\n",
    "the correct answer. Do not add any superfluous steps.\n",
    "The result of the final step should be the final answer. Make sure that each step\n",
    "has all the information needed - do not skip steps.\n",
    "\n",
    "Your objective was this:\n",
    "{input}\n",
    "\n",
    "Your original plan was this:\n",
    "{plan}\n",
    "\n",
    "You have currently done the follow steps:\n",
    "{past_steps}\n",
    "\n",
    "Update your plan accordingly. If no more steps are needed and you can return to\n",
    "the user, then respond with that. Otherwise, fill out the plan. Only add steps\n",
    "to the plan that still NEED to be done. Do not return previously done steps\n",
    "as part of the plan.\"\"\"\n",
    ")\n",
    "\n",
    "\n",
    "\n",
    "replanner = replanner_prompt | init_chat_model(\n",
    "    model=\"llama-3.2-3b-instruct\",\n",
    "    model_provider=\"openai\",            # provider “openai” để dùng endpoint tương thích\n",
    "    base_url=BASE_URL,  # URL server LM Studio\n",
    "    api_key=\"lm-studio\",                # có thể bất kỳ chuỗi nào\n",
    "    temperature=0.7\n",
    ").with_structured_output(Plan)"
   ]
  },
  {
   "cell_type": "markdown",
   "id": "1626833f",
   "metadata": {},
   "source": [
    "## Define node and edge"
   ]
  },
  {
   "cell_type": "code",
   "execution_count": null,
   "id": "f99c2c00",
   "metadata": {},
   "outputs": [],
   "source": [
    "from typing import Literal\n",
    "from langgraph.graph import END\n",
    "\n",
    "async def execute_step(state: PlanExecute):\n",
    "    plan = state[\"plan\"]\n",
    "    plan_str = \"\\n\".join(f\"{i+1}. {step}\" for i, step in enumerate(plan))\n",
    "    task = plan[0]\n",
    "    task_formatted = f\"\"\"For the following plan:\n",
    "{plan_str}\\n\\nYou are tasked with executing step {1}, {task}.\"\"\"\n",
    "    agent_response = await agent_executor.ainvoke(\n",
    "        {\"messages\": [(\"user\", task_formatted)]}\n",
    "    )\n",
    "    return {\n",
    "        \"past_steps\": [(task, agent_response[\"messages\"][-1].content)],\n",
    "    }\n",
    "\n",
    "async def plan_step(state: PlanExecute):\n",
    "    plan = await planner.ainvoke({\"messages\": [(\"user\", state[\"input\"])]})\n",
    "    return {\"plan\": plan.steps}\n",
    "\n",
    "async def replan_step(state: PlanExecute):\n",
    "    output = await replanner.ainvoke(state)\n",
    "    if isinstance(output.action, Response):\n",
    "        return {\"response\": output.action.response}\n",
    "    else:\n",
    "        return {\"plan\": output.action.steps}\n",
    "\n",
    "def should_end(state: PlanExecute):\n",
    "    if \"response\" in state and state[\"response\"]:\n",
    "        return END\n",
    "    else:\n",
    "        return \"agent\""
   ]
  },
  {
   "cell_type": "markdown",
   "id": "738d4008",
   "metadata": {},
   "source": [
    "## Build graph"
   ]
  },
  {
   "cell_type": "code",
   "execution_count": null,
   "id": "6ba89d8b",
   "metadata": {},
   "outputs": [],
   "source": [
    "workflow = StateGraph(PlanExecute)\n",
    "workflow.add_node(\"planner\", plan_step)\n",
    "workflow.add_node(\"agent\", execute_step)\n",
    "workflow.add_node(\"replan\", replan_step)\n",
    "\n",
    "workflow.add_edge(START, \"planner\")\n",
    "workflow.add_edge(\"planner\", \"agent\")\n",
    "workflow.add_edge(\"agent\", \"replan\")\n",
    "\n",
    "workflow.add_conditional_edges('replan', should_end, [\"agent\", END])\n",
    "app = workflow.compile()"
   ]
  },
  {
   "cell_type": "code",
   "execution_count": null,
   "id": "29cc1cfb",
   "metadata": {},
   "outputs": [],
   "source": [
    "from IPython.display import Image, display\n",
    "\n",
    "display(Image(app.get_graph(xray=True).draw_mermaid_png()))"
   ]
  },
  {
   "cell_type": "markdown",
   "id": "861da878",
   "metadata": {},
   "source": [
    "## Inferences"
   ]
  },
  {
   "cell_type": "code",
   "execution_count": null,
   "id": "72552ff4",
   "metadata": {},
   "outputs": [],
   "source": [
    "config = {\"recursion_limit\": 50}\n",
    "inputs = {\n",
    "    \"input\": \"Solve for all real solutions x to the equation: sqrt(x -2) = 3\"}\n",
    "async for event in app.astream(inputs, config=config):\n",
    "    for k, v in event.items():\n",
    "        if k != \"__end__\":\n",
    "            print(v)"
   ]
  }
 ],
 "metadata": {
  "kernelspec": {
   "display_name": "LLMs_Agents",
   "language": "python",
   "name": "python3"
  },
  "language_info": {
   "codemirror_mode": {
    "name": "ipython",
    "version": 3
   },
   "file_extension": ".py",
   "mimetype": "text/x-python",
   "name": "python",
   "nbconvert_exporter": "python",
   "pygments_lexer": "ipython3",
   "version": "3.10.16"
  }
 },
 "nbformat": 4,
 "nbformat_minor": 5
}
