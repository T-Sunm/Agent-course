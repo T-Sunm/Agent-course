{
 "cells": [
  {
   "cell_type": "code",
   "execution_count": 1,
   "id": "d4249b8b",
   "metadata": {},
   "outputs": [],
   "source": [
    "from langgraph.graph.message import add_messages\n",
    "from langchain_core.messages import BaseMessage\n",
    "import operator\n",
    "from typing import Annotated, List, Tuple\n",
    "from typing_extensions import TypedDict\n",
    "import os\n",
    "from dotenv import load_dotenv\n",
    "from langchain_tavily import TavilySearch\n",
    "from langchain_core.tools import tool\n",
    "from langchain_openai import ChatOpenAI\n",
    "from langchain_core.messages import SystemMessage\n",
    "import json\n",
    "from langchain_core.messages import ToolMessage\n",
    "from langchain_core.runnables import RunnableConfig\n",
    "from langgraph.prebuilt import create_react_agent\n",
    "from langgraph.graph import StateGraph, START\n",
    "load_dotenv()\n",
    "\n",
    "BASE_URL = \"http://127.0.0.1:1234/v1\""
   ]
  },
  {
   "cell_type": "markdown",
   "id": "b086006a",
   "metadata": {},
   "source": [
    "## Define state"
   ]
  },
  {
   "cell_type": "code",
   "execution_count": 2,
   "id": "f66ebd9e",
   "metadata": {},
   "outputs": [],
   "source": [
    "class PlanExecute(TypedDict):\n",
    "    input: str\n",
    "    plan: List[str]\n",
    "    past_steps: Annotated[List[Tuple], operator.add]\n",
    "    response: str\n"
   ]
  },
  {
   "cell_type": "markdown",
   "id": "60647c94",
   "metadata": {},
   "source": [
    "## Define tools"
   ]
  },
  {
   "cell_type": "code",
   "execution_count": 3,
   "id": "72517b56",
   "metadata": {},
   "outputs": [],
   "source": [
    "tools = [TavilySearch(max_results=1)]"
   ]
  },
  {
   "cell_type": "markdown",
   "id": "89b98e40",
   "metadata": {},
   "source": [
    "## Define agents"
   ]
  },
  {
   "cell_type": "markdown",
   "id": "8f670b52",
   "metadata": {},
   "source": [
    "### Planner Agents"
   ]
  },
  {
   "cell_type": "code",
   "execution_count": 4,
   "id": "f16b05da",
   "metadata": {},
   "outputs": [
    {
     "name": "stdout",
     "output_type": "stream",
     "text": [
      "steps=['Do you have a specific objective?', 'If yes, please provide it.', 'Once you have provided your objective, I will create a step-by-step plan for achieving it.']\n"
     ]
    }
   ],
   "source": [
    "from langchain_core.prompts import ChatPromptTemplate\n",
    "from pydantic import BaseModel, Field\n",
    "from langchain_core.output_parsers import PydanticOutputParser\n",
    "from langchain.chat_models import init_chat_model\n",
    "\n",
    "class Plan(BaseModel):\n",
    "    \"\"\"Plan to follow in future\"\"\"\n",
    "\n",
    "    steps: list[str] = Field(\n",
    "        description=\"Different steps to follow, should be in sorted order\"\n",
    "    )\n",
    "\n",
    "planner_prompt = ChatPromptTemplate.from_messages(\n",
    "    [\n",
    "        (\n",
    "            \"system\",\n",
    "            \"\"\"For the given objective, come up with a simple step by step plan.\n",
    "This plan should involve individual tasks, that if executed correctly will yield\n",
    "the correct answer. Do not add any superfluous steps.\n",
    "The result of the final step should be the final answer. Make sure that each step\n",
    "has all the information needed - do not skip steps.\"\"\"\n",
    "        ),\n",
    "        (\"placeholder\", \"{messages}\"),\n",
    "    ]\n",
    ")\n",
    "\n",
    "planner = planner_prompt | init_chat_model(\n",
    "    model=\"llama-3.2-3b-instruct\",\n",
    "    model_provider=\"openai\",            # provider “openai” để dùng endpoint tương thích\n",
    "    base_url=BASE_URL,  # URL server LM Studio\n",
    "    api_key=\"lm-studio\",                # có thể bất kỳ chuỗi nào\n",
    "    temperature=0.7\n",
    ").with_structured_output(Plan)\n",
    "\n",
    "plan = planner.invoke({\"input\": \"What is the weather in Vietnam?\"})\n",
    "print(plan)"
   ]
  },
  {
   "cell_type": "markdown",
   "id": "e3ffb660",
   "metadata": {},
   "source": [
    "### Executor agents"
   ]
  },
  {
   "cell_type": "code",
   "execution_count": 5,
   "id": "1111a2e7",
   "metadata": {},
   "outputs": [],
   "source": [
    "model = ChatOpenAI(\n",
    "    base_url=BASE_URL,\n",
    "    api_key=\"not-needed\",  # LM Studio không yêu cầu API key\n",
    "    temperature=0,\n",
    ")\n",
    "prompt = \"You are a helpful assistant.\"\n",
    "agent_executor = create_react_agent(model, tools, prompt=prompt)"
   ]
  },
  {
   "cell_type": "code",
   "execution_count": 6,
   "id": "0f601370",
   "metadata": {},
   "outputs": [
    {
     "data": {
      "text/plain": [
       "{'messages': [HumanMessage(content='How is the weather in Vietnam?', additional_kwargs={}, response_metadata={}, id='e5784b1f-ce5e-45ed-8380-c1413991e1fa'),\n",
       "  AIMessage(content='', additional_kwargs={'tool_calls': [{'id': '657704391', 'function': {'arguments': '{\"query\":\"Vietnam weather\"}', 'name': 'tavily_search'}, 'type': 'function'}], 'refusal': None}, response_metadata={'token_usage': {'completion_tokens': 32, 'prompt_tokens': 1473, 'total_tokens': 1505, 'completion_tokens_details': None, 'prompt_tokens_details': None}, 'model_name': 'llama-3.2-3b-instruct', 'system_fingerprint': 'llama-3.2-3b-instruct', 'id': 'chatcmpl-96gw2knev99foaqobbzkc8', 'finish_reason': 'tool_calls', 'logprobs': None}, id='run--de56013b-99c7-4a0f-84a7-8ebc13527887-0', tool_calls=[{'name': 'tavily_search', 'args': {'query': 'Vietnam weather'}, 'id': '657704391', 'type': 'tool_call'}], usage_metadata={'input_tokens': 1473, 'output_tokens': 32, 'total_tokens': 1505, 'input_token_details': {}, 'output_token_details': {}}),\n",
       "  ToolMessage(content='{\"query\": \"Vietnam weather\", \"follow_up_questions\": null, \"answer\": null, \"images\": [], \"results\": [{\"title\": \"Weather in Vietnam\", \"url\": \"https://www.weatherapi.com/\", \"content\": \"{\\'location\\': {\\'name\\': \\'Hanoi\\', \\'region\\': \\'\\', \\'country\\': \\'Vietnam\\', \\'lat\\': 21.033, \\'lon\\': 105.85, \\'tz_id\\': \\'Asia/Bangkok\\', \\'localtime_epoch\\': 1747400161, \\'localtime\\': \\'2025-05-16 19:56\\'}, \\'current\\': {\\'last_updated_epoch\\': 1747399500, \\'last_updated\\': \\'2025-05-16 19:45\\', \\'temp_c\\': 26.1, \\'temp_f\\': 79.0, \\'is_day\\': 0, \\'condition\\': {\\'text\\': \\'Moderate or heavy rain with thunder\\', \\'icon\\': \\'//cdn.weatherapi.com/weather/64x64/night/389.png\\', \\'code\\': 1276}, \\'wind_mph\\': 10.3, \\'wind_kph\\': 16.6, \\'wind_degree\\': 143, \\'wind_dir\\': \\'SE\\', \\'pressure_mb\\': 1007.0, \\'pressure_in\\': 29.74, \\'precip_mm\\': 1.35, \\'precip_in\\': 0.05, \\'humidity\\': 94, \\'cloud\\': 100, \\'feelslike_c\\': 29.3, \\'feelslike_f\\': 84.8, \\'windchill_c\\': 26.4, \\'windchill_f\\': 79.5, \\'heatindex_c\\': 29.9, \\'heatindex_f\\': 85.7, \\'dewpoint_c\\': 23.9, \\'dewpoint_f\\': 75.1, \\'vis_km\\': 5.0, \\'vis_miles\\': 3.0, \\'uv\\': 0.0, \\'gust_mph\\': 18.2, \\'gust_kph\\': 29.2}}\", \"score\": 0.96629, \"raw_content\": null}], \"response_time\": 2.3}', name='tavily_search', id='f277ebe5-175d-4261-8bd7-902e25d551cb', tool_call_id='657704391'),\n",
       "  AIMessage(content=\"It looks like the tool didn't quite get it right. The weather in Vietnam is currently moderate or heavy rain with thunder, with a temperature of around 26°C (79°F). However, I'd recommend checking a more specific location, as the current result only provides information for Hanoi.\\n\\nWould you like to try searching again for a different location?\", additional_kwargs={'refusal': None}, response_metadata={'token_usage': {'completion_tokens': 71, 'prompt_tokens': 1993, 'total_tokens': 2064, 'completion_tokens_details': None, 'prompt_tokens_details': None}, 'model_name': 'llama-3.2-3b-instruct', 'system_fingerprint': 'llama-3.2-3b-instruct', 'id': 'chatcmpl-eailedlqtnk8qvbep88qb', 'finish_reason': 'stop', 'logprobs': None}, id='run--e630005e-7c4b-4d88-8791-d8bcdafd1949-0', usage_metadata={'input_tokens': 1993, 'output_tokens': 71, 'total_tokens': 2064, 'input_token_details': {}, 'output_token_details': {}})]}"
      ]
     },
     "execution_count": 6,
     "metadata": {},
     "output_type": "execute_result"
    }
   ],
   "source": [
    "agent_executor.invoke(\n",
    "    {\"messages\": [(\"user\", \"How is the weather in Vietnam?\")]})"
   ]
  },
  {
   "cell_type": "markdown",
   "id": "e9104d89",
   "metadata": {},
   "source": [
    "### Replanner Agents"
   ]
  },
  {
   "cell_type": "code",
   "execution_count": 8,
   "id": "6d088527",
   "metadata": {},
   "outputs": [],
   "source": [
    "from typing import Union\n",
    "\n",
    "class Response(BaseModel):\n",
    "    \"\"\"Response to user.\"\"\"\n",
    "\n",
    "    response: str\n",
    "\n",
    "\"\"\"\n",
    "Trường action có thể là:\n",
    "    - Response: trả lời luôn cho user (kết thúc).\n",
    "Plan: lên/kế hoạch mới gồm các bước cần làm tiếp (nếu chưa đủ dữ kiện để trả lời hoặc task chưa xong).\n",
    "Union dùng để cho phép output linh hoạt: hoặc trả lời user, hoặc lên kế hoạch mới.\n",
    "\"\"\"\n",
    "class Act(BaseModel):\n",
    "    \"\"\"Action to perform.\"\"\"\n",
    "\n",
    "    action: Union[Response, Plan] = Field(\n",
    "        description=\"Action to perform. If you want to respond to user, use Response. \"\n",
    "                    \"If you need to further use tools to get the answer, use Plan.\"\n",
    "    )\n",
    "\n",
    "\n",
    "replanner_prompt = ChatPromptTemplate.from_template(\n",
    "    \"\"\"For the given objective, come up with a simple step by step plan.\n",
    "This plan should involve individual tasks, that if executed correctly will yield\n",
    "the correct answer. Do not add any superfluous steps.\n",
    "The result of the final step should be the final answer. Make sure that each step\n",
    "has all the information needed - do not skip steps.\n",
    "\n",
    "Your objective was this:\n",
    "{input}\n",
    "\n",
    "Your original plan was this:\n",
    "{plan}\n",
    "\n",
    "You have currently done the follow steps:\n",
    "{past_steps}\n",
    "\n",
    "Update your plan accordingly. If no more steps are needed and you can return to\n",
    "the user, then respond with that. Otherwise, fill out the plan. Only add steps\n",
    "to the plan that still NEED to be done. Do not return previously done steps\n",
    "as part of the plan.\"\"\"\n",
    ")\n",
    "\n",
    "\n",
    "\n",
    "replanner = replanner_prompt | init_chat_model(\n",
    "    model=\"llama-3.2-3b-instruct\",\n",
    "    model_provider=\"openai\",            # provider “openai” để dùng endpoint tương thích\n",
    "    base_url=BASE_URL,  # URL server LM Studio\n",
    "    api_key=\"lm-studio\",                # có thể bất kỳ chuỗi nào\n",
    "    temperature=0.7\n",
    ").with_structured_output(Plan)"
   ]
  },
  {
   "cell_type": "markdown",
   "id": "1626833f",
   "metadata": {},
   "source": [
    "## Define node and edge"
   ]
  },
  {
   "cell_type": "code",
   "execution_count": 9,
   "id": "f99c2c00",
   "metadata": {},
   "outputs": [],
   "source": [
    "from typing import Literal\n",
    "from langgraph.graph import END\n",
    "\n",
    "async def execute_step(state: PlanExecute):\n",
    "    plan = state[\"plan\"]\n",
    "    plan_str = \"\\n\".join(f\"{i+1}. {step}\" for i, step in enumerate(plan))\n",
    "    task = plan[0]\n",
    "    task_formatted = f\"\"\"For the following plan:\n",
    "{plan_str}\\n\\nYou are tasked with executing step {1}, {task}.\"\"\"\n",
    "    agent_response = await agent_executor.ainvoke(\n",
    "        {\"messages\": [(\"user\", task_formatted)]}\n",
    "    )\n",
    "    return {\n",
    "        \"past_steps\": [(task, agent_response[\"messages\"][-1].content)],\n",
    "    }\n",
    "\n",
    "async def plan_step(state: PlanExecute):\n",
    "    plan = await planner.ainvoke({\"messages\": [(\"user\", state[\"input\"])]})\n",
    "    return {\"plan\": plan.steps}\n",
    "\n",
    "async def replan_step(state: PlanExecute):\n",
    "    output = await replanner.ainvoke(state)\n",
    "    if isinstance(output.action, Response):\n",
    "        return {\"response\": output.action.response}\n",
    "    else:\n",
    "        return {\"plan\": output.action.steps}\n",
    "\n",
    "def should_end(state: PlanExecute):\n",
    "    if \"response\" in state and state[\"response\"]:\n",
    "        return END\n",
    "    else:\n",
    "        return \"agent\""
   ]
  },
  {
   "cell_type": "markdown",
   "id": "738d4008",
   "metadata": {},
   "source": [
    "## Build graph"
   ]
  },
  {
   "cell_type": "code",
   "execution_count": 11,
   "id": "6ba89d8b",
   "metadata": {},
   "outputs": [],
   "source": [
    "workflow = StateGraph(PlanExecute)\n",
    "workflow.add_node(\"planner\", plan_step)\n",
    "workflow.add_node(\"agent\", execute_step)\n",
    "workflow.add_node(\"replan\", replan_step)\n",
    "\n",
    "workflow.add_edge(START, \"planner\")\n",
    "workflow.add_edge(\"planner\", \"agent\")\n",
    "workflow.add_edge(\"agent\", \"replan\")\n",
    "\n",
    "workflow.add_conditional_edges('replan', should_end, [\"agent\", END])\n",
    "app = workflow.compile()"
   ]
  },
  {
   "cell_type": "code",
   "execution_count": 12,
   "id": "29cc1cfb",
   "metadata": {},
   "outputs": [
    {
     "data": {
      "image/png": "[encoded data removed]",
      "text/plain": [
       "<IPython.core.display.Image object>"
      ]
     },
     "metadata": {},
     "output_type": "display_data"
    }
   ],
   "source": [
    "from IPython.display import Image, display\n",
    "\n",
    "display(Image(app.get_graph(xray=True).draw_mermaid_png()))"
   ]
  },
  {
   "cell_type": "markdown",
   "id": "861da878",
   "metadata": {},
   "source": [
    "## Inferences"
   ]
  },
  {
   "cell_type": "code",
   "execution_count": 13,
   "id": "72552ff4",
   "metadata": {},
   "outputs": [
    {
     "name": "stdout",
     "output_type": "stream",
     "text": [
      "{'plan': ['Step 1: Square both sides of the equation to get rid of the square root.', 'Step 2: Simplify the resulting equation and solve for x', 'Simplify the equation: x-2=9']}\n"
     ]
    },
    {
     "ename": "GraphRecursionError",
     "evalue": "Recursion limit of 25 reached without hitting a stop condition. You can increase the limit by setting the `recursion_limit` config key.\nFor troubleshooting, visit: https://python.langchain.com/docs/troubleshooting/errors/GRAPH_RECURSION_LIMIT",
     "output_type": "error",
     "traceback": [
      "\u001b[1;31m---------------------------------------------------------------------------\u001b[0m",
      "\u001b[1;31mGraphRecursionError\u001b[0m                       Traceback (most recent call last)",
      "Cell \u001b[1;32mIn[13], line 4\u001b[0m\n\u001b[0;32m      1\u001b[0m config \u001b[38;5;241m=\u001b[39m {\u001b[38;5;124m\"\u001b[39m\u001b[38;5;124mrecursion_limit\u001b[39m\u001b[38;5;124m\"\u001b[39m: \u001b[38;5;241m50\u001b[39m}\n\u001b[0;32m      2\u001b[0m inputs \u001b[38;5;241m=\u001b[39m {\n\u001b[0;32m      3\u001b[0m     \u001b[38;5;124m\"\u001b[39m\u001b[38;5;124minput\u001b[39m\u001b[38;5;124m\"\u001b[39m: \u001b[38;5;124m\"\u001b[39m\u001b[38;5;124mSolve for all real solutions x to the equation: sqrt(x -2) = 3\u001b[39m\u001b[38;5;124m\"\u001b[39m}\n\u001b[1;32m----> 4\u001b[0m \u001b[38;5;28;01masync\u001b[39;00m \u001b[38;5;28;01mfor\u001b[39;00m event \u001b[38;5;129;01min\u001b[39;00m app\u001b[38;5;241m.\u001b[39mastream(inputs, config\u001b[38;5;241m=\u001b[39mconfig):\n\u001b[0;32m      5\u001b[0m     \u001b[38;5;28;01mfor\u001b[39;00m k, v \u001b[38;5;129;01min\u001b[39;00m event\u001b[38;5;241m.\u001b[39mitems():\n\u001b[0;32m      6\u001b[0m         \u001b[38;5;28;01mif\u001b[39;00m k \u001b[38;5;241m!=\u001b[39m \u001b[38;5;124m\"\u001b[39m\u001b[38;5;124m__end__\u001b[39m\u001b[38;5;124m\"\u001b[39m:\n",
      "File \u001b[1;32md:\\Asus\\Ungdung\\Miniconda\\workspace\\envs\\LLMs_Agents\\lib\\site-packages\\langgraph\\pregel\\__init__.py:2732\u001b[0m, in \u001b[0;36mPregel.astream\u001b[1;34m(self, input, config, stream_mode, output_keys, interrupt_before, interrupt_after, checkpoint_during, debug, subgraphs)\u001b[0m\n\u001b[0;32m   2726\u001b[0m \u001b[38;5;66;03m# Similarly to Bulk Synchronous Parallel / Pregel model\u001b[39;00m\n\u001b[0;32m   2727\u001b[0m \u001b[38;5;66;03m# computation proceeds in steps, while there are channel updates\u001b[39;00m\n\u001b[0;32m   2728\u001b[0m \u001b[38;5;66;03m# channel updates from step N are only visible in step N+1\u001b[39;00m\n\u001b[0;32m   2729\u001b[0m \u001b[38;5;66;03m# channels are guaranteed to be immutable for the duration of the step,\u001b[39;00m\n\u001b[0;32m   2730\u001b[0m \u001b[38;5;66;03m# with channel updates applied only at the transition between steps\u001b[39;00m\n\u001b[0;32m   2731\u001b[0m \u001b[38;5;28;01mwhile\u001b[39;00m loop\u001b[38;5;241m.\u001b[39mtick(input_keys\u001b[38;5;241m=\u001b[39m\u001b[38;5;28mself\u001b[39m\u001b[38;5;241m.\u001b[39minput_channels):\n\u001b[1;32m-> 2732\u001b[0m     \u001b[38;5;28;01masync\u001b[39;00m \u001b[38;5;28;01mfor\u001b[39;00m _ \u001b[38;5;129;01min\u001b[39;00m runner\u001b[38;5;241m.\u001b[39matick(\n\u001b[0;32m   2733\u001b[0m         loop\u001b[38;5;241m.\u001b[39mtasks\u001b[38;5;241m.\u001b[39mvalues(),\n\u001b[0;32m   2734\u001b[0m         timeout\u001b[38;5;241m=\u001b[39m\u001b[38;5;28mself\u001b[39m\u001b[38;5;241m.\u001b[39mstep_timeout,\n\u001b[0;32m   2735\u001b[0m         retry_policy\u001b[38;5;241m=\u001b[39m\u001b[38;5;28mself\u001b[39m\u001b[38;5;241m.\u001b[39mretry_policy,\n\u001b[0;32m   2736\u001b[0m         get_waiter\u001b[38;5;241m=\u001b[39mget_waiter,\n\u001b[0;32m   2737\u001b[0m     ):\n\u001b[0;32m   2738\u001b[0m         \u001b[38;5;66;03m# emit output\u001b[39;00m\n\u001b[0;32m   2739\u001b[0m         \u001b[38;5;28;01mfor\u001b[39;00m o \u001b[38;5;129;01min\u001b[39;00m output():\n\u001b[0;32m   2740\u001b[0m             \u001b[38;5;28;01myield\u001b[39;00m o\n",
      "File \u001b[1;32md:\\Asus\\Ungdung\\Miniconda\\workspace\\envs\\LLMs_Agents\\lib\\site-packages\\langgraph\\pregel\\runner.py:283\u001b[0m, in \u001b[0;36mPregelRunner.atick\u001b[1;34m(self, tasks, reraise, timeout, retry_policy, get_waiter)\u001b[0m\n\u001b[0;32m    281\u001b[0m t \u001b[38;5;241m=\u001b[39m tasks[\u001b[38;5;241m0\u001b[39m]\n\u001b[0;32m    282\u001b[0m \u001b[38;5;28;01mtry\u001b[39;00m:\n\u001b[1;32m--> 283\u001b[0m     \u001b[38;5;28;01mawait\u001b[39;00m arun_with_retry(\n\u001b[0;32m    284\u001b[0m         t,\n\u001b[0;32m    285\u001b[0m         retry_policy,\n\u001b[0;32m    286\u001b[0m         stream\u001b[38;5;241m=\u001b[39m\u001b[38;5;28mself\u001b[39m\u001b[38;5;241m.\u001b[39muse_astream,\n\u001b[0;32m    287\u001b[0m         configurable\u001b[38;5;241m=\u001b[39m{\n\u001b[0;32m    288\u001b[0m             CONFIG_KEY_CALL: partial(\n\u001b[0;32m    289\u001b[0m                 _acall,\n\u001b[0;32m    290\u001b[0m                 weakref\u001b[38;5;241m.\u001b[39mref(t),\n\u001b[0;32m    291\u001b[0m                 stream\u001b[38;5;241m=\u001b[39m\u001b[38;5;28mself\u001b[39m\u001b[38;5;241m.\u001b[39muse_astream,\n\u001b[0;32m    292\u001b[0m                 retry\u001b[38;5;241m=\u001b[39mretry_policy,\n\u001b[0;32m    293\u001b[0m                 futures\u001b[38;5;241m=\u001b[39mweakref\u001b[38;5;241m.\u001b[39mref(futures),\n\u001b[0;32m    294\u001b[0m                 schedule_task\u001b[38;5;241m=\u001b[39m\u001b[38;5;28mself\u001b[39m\u001b[38;5;241m.\u001b[39mschedule_task,\n\u001b[0;32m    295\u001b[0m                 submit\u001b[38;5;241m=\u001b[39m\u001b[38;5;28mself\u001b[39m\u001b[38;5;241m.\u001b[39msubmit,\n\u001b[0;32m    296\u001b[0m                 reraise\u001b[38;5;241m=\u001b[39mreraise,\n\u001b[0;32m    297\u001b[0m                 loop\u001b[38;5;241m=\u001b[39mloop,\n\u001b[0;32m    298\u001b[0m             ),\n\u001b[0;32m    299\u001b[0m         },\n\u001b[0;32m    300\u001b[0m     )\n\u001b[0;32m    301\u001b[0m     \u001b[38;5;28mself\u001b[39m\u001b[38;5;241m.\u001b[39mcommit(t, \u001b[38;5;28;01mNone\u001b[39;00m)\n\u001b[0;32m    302\u001b[0m \u001b[38;5;28;01mexcept\u001b[39;00m \u001b[38;5;167;01mException\u001b[39;00m \u001b[38;5;28;01mas\u001b[39;00m exc:\n",
      "File \u001b[1;32md:\\Asus\\Ungdung\\Miniconda\\workspace\\envs\\LLMs_Agents\\lib\\site-packages\\langgraph\\pregel\\retry.py:128\u001b[0m, in \u001b[0;36marun_with_retry\u001b[1;34m(task, retry_policies, stream, configurable)\u001b[0m\n\u001b[0;32m    126\u001b[0m         \u001b[38;5;28;01mbreak\u001b[39;00m\n\u001b[0;32m    127\u001b[0m     \u001b[38;5;28;01melse\u001b[39;00m:\n\u001b[1;32m--> 128\u001b[0m         \u001b[38;5;28;01mreturn\u001b[39;00m \u001b[38;5;28;01mawait\u001b[39;00m task\u001b[38;5;241m.\u001b[39mproc\u001b[38;5;241m.\u001b[39mainvoke(task\u001b[38;5;241m.\u001b[39minput, config)\n\u001b[0;32m    129\u001b[0m \u001b[38;5;28;01mexcept\u001b[39;00m ParentCommand \u001b[38;5;28;01mas\u001b[39;00m exc:\n\u001b[0;32m    130\u001b[0m     ns: \u001b[38;5;28mstr\u001b[39m \u001b[38;5;241m=\u001b[39m config[CONF][CONFIG_KEY_CHECKPOINT_NS]\n",
      "File \u001b[1;32md:\\Asus\\Ungdung\\Miniconda\\workspace\\envs\\LLMs_Agents\\lib\\site-packages\\langgraph\\utils\\runnable.py:676\u001b[0m, in \u001b[0;36mRunnableSeq.ainvoke\u001b[1;34m(self, input, config, **kwargs)\u001b[0m\n\u001b[0;32m    672\u001b[0m             \u001b[38;5;28minput\u001b[39m \u001b[38;5;241m=\u001b[39m \u001b[38;5;28;01mawait\u001b[39;00m asyncio\u001b[38;5;241m.\u001b[39mcreate_task(\n\u001b[0;32m    673\u001b[0m                 step\u001b[38;5;241m.\u001b[39mainvoke(\u001b[38;5;28minput\u001b[39m, config, \u001b[38;5;241m*\u001b[39m\u001b[38;5;241m*\u001b[39mkwargs), context\u001b[38;5;241m=\u001b[39mcontext\n\u001b[0;32m    674\u001b[0m             )\n\u001b[0;32m    675\u001b[0m     \u001b[38;5;28;01melse\u001b[39;00m:\n\u001b[1;32m--> 676\u001b[0m         \u001b[38;5;28minput\u001b[39m \u001b[38;5;241m=\u001b[39m \u001b[38;5;28;01mawait\u001b[39;00m step\u001b[38;5;241m.\u001b[39mainvoke(\u001b[38;5;28minput\u001b[39m, config, \u001b[38;5;241m*\u001b[39m\u001b[38;5;241m*\u001b[39mkwargs)\n\u001b[0;32m    677\u001b[0m \u001b[38;5;28;01melse\u001b[39;00m:\n\u001b[0;32m    678\u001b[0m     \u001b[38;5;28minput\u001b[39m \u001b[38;5;241m=\u001b[39m \u001b[38;5;28;01mawait\u001b[39;00m step\u001b[38;5;241m.\u001b[39mainvoke(\u001b[38;5;28minput\u001b[39m, config)\n",
      "File \u001b[1;32md:\\Asus\\Ungdung\\Miniconda\\workspace\\envs\\LLMs_Agents\\lib\\site-packages\\langgraph\\utils\\runnable.py:440\u001b[0m, in \u001b[0;36mRunnableCallable.ainvoke\u001b[1;34m(self, input, config, **kwargs)\u001b[0m\n\u001b[0;32m    438\u001b[0m         \u001b[38;5;28;01mawait\u001b[39;00m run_manager\u001b[38;5;241m.\u001b[39mon_chain_end(ret)\n\u001b[0;32m    439\u001b[0m \u001b[38;5;28;01melse\u001b[39;00m:\n\u001b[1;32m--> 440\u001b[0m     ret \u001b[38;5;241m=\u001b[39m \u001b[38;5;28;01mawait\u001b[39;00m \u001b[38;5;28mself\u001b[39m\u001b[38;5;241m.\u001b[39mafunc(\u001b[38;5;241m*\u001b[39margs, \u001b[38;5;241m*\u001b[39m\u001b[38;5;241m*\u001b[39mkwargs)\n\u001b[0;32m    441\u001b[0m \u001b[38;5;28;01mif\u001b[39;00m \u001b[38;5;28mself\u001b[39m\u001b[38;5;241m.\u001b[39mrecurse \u001b[38;5;129;01mand\u001b[39;00m \u001b[38;5;28misinstance\u001b[39m(ret, Runnable):\n\u001b[0;32m    442\u001b[0m     \u001b[38;5;28;01mreturn\u001b[39;00m \u001b[38;5;28;01mawait\u001b[39;00m ret\u001b[38;5;241m.\u001b[39mainvoke(\u001b[38;5;28minput\u001b[39m, config)\n",
      "Cell \u001b[1;32mIn[9], line 10\u001b[0m, in \u001b[0;36mexecute_step\u001b[1;34m(state)\u001b[0m\n\u001b[0;32m      7\u001b[0m     task \u001b[38;5;241m=\u001b[39m plan[\u001b[38;5;241m0\u001b[39m]\n\u001b[0;32m      8\u001b[0m     task_formatted \u001b[38;5;241m=\u001b[39m \u001b[38;5;124mf\u001b[39m\u001b[38;5;124m\"\"\"\u001b[39m\u001b[38;5;124mFor the following plan:\u001b[39m\n\u001b[0;32m      9\u001b[0m \u001b[38;5;132;01m{\u001b[39;00mplan_str\u001b[38;5;132;01m}\u001b[39;00m\u001b[38;5;130;01m\\n\u001b[39;00m\u001b[38;5;130;01m\\n\u001b[39;00m\u001b[38;5;124mYou are tasked with executing step \u001b[39m\u001b[38;5;132;01m{\u001b[39;00m\u001b[38;5;241m1\u001b[39m\u001b[38;5;132;01m}\u001b[39;00m\u001b[38;5;124m, \u001b[39m\u001b[38;5;132;01m{\u001b[39;00mtask\u001b[38;5;132;01m}\u001b[39;00m\u001b[38;5;124m.\u001b[39m\u001b[38;5;124m\"\"\"\u001b[39m\n\u001b[1;32m---> 10\u001b[0m     agent_response \u001b[38;5;241m=\u001b[39m \u001b[38;5;28;01mawait\u001b[39;00m agent_executor\u001b[38;5;241m.\u001b[39mainvoke(\n\u001b[0;32m     11\u001b[0m         {\u001b[38;5;124m\"\u001b[39m\u001b[38;5;124mmessages\u001b[39m\u001b[38;5;124m\"\u001b[39m: [(\u001b[38;5;124m\"\u001b[39m\u001b[38;5;124muser\u001b[39m\u001b[38;5;124m\"\u001b[39m, task_formatted)]}\n\u001b[0;32m     12\u001b[0m     )\n\u001b[0;32m     13\u001b[0m     \u001b[38;5;28;01mreturn\u001b[39;00m {\n\u001b[0;32m     14\u001b[0m         \u001b[38;5;124m\"\u001b[39m\u001b[38;5;124mpast_steps\u001b[39m\u001b[38;5;124m\"\u001b[39m: [(task, agent_response[\u001b[38;5;124m\"\u001b[39m\u001b[38;5;124mmessages\u001b[39m\u001b[38;5;124m\"\u001b[39m][\u001b[38;5;241m-\u001b[39m\u001b[38;5;241m1\u001b[39m]\u001b[38;5;241m.\u001b[39mcontent)],\n\u001b[0;32m     15\u001b[0m     }\n",
      "File \u001b[1;32md:\\Asus\\Ungdung\\Miniconda\\workspace\\envs\\LLMs_Agents\\lib\\site-packages\\langgraph\\pregel\\__init__.py:2850\u001b[0m, in \u001b[0;36mPregel.ainvoke\u001b[1;34m(self, input, config, stream_mode, output_keys, interrupt_before, interrupt_after, checkpoint_during, debug, **kwargs)\u001b[0m\n\u001b[0;32m   2848\u001b[0m \u001b[38;5;28;01melse\u001b[39;00m:\n\u001b[0;32m   2849\u001b[0m     chunks \u001b[38;5;241m=\u001b[39m []\n\u001b[1;32m-> 2850\u001b[0m \u001b[38;5;28;01masync\u001b[39;00m \u001b[38;5;28;01mfor\u001b[39;00m chunk \u001b[38;5;129;01min\u001b[39;00m \u001b[38;5;28mself\u001b[39m\u001b[38;5;241m.\u001b[39mastream(\n\u001b[0;32m   2851\u001b[0m     \u001b[38;5;28minput\u001b[39m,\n\u001b[0;32m   2852\u001b[0m     config,\n\u001b[0;32m   2853\u001b[0m     stream_mode\u001b[38;5;241m=\u001b[39mstream_mode,\n\u001b[0;32m   2854\u001b[0m     output_keys\u001b[38;5;241m=\u001b[39moutput_keys,\n\u001b[0;32m   2855\u001b[0m     interrupt_before\u001b[38;5;241m=\u001b[39minterrupt_before,\n\u001b[0;32m   2856\u001b[0m     interrupt_after\u001b[38;5;241m=\u001b[39minterrupt_after,\n\u001b[0;32m   2857\u001b[0m     checkpoint_during\u001b[38;5;241m=\u001b[39mcheckpoint_during,\n\u001b[0;32m   2858\u001b[0m     debug\u001b[38;5;241m=\u001b[39mdebug,\n\u001b[0;32m   2859\u001b[0m     \u001b[38;5;241m*\u001b[39m\u001b[38;5;241m*\u001b[39mkwargs,\n\u001b[0;32m   2860\u001b[0m ):\n\u001b[0;32m   2861\u001b[0m     \u001b[38;5;28;01mif\u001b[39;00m stream_mode \u001b[38;5;241m==\u001b[39m \u001b[38;5;124m\"\u001b[39m\u001b[38;5;124mvalues\u001b[39m\u001b[38;5;124m\"\u001b[39m:\n\u001b[0;32m   2862\u001b[0m         latest \u001b[38;5;241m=\u001b[39m chunk\n",
      "File \u001b[1;32md:\\Asus\\Ungdung\\Miniconda\\workspace\\envs\\LLMs_Agents\\lib\\site-packages\\langgraph\\pregel\\__init__.py:2754\u001b[0m, in \u001b[0;36mPregel.astream\u001b[1;34m(self, input, config, stream_mode, output_keys, interrupt_before, interrupt_after, checkpoint_during, debug, subgraphs)\u001b[0m\n\u001b[0;32m   2745\u001b[0m \u001b[38;5;28;01mif\u001b[39;00m loop\u001b[38;5;241m.\u001b[39mstatus \u001b[38;5;241m==\u001b[39m \u001b[38;5;124m\"\u001b[39m\u001b[38;5;124mout_of_steps\u001b[39m\u001b[38;5;124m\"\u001b[39m:\n\u001b[0;32m   2746\u001b[0m     msg \u001b[38;5;241m=\u001b[39m create_error_message(\n\u001b[0;32m   2747\u001b[0m         message\u001b[38;5;241m=\u001b[39m(\n\u001b[0;32m   2748\u001b[0m             \u001b[38;5;124mf\u001b[39m\u001b[38;5;124m\"\u001b[39m\u001b[38;5;124mRecursion limit of \u001b[39m\u001b[38;5;132;01m{\u001b[39;00mconfig[\u001b[38;5;124m'\u001b[39m\u001b[38;5;124mrecursion_limit\u001b[39m\u001b[38;5;124m'\u001b[39m]\u001b[38;5;132;01m}\u001b[39;00m\u001b[38;5;124m reached \u001b[39m\u001b[38;5;124m\"\u001b[39m\n\u001b[1;32m   (...)\u001b[0m\n\u001b[0;32m   2752\u001b[0m         error_code\u001b[38;5;241m=\u001b[39mErrorCode\u001b[38;5;241m.\u001b[39mGRAPH_RECURSION_LIMIT,\n\u001b[0;32m   2753\u001b[0m     )\n\u001b[1;32m-> 2754\u001b[0m     \u001b[38;5;28;01mraise\u001b[39;00m GraphRecursionError(msg)\n\u001b[0;32m   2755\u001b[0m \u001b[38;5;66;03m# set final channel values as run output\u001b[39;00m\n\u001b[0;32m   2756\u001b[0m \u001b[38;5;28;01mawait\u001b[39;00m run_manager\u001b[38;5;241m.\u001b[39mon_chain_end(loop\u001b[38;5;241m.\u001b[39moutput)\n",
      "\u001b[1;31mGraphRecursionError\u001b[0m: Recursion limit of 25 reached without hitting a stop condition. You can increase the limit by setting the `recursion_limit` config key.\nFor troubleshooting, visit: https://python.langchain.com/docs/troubleshooting/errors/GRAPH_RECURSION_LIMIT"
     ]
    }
   ],
   "source": [
    "config = {\"recursion_limit\": 50}\n",
    "inputs = {\n",
    "    \"input\": \"Solve for all real solutions x to the equation: sqrt(x -2) = 3\"}\n",
    "async for event in app.astream(inputs, config=config):\n",
    "    for k, v in event.items():\n",
    "        if k != \"__end__\":\n",
    "            print(v)"
   ]
  }
 ],
 "metadata": {
  "kernelspec": {
   "display_name": "LLMs_Agents",
   "language": "python",
   "name": "python3"
  },
  "language_info": {
   "codemirror_mode": {
    "name": "ipython",
    "version": 3
   },
   "file_extension": ".py",
   "mimetype": "text/x-python",
   "name": "python",
   "nbconvert_exporter": "python",
   "pygments_lexer": "ipython3",
   "version": "3.10.16"
  }
 },
 "nbformat": 4,
 "nbformat_minor": 5
}
