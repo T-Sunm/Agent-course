{
 "cells": [
  {
   "cell_type": "code",
   "execution_count": 22,
   "id": "bf18b952",
   "metadata": {},
   "outputs": [],
   "source": [
    "from pprint import pprint\n",
    "from langchain_core.messages import AIMessage, HumanMessage, SystemMessage\n",
    "from IPython.display import Image, display\n",
    "from langgraph.graph import MessagesState\n",
    "from langgraph.graph import StateGraph, START, END\n",
    "from langchain_core.messages import RemoveMessage\n",
    "from langchain_core.runnables import RunnableConfig"
   ]
  },
  {
   "cell_type": "code",
   "execution_count": 23,
   "id": "4baf52e1",
   "metadata": {},
   "outputs": [],
   "source": [
    "from langchain_openai import ChatOpenAI\n",
    "\n",
    "def multiply(a: int, b: int) -> int:\n",
    "    \"\"\"Multiply a and b.\n",
    "\n",
    "    Args:\n",
    "        a: first int\n",
    "        b: second int\n",
    "    \"\"\"\n",
    "    return a * b\n",
    "\n",
    "# This will be a tool\n",
    "def add(a: int, b: int) -> int:\n",
    "    \"\"\"Adds a and b.\n",
    "\n",
    "    Args:\n",
    "        a: first int\n",
    "        b: second int\n",
    "    \"\"\"\n",
    "    return a + b\n",
    "\n",
    "def divide(a: int, b: int) -> float:\n",
    "    \"\"\"Divide a by b.\n",
    "\n",
    "    Args:\n",
    "        a: first int\n",
    "        b: second int\n",
    "    \"\"\"\n",
    "    return a / b\n",
    "\n",
    "\n",
    "tools = [add, multiply, divide]\n",
    "llm: ChatOpenAI = ChatOpenAI(\n",
    "    base_url=\"http://127.0.0.1:1234/v1\",\n",
    "    temperature=0,\n",
    "    api_key=\"not-needed\"\n",
    ")\n",
    "llm_with_tools = llm.bind_tools(tools)"
   ]
  },
  {
   "cell_type": "code",
   "execution_count": 24,
   "id": "38b71a73",
   "metadata": {},
   "outputs": [
    {
     "data": {
      "image/png": "[encoded data removed]",
      "text/plain": [
       "<IPython.core.display.Image object>"
      ]
     },
     "metadata": {},
     "output_type": "display_data"
    }
   ],
   "source": [
    "from IPython.display import Image, display\n",
    "\n",
    "from langgraph.checkpoint.memory import MemorySaver\n",
    "from langgraph.graph import MessagesState\n",
    "from langgraph.graph import START, END, StateGraph\n",
    "from langgraph.prebuilt import tools_condition, ToolNode\n",
    "\n",
    "from langchain_core.messages import AIMessage, HumanMessage, SystemMessage\n",
    "\n",
    "# System message\n",
    "sys_msg = SystemMessage(\n",
    "    content=\"You are a helpful assistant tasked with performing arithmetic on a set of inputs.\")\n",
    "\n",
    "# Node\n",
    "def assistant(state: MessagesState):\n",
    "   return {\"messages\": [llm_with_tools.invoke([sys_msg] + state[\"messages\"])]}\n",
    "\n",
    "\n",
    "# Graph\n",
    "builder = StateGraph(MessagesState)\n",
    "\n",
    "# Define nodes: these do the work\n",
    "builder.add_node(\"assistant\", assistant)\n",
    "builder.add_node(\"tools\", ToolNode(tools))\n",
    "\n",
    "# Define edges: these determine the control flow\n",
    "builder.add_edge(START, \"assistant\")\n",
    "builder.add_conditional_edges(\n",
    "    \"assistant\",\n",
    "    # If the latest message (result) from assistant is a tool call -> tools_condition routes to tools\n",
    "    # If the latest message (result) from assistant is a not a tool call -> tools_condition routes to END\n",
    "    tools_condition,\n",
    ")\n",
    "builder.add_edge(\"tools\", \"assistant\")\n",
    "\n",
    "memory = MemorySaver()\n",
    "graph = builder.compile(checkpointer=MemorySaver())\n",
    "\n",
    "# Show\n",
    "display(Image(graph.get_graph(xray=True).draw_mermaid_png()))"
   ]
  },
  {
   "cell_type": "code",
   "execution_count": 25,
   "id": "7456c8fd",
   "metadata": {},
   "outputs": [
    {
     "name": "stdout",
     "output_type": "stream",
     "text": [
      "================================\u001b[1m Human Message \u001b[0m=================================\n",
      "\n",
      "Multiply 2 and 3\n",
      "==================================\u001b[1m Ai Message \u001b[0m==================================\n",
      "Tool Calls:\n",
      "  multiply (224985380)\n",
      " Call ID: 224985380\n",
      "  Args:\n",
      "    a: 2\n",
      "    b: 3\n",
      "=================================\u001b[1m Tool Message \u001b[0m=================================\n",
      "Name: multiply\n",
      "\n",
      "6\n",
      "==================================\u001b[1m Ai Message \u001b[0m==================================\n",
      "\n",
      "<think>\n",
      "Okay, the user asked to multiply 2 and 3. I see that the available functions include multiply, which takes two integers a and b. So I need to call the multiply function with a=2 and b=3. The tool call would be {\"name\": \"multiply\", \"arguments\": {\"a\": 2, \"b\": 3}}. Then, the result is 6, which is the correct product of 2 and 3. I should return that as the answer.\n",
      "</think>\n",
      "\n",
      "The result of multiplying 2 and 3 is 6.\n"
     ]
    }
   ],
   "source": [
    "# Input\n",
    "initial_input = {\"messages\": HumanMessage(content=\"Multiply 2 and 3\")}\n",
    "\n",
    "# Thread\n",
    "thread = {\"configurable\": {\"thread_id\": \"1\"}}\n",
    "\n",
    "# Run the graph until the first interruption\n",
    "for event in graph.stream(initial_input, thread, stream_mode=\"values\"):\n",
    "    event['messages'][-1].pretty_print()"
   ]
  },
  {
   "cell_type": "markdown",
   "id": "fed48c39",
   "metadata": {},
   "source": [
    "## Browsing history"
   ]
  },
  {
   "cell_type": "code",
   "execution_count": 26,
   "id": "4c5a7eb0",
   "metadata": {},
   "outputs": [
    {
     "data": {
      "text/plain": [
       "StateSnapshot(values={'messages': [HumanMessage(content='Multiply 2 and 3', additional_kwargs={}, response_metadata={}, id='d7d8db24-1289-4ee4-83c0-4e4c0a9f7f6d'), AIMessage(content='', additional_kwargs={'tool_calls': [{'id': '224985380', 'function': {'arguments': '{\"a\":2,\"b\":3}', 'name': 'multiply'}, 'type': 'function'}], 'refusal': None}, response_metadata={'token_usage': {'completion_tokens': 164, 'prompt_tokens': 352, 'total_tokens': 516, 'completion_tokens_details': None, 'prompt_tokens_details': None}, 'model_name': 'qwen3-1.7b', 'system_fingerprint': 'qwen3-1.7b', 'id': 'chatcmpl-3gxxk8g85w732vvf01y74k', 'service_tier': None, 'finish_reason': 'tool_calls', 'logprobs': None}, id='run--49a38467-a725-4d1b-84be-6315e4abf873-0', tool_calls=[{'name': 'multiply', 'args': {'a': 2, 'b': 3}, 'id': '224985380', 'type': 'tool_call'}], usage_metadata={'input_tokens': 352, 'output_tokens': 164, 'total_tokens': 516, 'input_token_details': {}, 'output_token_details': {}}), ToolMessage(content='6', name='multiply', id='daac9fd0-a2a8-4b61-9d8a-c2257d837cf0', tool_call_id='224985380'), AIMessage(content='<think>\\nOkay, the user asked to multiply 2 and 3. I see that the available functions include multiply, which takes two integers a and b. So I need to call the multiply function with a=2 and b=3. The tool call would be {\"name\": \"multiply\", \"arguments\": {\"a\": 2, \"b\": 3}}. Then, the result is 6, which is the correct product of 2 and 3. I should return that as the answer.\\n</think>\\n\\nThe result of multiplying 2 and 3 is 6.', additional_kwargs={'refusal': None}, response_metadata={'token_usage': {'completion_tokens': 119, 'prompt_tokens': 391, 'total_tokens': 510, 'completion_tokens_details': None, 'prompt_tokens_details': None}, 'model_name': 'qwen3-1.7b', 'system_fingerprint': 'qwen3-1.7b', 'id': 'chatcmpl-y8tjlqb37w4wke2y6adw', 'service_tier': None, 'finish_reason': 'stop', 'logprobs': None}, id='run--f3e9d8c2-a77a-4146-8639-57bfd2048af7-0', usage_metadata={'input_tokens': 391, 'output_tokens': 119, 'total_tokens': 510, 'input_token_details': {}, 'output_token_details': {}})]}, next=(), config={'configurable': {'thread_id': '1', 'checkpoint_ns': '', 'checkpoint_id': '1f046ab8-cb83-6d00-8003-7cd5eff0b512'}}, metadata={'source': 'loop', 'writes': {'assistant': {'messages': [AIMessage(content='<think>\\nOkay, the user asked to multiply 2 and 3. I see that the available functions include multiply, which takes two integers a and b. So I need to call the multiply function with a=2 and b=3. The tool call would be {\"name\": \"multiply\", \"arguments\": {\"a\": 2, \"b\": 3}}. Then, the result is 6, which is the correct product of 2 and 3. I should return that as the answer.\\n</think>\\n\\nThe result of multiplying 2 and 3 is 6.', additional_kwargs={'refusal': None}, response_metadata={'token_usage': {'completion_tokens': 119, 'prompt_tokens': 391, 'total_tokens': 510, 'completion_tokens_details': None, 'prompt_tokens_details': None}, 'model_name': 'qwen3-1.7b', 'system_fingerprint': 'qwen3-1.7b', 'id': 'chatcmpl-y8tjlqb37w4wke2y6adw', 'service_tier': None, 'finish_reason': 'stop', 'logprobs': None}, id='run--f3e9d8c2-a77a-4146-8639-57bfd2048af7-0', usage_metadata={'input_tokens': 391, 'output_tokens': 119, 'total_tokens': 510, 'input_token_details': {}, 'output_token_details': {}})]}}, 'step': 3, 'parents': {}, 'thread_id': '1'}, created_at='2025-06-11T10:05:06.272179+00:00', parent_config={'configurable': {'thread_id': '1', 'checkpoint_ns': '', 'checkpoint_id': '1f046ab8-bd52-6228-8002-50f23f200c83'}}, tasks=(), interrupts=())"
      ]
     },
     "execution_count": 26,
     "metadata": {},
     "output_type": "execute_result"
    }
   ],
   "source": [
    "graph.get_state(thread)"
   ]
  },
  {
   "cell_type": "code",
   "execution_count": 27,
   "id": "2dcc4085",
   "metadata": {},
   "outputs": [],
   "source": [
    "all_states = [s for s in graph.get_state_history(thread)]"
   ]
  },
  {
   "cell_type": "code",
   "execution_count": 28,
   "id": "2ca5c61d",
   "metadata": {},
   "outputs": [
    {
     "data": {
      "text/plain": [
       "5"
      ]
     },
     "execution_count": 28,
     "metadata": {},
     "output_type": "execute_result"
    }
   ],
   "source": [
    "len(all_states)"
   ]
  },
  {
   "cell_type": "code",
   "execution_count": 29,
   "id": "b082213a",
   "metadata": {},
   "outputs": [
    {
     "data": {
      "text/plain": [
       "[StateSnapshot(values={'messages': [HumanMessage(content='Multiply 2 and 3', additional_kwargs={}, response_metadata={}, id='d7d8db24-1289-4ee4-83c0-4e4c0a9f7f6d'), AIMessage(content='', additional_kwargs={'tool_calls': [{'id': '224985380', 'function': {'arguments': '{\"a\":2,\"b\":3}', 'name': 'multiply'}, 'type': 'function'}], 'refusal': None}, response_metadata={'token_usage': {'completion_tokens': 164, 'prompt_tokens': 352, 'total_tokens': 516, 'completion_tokens_details': None, 'prompt_tokens_details': None}, 'model_name': 'qwen3-1.7b', 'system_fingerprint': 'qwen3-1.7b', 'id': 'chatcmpl-3gxxk8g85w732vvf01y74k', 'service_tier': None, 'finish_reason': 'tool_calls', 'logprobs': None}, id='run--49a38467-a725-4d1b-84be-6315e4abf873-0', tool_calls=[{'name': 'multiply', 'args': {'a': 2, 'b': 3}, 'id': '224985380', 'type': 'tool_call'}], usage_metadata={'input_tokens': 352, 'output_tokens': 164, 'total_tokens': 516, 'input_token_details': {}, 'output_token_details': {}}), ToolMessage(content='6', name='multiply', id='daac9fd0-a2a8-4b61-9d8a-c2257d837cf0', tool_call_id='224985380'), AIMessage(content='<think>\\nOkay, the user asked to multiply 2 and 3. I see that the available functions include multiply, which takes two integers a and b. So I need to call the multiply function with a=2 and b=3. The tool call would be {\"name\": \"multiply\", \"arguments\": {\"a\": 2, \"b\": 3}}. Then, the result is 6, which is the correct product of 2 and 3. I should return that as the answer.\\n</think>\\n\\nThe result of multiplying 2 and 3 is 6.', additional_kwargs={'refusal': None}, response_metadata={'token_usage': {'completion_tokens': 119, 'prompt_tokens': 391, 'total_tokens': 510, 'completion_tokens_details': None, 'prompt_tokens_details': None}, 'model_name': 'qwen3-1.7b', 'system_fingerprint': 'qwen3-1.7b', 'id': 'chatcmpl-y8tjlqb37w4wke2y6adw', 'service_tier': None, 'finish_reason': 'stop', 'logprobs': None}, id='run--f3e9d8c2-a77a-4146-8639-57bfd2048af7-0', usage_metadata={'input_tokens': 391, 'output_tokens': 119, 'total_tokens': 510, 'input_token_details': {}, 'output_token_details': {}})]}, next=(), config={'configurable': {'thread_id': '1', 'checkpoint_ns': '', 'checkpoint_id': '1f046ab8-cb83-6d00-8003-7cd5eff0b512'}}, metadata={'source': 'loop', 'writes': {'assistant': {'messages': [AIMessage(content='<think>\\nOkay, the user asked to multiply 2 and 3. I see that the available functions include multiply, which takes two integers a and b. So I need to call the multiply function with a=2 and b=3. The tool call would be {\"name\": \"multiply\", \"arguments\": {\"a\": 2, \"b\": 3}}. Then, the result is 6, which is the correct product of 2 and 3. I should return that as the answer.\\n</think>\\n\\nThe result of multiplying 2 and 3 is 6.', additional_kwargs={'refusal': None}, response_metadata={'token_usage': {'completion_tokens': 119, 'prompt_tokens': 391, 'total_tokens': 510, 'completion_tokens_details': None, 'prompt_tokens_details': None}, 'model_name': 'qwen3-1.7b', 'system_fingerprint': 'qwen3-1.7b', 'id': 'chatcmpl-y8tjlqb37w4wke2y6adw', 'service_tier': None, 'finish_reason': 'stop', 'logprobs': None}, id='run--f3e9d8c2-a77a-4146-8639-57bfd2048af7-0', usage_metadata={'input_tokens': 391, 'output_tokens': 119, 'total_tokens': 510, 'input_token_details': {}, 'output_token_details': {}})]}}, 'step': 3, 'parents': {}, 'thread_id': '1'}, created_at='2025-06-11T10:05:06.272179+00:00', parent_config={'configurable': {'thread_id': '1', 'checkpoint_ns': '', 'checkpoint_id': '1f046ab8-bd52-6228-8002-50f23f200c83'}}, tasks=(), interrupts=()),\n",
       " StateSnapshot(values={'messages': [HumanMessage(content='Multiply 2 and 3', additional_kwargs={}, response_metadata={}, id='d7d8db24-1289-4ee4-83c0-4e4c0a9f7f6d'), AIMessage(content='', additional_kwargs={'tool_calls': [{'id': '224985380', 'function': {'arguments': '{\"a\":2,\"b\":3}', 'name': 'multiply'}, 'type': 'function'}], 'refusal': None}, response_metadata={'token_usage': {'completion_tokens': 164, 'prompt_tokens': 352, 'total_tokens': 516, 'completion_tokens_details': None, 'prompt_tokens_details': None}, 'model_name': 'qwen3-1.7b', 'system_fingerprint': 'qwen3-1.7b', 'id': 'chatcmpl-3gxxk8g85w732vvf01y74k', 'service_tier': None, 'finish_reason': 'tool_calls', 'logprobs': None}, id='run--49a38467-a725-4d1b-84be-6315e4abf873-0', tool_calls=[{'name': 'multiply', 'args': {'a': 2, 'b': 3}, 'id': '224985380', 'type': 'tool_call'}], usage_metadata={'input_tokens': 352, 'output_tokens': 164, 'total_tokens': 516, 'input_token_details': {}, 'output_token_details': {}}), ToolMessage(content='6', name='multiply', id='daac9fd0-a2a8-4b61-9d8a-c2257d837cf0', tool_call_id='224985380')]}, next=('assistant',), config={'configurable': {'thread_id': '1', 'checkpoint_ns': '', 'checkpoint_id': '1f046ab8-bd52-6228-8002-50f23f200c83'}}, metadata={'source': 'loop', 'writes': {'tools': {'messages': [ToolMessage(content='6', name='multiply', id='daac9fd0-a2a8-4b61-9d8a-c2257d837cf0', tool_call_id='224985380')]}}, 'step': 2, 'parents': {}, 'thread_id': '1'}, created_at='2025-06-11T10:05:04.783824+00:00', parent_config={'configurable': {'thread_id': '1', 'checkpoint_ns': '', 'checkpoint_id': '1f046ab8-bd4d-6399-8001-d58702946f6f'}}, tasks=(PregelTask(id='91b46182-52d3-114c-389a-9ce74e0f66d1', name='assistant', path=('__pregel_pull', 'assistant'), error=None, interrupts=(), state=None, result={'messages': [AIMessage(content='<think>\\nOkay, the user asked to multiply 2 and 3. I see that the available functions include multiply, which takes two integers a and b. So I need to call the multiply function with a=2 and b=3. The tool call would be {\"name\": \"multiply\", \"arguments\": {\"a\": 2, \"b\": 3}}. Then, the result is 6, which is the correct product of 2 and 3. I should return that as the answer.\\n</think>\\n\\nThe result of multiplying 2 and 3 is 6.', additional_kwargs={'refusal': None}, response_metadata={'token_usage': {'completion_tokens': 119, 'prompt_tokens': 391, 'total_tokens': 510, 'completion_tokens_details': None, 'prompt_tokens_details': None}, 'model_name': 'qwen3-1.7b', 'system_fingerprint': 'qwen3-1.7b', 'id': 'chatcmpl-y8tjlqb37w4wke2y6adw', 'service_tier': None, 'finish_reason': 'stop', 'logprobs': None}, id='run--f3e9d8c2-a77a-4146-8639-57bfd2048af7-0', usage_metadata={'input_tokens': 391, 'output_tokens': 119, 'total_tokens': 510, 'input_token_details': {}, 'output_token_details': {}})]}),), interrupts=()),\n",
       " StateSnapshot(values={'messages': [HumanMessage(content='Multiply 2 and 3', additional_kwargs={}, response_metadata={}, id='d7d8db24-1289-4ee4-83c0-4e4c0a9f7f6d'), AIMessage(content='', additional_kwargs={'tool_calls': [{'id': '224985380', 'function': {'arguments': '{\"a\":2,\"b\":3}', 'name': 'multiply'}, 'type': 'function'}], 'refusal': None}, response_metadata={'token_usage': {'completion_tokens': 164, 'prompt_tokens': 352, 'total_tokens': 516, 'completion_tokens_details': None, 'prompt_tokens_details': None}, 'model_name': 'qwen3-1.7b', 'system_fingerprint': 'qwen3-1.7b', 'id': 'chatcmpl-3gxxk8g85w732vvf01y74k', 'service_tier': None, 'finish_reason': 'tool_calls', 'logprobs': None}, id='run--49a38467-a725-4d1b-84be-6315e4abf873-0', tool_calls=[{'name': 'multiply', 'args': {'a': 2, 'b': 3}, 'id': '224985380', 'type': 'tool_call'}], usage_metadata={'input_tokens': 352, 'output_tokens': 164, 'total_tokens': 516, 'input_token_details': {}, 'output_token_details': {}})]}, next=('tools',), config={'configurable': {'thread_id': '1', 'checkpoint_ns': '', 'checkpoint_id': '1f046ab8-bd4d-6399-8001-d58702946f6f'}}, metadata={'source': 'loop', 'writes': {'assistant': {'messages': [AIMessage(content='', additional_kwargs={'tool_calls': [{'id': '224985380', 'function': {'arguments': '{\"a\":2,\"b\":3}', 'name': 'multiply'}, 'type': 'function'}], 'refusal': None}, response_metadata={'token_usage': {'completion_tokens': 164, 'prompt_tokens': 352, 'total_tokens': 516, 'completion_tokens_details': None, 'prompt_tokens_details': None}, 'model_name': 'qwen3-1.7b', 'system_fingerprint': 'qwen3-1.7b', 'id': 'chatcmpl-3gxxk8g85w732vvf01y74k', 'service_tier': None, 'finish_reason': 'tool_calls', 'logprobs': None}, id='run--49a38467-a725-4d1b-84be-6315e4abf873-0', tool_calls=[{'name': 'multiply', 'args': {'a': 2, 'b': 3}, 'id': '224985380', 'type': 'tool_call'}], usage_metadata={'input_tokens': 352, 'output_tokens': 164, 'total_tokens': 516, 'input_token_details': {}, 'output_token_details': {}})]}}, 'step': 1, 'parents': {}, 'thread_id': '1'}, created_at='2025-06-11T10:05:04.781813+00:00', parent_config={'configurable': {'thread_id': '1', 'checkpoint_ns': '', 'checkpoint_id': '1f046ab8-a6de-6f7e-8000-e1823df0fa0d'}}, tasks=(PregelTask(id='b0ca80fa-cb48-f41d-cab6-04d8846bd3aa', name='tools', path=('__pregel_pull', 'tools'), error=None, interrupts=(), state=None, result={'messages': [ToolMessage(content='6', name='multiply', id='daac9fd0-a2a8-4b61-9d8a-c2257d837cf0', tool_call_id='224985380')]}),), interrupts=()),\n",
       " StateSnapshot(values={'messages': [HumanMessage(content='Multiply 2 and 3', additional_kwargs={}, response_metadata={}, id='d7d8db24-1289-4ee4-83c0-4e4c0a9f7f6d')]}, next=('assistant',), config={'configurable': {'thread_id': '1', 'checkpoint_ns': '', 'checkpoint_id': '1f046ab8-a6de-6f7e-8000-e1823df0fa0d'}}, metadata={'source': 'loop', 'writes': None, 'step': 0, 'parents': {}, 'thread_id': '1'}, created_at='2025-06-11T10:05:02.429785+00:00', parent_config={'configurable': {'thread_id': '1', 'checkpoint_ns': '', 'checkpoint_id': '1f046ab8-a6dc-6865-bfff-8f1214f13601'}}, tasks=(PregelTask(id='aba96922-d81a-242f-8c19-5ae3a1ea5e47', name='assistant', path=('__pregel_pull', 'assistant'), error=None, interrupts=(), state=None, result={'messages': [AIMessage(content='', additional_kwargs={'tool_calls': [{'id': '224985380', 'function': {'arguments': '{\"a\":2,\"b\":3}', 'name': 'multiply'}, 'type': 'function'}], 'refusal': None}, response_metadata={'token_usage': {'completion_tokens': 164, 'prompt_tokens': 352, 'total_tokens': 516, 'completion_tokens_details': None, 'prompt_tokens_details': None}, 'model_name': 'qwen3-1.7b', 'system_fingerprint': 'qwen3-1.7b', 'id': 'chatcmpl-3gxxk8g85w732vvf01y74k', 'service_tier': None, 'finish_reason': 'tool_calls', 'logprobs': None}, id='run--49a38467-a725-4d1b-84be-6315e4abf873-0', tool_calls=[{'name': 'multiply', 'args': {'a': 2, 'b': 3}, 'id': '224985380', 'type': 'tool_call'}], usage_metadata={'input_tokens': 352, 'output_tokens': 164, 'total_tokens': 516, 'input_token_details': {}, 'output_token_details': {}})]}),), interrupts=()),\n",
       " StateSnapshot(values={'messages': []}, next=('__start__',), config={'configurable': {'thread_id': '1', 'checkpoint_ns': '', 'checkpoint_id': '1f046ab8-a6dc-6865-bfff-8f1214f13601'}}, metadata={'source': 'input', 'writes': {'__start__': {'messages': HumanMessage(content='Multiply 2 and 3', additional_kwargs={}, response_metadata={})}}, 'step': -1, 'parents': {}, 'thread_id': '1'}, created_at='2025-06-11T10:05:02.428784+00:00', parent_config=None, tasks=(PregelTask(id='7a5ab5e0-4a7b-66a6-3b23-e516d0974ee6', name='__start__', path=('__pregel_pull', '__start__'), error=None, interrupts=(), state=None, result={'messages': HumanMessage(content='Multiply 2 and 3', additional_kwargs={}, response_metadata={}, id='d7d8db24-1289-4ee4-83c0-4e4c0a9f7f6d')}),), interrupts=())]"
      ]
     },
     "execution_count": 29,
     "metadata": {},
     "output_type": "execute_result"
    }
   ],
   "source": [
    "all_states"
   ]
  },
  {
   "cell_type": "markdown",
   "id": "03c300cb",
   "metadata": {},
   "source": [
    "## Replay"
   ]
  },
  {
   "cell_type": "code",
   "execution_count": 30,
   "id": "af2202c3",
   "metadata": {},
   "outputs": [
    {
     "data": {
      "text/plain": [
       "StateSnapshot(values={'messages': [HumanMessage(content='Multiply 2 and 3', additional_kwargs={}, response_metadata={}, id='d7d8db24-1289-4ee4-83c0-4e4c0a9f7f6d')]}, next=('assistant',), config={'configurable': {'thread_id': '1', 'checkpoint_ns': '', 'checkpoint_id': '1f046ab8-a6de-6f7e-8000-e1823df0fa0d'}}, metadata={'source': 'loop', 'writes': None, 'step': 0, 'parents': {}, 'thread_id': '1'}, created_at='2025-06-11T10:05:02.429785+00:00', parent_config={'configurable': {'thread_id': '1', 'checkpoint_ns': '', 'checkpoint_id': '1f046ab8-a6dc-6865-bfff-8f1214f13601'}}, tasks=(PregelTask(id='aba96922-d81a-242f-8c19-5ae3a1ea5e47', name='assistant', path=('__pregel_pull', 'assistant'), error=None, interrupts=(), state=None, result={'messages': [AIMessage(content='', additional_kwargs={'tool_calls': [{'id': '224985380', 'function': {'arguments': '{\"a\":2,\"b\":3}', 'name': 'multiply'}, 'type': 'function'}], 'refusal': None}, response_metadata={'token_usage': {'completion_tokens': 164, 'prompt_tokens': 352, 'total_tokens': 516, 'completion_tokens_details': None, 'prompt_tokens_details': None}, 'model_name': 'qwen3-1.7b', 'system_fingerprint': 'qwen3-1.7b', 'id': 'chatcmpl-3gxxk8g85w732vvf01y74k', 'service_tier': None, 'finish_reason': 'tool_calls', 'logprobs': None}, id='run--49a38467-a725-4d1b-84be-6315e4abf873-0', tool_calls=[{'name': 'multiply', 'args': {'a': 2, 'b': 3}, 'id': '224985380', 'type': 'tool_call'}], usage_metadata={'input_tokens': 352, 'output_tokens': 164, 'total_tokens': 516, 'input_token_details': {}, 'output_token_details': {}})]}),), interrupts=())"
      ]
     },
     "execution_count": 30,
     "metadata": {},
     "output_type": "execute_result"
    }
   ],
   "source": [
    "to_replay = all_states[-2]\n",
    "to_replay"
   ]
  },
  {
   "cell_type": "code",
   "execution_count": 31,
   "id": "99cea2b7",
   "metadata": {},
   "outputs": [
    {
     "data": {
      "text/plain": [
       "{'messages': [HumanMessage(content='Multiply 2 and 3', additional_kwargs={}, response_metadata={}, id='d7d8db24-1289-4ee4-83c0-4e4c0a9f7f6d')]}"
      ]
     },
     "execution_count": 31,
     "metadata": {},
     "output_type": "execute_result"
    }
   ],
   "source": [
    "to_replay.values"
   ]
  },
  {
   "cell_type": "code",
   "execution_count": 32,
   "id": "5bd697d5",
   "metadata": {},
   "outputs": [
    {
     "data": {
      "text/plain": [
       "('assistant',)"
      ]
     },
     "execution_count": 32,
     "metadata": {},
     "output_type": "execute_result"
    }
   ],
   "source": [
    "to_replay.next"
   ]
  },
  {
   "cell_type": "code",
   "execution_count": 33,
   "id": "9b3b0934",
   "metadata": {},
   "outputs": [
    {
     "data": {
      "text/plain": [
       "{'configurable': {'thread_id': '1',\n",
       "  'checkpoint_ns': '',\n",
       "  'checkpoint_id': '1f046ab8-a6de-6f7e-8000-e1823df0fa0d'}}"
      ]
     },
     "execution_count": 33,
     "metadata": {},
     "output_type": "execute_result"
    }
   ],
   "source": [
    "to_replay.config"
   ]
  },
  {
   "cell_type": "code",
   "execution_count": 38,
   "id": "cf07a815",
   "metadata": {},
   "outputs": [
    {
     "name": "stdout",
     "output_type": "stream",
     "text": [
      "[HumanMessage(content='Multiply 2 and 3', additional_kwargs={}, response_metadata={}, id='d7d8db24-1289-4ee4-83c0-4e4c0a9f7f6d')]\n",
      "[HumanMessage(content='Multiply 2 and 3', additional_kwargs={}, response_metadata={}, id='d7d8db24-1289-4ee4-83c0-4e4c0a9f7f6d'), AIMessage(content='', additional_kwargs={'tool_calls': [{'id': '662234986', 'function': {'arguments': '{\"a\":2,\"b\":3}', 'name': 'multiply'}, 'type': 'function'}], 'refusal': None}, response_metadata={'token_usage': {'completion_tokens': 164, 'prompt_tokens': 352, 'total_tokens': 516, 'completion_tokens_details': None, 'prompt_tokens_details': None}, 'model_name': 'qwen3-1.7b', 'system_fingerprint': 'qwen3-1.7b', 'id': 'chatcmpl-rp1nkpj1jaqtv0hd37bng', 'service_tier': None, 'finish_reason': 'tool_calls', 'logprobs': None}, id='run--d65b5f92-d282-46f7-926f-ea3415ccb8b8-0', tool_calls=[{'name': 'multiply', 'args': {'a': 2, 'b': 3}, 'id': '662234986', 'type': 'tool_call'}], usage_metadata={'input_tokens': 352, 'output_tokens': 164, 'total_tokens': 516, 'input_token_details': {}, 'output_token_details': {}})]\n",
      "[HumanMessage(content='Multiply 2 and 3', additional_kwargs={}, response_metadata={}, id='d7d8db24-1289-4ee4-83c0-4e4c0a9f7f6d'), AIMessage(content='', additional_kwargs={'tool_calls': [{'id': '662234986', 'function': {'arguments': '{\"a\":2,\"b\":3}', 'name': 'multiply'}, 'type': 'function'}], 'refusal': None}, response_metadata={'token_usage': {'completion_tokens': 164, 'prompt_tokens': 352, 'total_tokens': 516, 'completion_tokens_details': None, 'prompt_tokens_details': None}, 'model_name': 'qwen3-1.7b', 'system_fingerprint': 'qwen3-1.7b', 'id': 'chatcmpl-rp1nkpj1jaqtv0hd37bng', 'service_tier': None, 'finish_reason': 'tool_calls', 'logprobs': None}, id='run--d65b5f92-d282-46f7-926f-ea3415ccb8b8-0', tool_calls=[{'name': 'multiply', 'args': {'a': 2, 'b': 3}, 'id': '662234986', 'type': 'tool_call'}], usage_metadata={'input_tokens': 352, 'output_tokens': 164, 'total_tokens': 516, 'input_token_details': {}, 'output_token_details': {}}), ToolMessage(content='6', name='multiply', id='7d15aa5e-22a9-4a07-911a-af285a0138ca', tool_call_id='662234986')]\n",
      "[HumanMessage(content='Multiply 2 and 3', additional_kwargs={}, response_metadata={}, id='d7d8db24-1289-4ee4-83c0-4e4c0a9f7f6d'), AIMessage(content='', additional_kwargs={'tool_calls': [{'id': '662234986', 'function': {'arguments': '{\"a\":2,\"b\":3}', 'name': 'multiply'}, 'type': 'function'}], 'refusal': None}, response_metadata={'token_usage': {'completion_tokens': 164, 'prompt_tokens': 352, 'total_tokens': 516, 'completion_tokens_details': None, 'prompt_tokens_details': None}, 'model_name': 'qwen3-1.7b', 'system_fingerprint': 'qwen3-1.7b', 'id': 'chatcmpl-rp1nkpj1jaqtv0hd37bng', 'service_tier': None, 'finish_reason': 'tool_calls', 'logprobs': None}, id='run--d65b5f92-d282-46f7-926f-ea3415ccb8b8-0', tool_calls=[{'name': 'multiply', 'args': {'a': 2, 'b': 3}, 'id': '662234986', 'type': 'tool_call'}], usage_metadata={'input_tokens': 352, 'output_tokens': 164, 'total_tokens': 516, 'input_token_details': {}, 'output_token_details': {}}), ToolMessage(content='6', name='multiply', id='7d15aa5e-22a9-4a07-911a-af285a0138ca', tool_call_id='662234986'), AIMessage(content='<think>\\nOkay, the user asked to multiply 2 and 3. I see that the available functions include multiply, which takes two integers a and b. So I need to call the multiply function with a=2 and b=3. The tool call would be {\"name\": \"multiply\", \"arguments\": {\"a\": 2, \"b\": 3}}. Then, the result is 6, which is the correct product of 2 and 3. I should return that as the answer.\\n</think>\\n\\nThe result of multiplying 2 and 3 is 6.', additional_kwargs={'refusal': None}, response_metadata={'token_usage': {'completion_tokens': 119, 'prompt_tokens': 391, 'total_tokens': 510, 'completion_tokens_details': None, 'prompt_tokens_details': None}, 'model_name': 'qwen3-1.7b', 'system_fingerprint': 'qwen3-1.7b', 'id': 'chatcmpl-v1dtwrr48yle8mcjiliwua', 'service_tier': None, 'finish_reason': 'stop', 'logprobs': None}, id='run--be1c8fa8-91a9-47e6-b010-2cadfb68d276-0', usage_metadata={'input_tokens': 391, 'output_tokens': 119, 'total_tokens': 510, 'input_token_details': {}, 'output_token_details': {}})]\n"
     ]
    }
   ],
   "source": [
    "for event in graph.stream(None, to_replay.config, stream_mode=\"values\"):\n",
    "    print(event['messages'])"
   ]
  },
  {
   "cell_type": "code",
   "execution_count": null,
   "id": "b603e2c2",
   "metadata": {},
   "outputs": [],
   "source": [
    "all_states = list(graph.get_state_history(thread))\n",
    "all_states"
   ]
  },
  {
   "cell_type": "code",
   "execution_count": null,
   "id": "c8c7dca6",
   "metadata": {},
   "outputs": [
    {
     "data": {
      "text/plain": [
       "StateSnapshot(values={'messages': [HumanMessage(content='Multiply 2 and 3', additional_kwargs={}, response_metadata={}, id='d7d8db24-1289-4ee4-83c0-4e4c0a9f7f6d')]}, next=('assistant',), config={'configurable': {'thread_id': '1', 'checkpoint_ns': '', 'checkpoint_id': '1f046ab8-a6de-6f7e-8000-e1823df0fa0d'}}, metadata={'source': 'loop', 'writes': None, 'step': 0, 'parents': {}, 'thread_id': '1'}, created_at='2025-06-11T10:05:02.429785+00:00', parent_config={'configurable': {'thread_id': '1', 'checkpoint_ns': '', 'checkpoint_id': '1f046ab8-a6dc-6865-bfff-8f1214f13601'}}, tasks=(PregelTask(id='aba96922-d81a-242f-8c19-5ae3a1ea5e47', name='assistant', path=('__pregel_pull', 'assistant'), error=None, interrupts=(), state=None, result={'messages': [AIMessage(content='', additional_kwargs={'tool_calls': [{'id': '224985380', 'function': {'arguments': '{\"a\":2,\"b\":3}', 'name': 'multiply'}, 'type': 'function'}], 'refusal': None}, response_metadata={'token_usage': {'completion_tokens': 164, 'prompt_tokens': 352, 'total_tokens': 516, 'completion_tokens_details': None, 'prompt_tokens_details': None}, 'model_name': 'qwen3-1.7b', 'system_fingerprint': 'qwen3-1.7b', 'id': 'chatcmpl-3gxxk8g85w732vvf01y74k', 'service_tier': None, 'finish_reason': 'tool_calls', 'logprobs': None}, id='run--49a38467-a725-4d1b-84be-6315e4abf873-0', tool_calls=[{'name': 'multiply', 'args': {'a': 2, 'b': 3}, 'id': '224985380', 'type': 'tool_call'}], usage_metadata={'input_tokens': 352, 'output_tokens': 164, 'total_tokens': 516, 'input_token_details': {}, 'output_token_details': {}})]}),), interrupts=())"
      ]
     },
     "execution_count": 40,
     "metadata": {},
     "output_type": "execute_result"
    }
   ],
   "source": [
    "to_fork = all_states[-2]\n",
    "to_fork"
   ]
  },
  {
   "cell_type": "code",
   "execution_count": 41,
   "id": "513deb9d",
   "metadata": {},
   "outputs": [
    {
     "data": {
      "text/plain": [
       "{'configurable': {'thread_id': '1',\n",
       "  'checkpoint_ns': '',\n",
       "  'checkpoint_id': '1f046ab8-a6de-6f7e-8000-e1823df0fa0d'}}"
      ]
     },
     "execution_count": 41,
     "metadata": {},
     "output_type": "execute_result"
    }
   ],
   "source": [
    "to_fork.config"
   ]
  },
  {
   "cell_type": "code",
   "execution_count": null,
   "id": "931927f1",
   "metadata": {},
   "outputs": [
    {
     "ename": "IndexError",
     "evalue": "list index out of range",
     "output_type": "error",
     "traceback": [
      "\u001b[1;31m---------------------------------------------------------------------------\u001b[0m",
      "\u001b[1;31mIndexError\u001b[0m                                Traceback (most recent call last)",
      "Cell \u001b[1;32mIn[49], line 1\u001b[0m\n\u001b[1;32m----> 1\u001b[0m \u001b[43mto_fork\u001b[49m\u001b[38;5;241;43m.\u001b[39;49m\u001b[43mvalues\u001b[49m\u001b[43m[\u001b[49m\u001b[38;5;124;43m\"\u001b[39;49m\u001b[38;5;124;43mmessages\u001b[39;49m\u001b[38;5;124;43m\"\u001b[39;49m\u001b[43m]\u001b[49m\u001b[43m[\u001b[49m\u001b[38;5;241;43m1\u001b[39;49m\u001b[43m]\u001b[49m\u001b[38;5;241m.\u001b[39mid\n",
      "\u001b[1;31mIndexError\u001b[0m: list index out of range"
     ]
    }
   ],
   "source": [
    "to_fork.values[\"messages\"][0].id"
   ]
  },
  {
   "cell_type": "code",
   "execution_count": 43,
   "id": "46e2678f",
   "metadata": {},
   "outputs": [],
   "source": [
    "fork_config = graph.update_state(\n",
    "    to_fork.config,\n",
    "    {\n",
    "        \"messages\": [HumanMessage(content='Multiply 5 and 3', id=to_fork.values[\"messages\"][0].id)]\n",
    "    }\n",
    ")"
   ]
  },
  {
   "cell_type": "code",
   "execution_count": 44,
   "id": "246fd7ee",
   "metadata": {},
   "outputs": [
    {
     "data": {
      "text/plain": [
       "{'configurable': {'thread_id': '1',\n",
       "  'checkpoint_ns': '',\n",
       "  'checkpoint_id': '1f046ad0-4c48-66ee-8001-0fb1f03c5dec'}}"
      ]
     },
     "execution_count": 44,
     "metadata": {},
     "output_type": "execute_result"
    }
   ],
   "source": [
    "fork_config"
   ]
  },
  {
   "cell_type": "markdown",
   "id": "f99011b0",
   "metadata": {},
   "source": [
    "We can see the current state of our agent has been updated with our fork."
   ]
  },
  {
   "cell_type": "code",
   "execution_count": 45,
   "id": "47ac2648",
   "metadata": {},
   "outputs": [
    {
     "data": {
      "text/plain": [
       "[HumanMessage(content='Multiply 5 and 3', additional_kwargs={}, response_metadata={}, id='d7d8db24-1289-4ee4-83c0-4e4c0a9f7f6d')]"
      ]
     },
     "execution_count": 45,
     "metadata": {},
     "output_type": "execute_result"
    }
   ],
   "source": [
    "all_states = [state for state in graph.get_state_history(thread)]\n",
    "all_states[0].values[\"messages\"]"
   ]
  },
  {
   "cell_type": "code",
   "execution_count": 46,
   "id": "c330adc6",
   "metadata": {},
   "outputs": [
    {
     "data": {
      "text/plain": [
       "StateSnapshot(values={'messages': [HumanMessage(content='Multiply 5 and 3', additional_kwargs={}, response_metadata={}, id='d7d8db24-1289-4ee4-83c0-4e4c0a9f7f6d')]}, next=('assistant',), config={'configurable': {'thread_id': '1', 'checkpoint_ns': '', 'checkpoint_id': '1f046ad0-4c48-66ee-8001-0fb1f03c5dec'}}, metadata={'source': 'update', 'writes': {'__start__': {'messages': [HumanMessage(content='Multiply 5 and 3', additional_kwargs={}, response_metadata={}, id='d7d8db24-1289-4ee4-83c0-4e4c0a9f7f6d')]}}, 'step': 1, 'parents': {}, 'thread_id': '1', 'checkpoint_ns': '', 'checkpoint_id': '1f046ab8-a6de-6f7e-8000-e1823df0fa0d'}, created_at='2025-06-11T10:15:37.176036+00:00', parent_config={'configurable': {'thread_id': '1', 'checkpoint_ns': '', 'checkpoint_id': '1f046ab8-a6de-6f7e-8000-e1823df0fa0d'}}, tasks=(PregelTask(id='43a3fc20-3ea4-40b7-a66a-572d05bd62f3', name='assistant', path=('__pregel_pull', 'assistant'), error=None, interrupts=(), state=None, result=None),), interrupts=())"
      ]
     },
     "execution_count": 46,
     "metadata": {},
     "output_type": "execute_result"
    }
   ],
   "source": [
    "graph.get_state({'configurable': {'thread_id': '1'}})"
   ]
  },
  {
   "cell_type": "code",
   "execution_count": 47,
   "id": "98c95cb4",
   "metadata": {},
   "outputs": [
    {
     "name": "stdout",
     "output_type": "stream",
     "text": [
      "================================\u001b[1m Human Message \u001b[0m=================================\n",
      "\n",
      "Multiply 5 and 3\n",
      "==================================\u001b[1m Ai Message \u001b[0m==================================\n",
      "Tool Calls:\n",
      "  multiply (739027580)\n",
      " Call ID: 739027580\n",
      "  Args:\n",
      "    a: 5\n",
      "    b: 3\n",
      "=================================\u001b[1m Tool Message \u001b[0m=================================\n",
      "Name: multiply\n",
      "\n",
      "15\n",
      "==================================\u001b[1m Ai Message \u001b[0m==================================\n",
      "\n",
      "<think>\n",
      "Okay, the user asked to multiply 5 and 3. I need to use the multiply function. Let me check the tools provided. The multiply function takes two integers, a and b. So I'll set a to 5 and b to 3. Then, when I call the function, it should return 15. The user probably wants the result of the multiplication, so the answer is 15.\n",
      "</think>\n",
      "\n",
      "The result of multiplying 5 and 3 is 15.\n"
     ]
    }
   ],
   "source": [
    "for event in graph.stream(None, fork_config, stream_mode=\"values\"):\n",
    "    event['messages'][-1].pretty_print()"
   ]
  },
  {
   "cell_type": "code",
   "execution_count": 48,
   "id": "06112c86",
   "metadata": {},
   "outputs": [
    {
     "data": {
      "text/plain": [
       "StateSnapshot(values={'messages': [HumanMessage(content='Multiply 5 and 3', additional_kwargs={}, response_metadata={}, id='d7d8db24-1289-4ee4-83c0-4e4c0a9f7f6d'), AIMessage(content='', additional_kwargs={'tool_calls': [{'id': '739027580', 'function': {'arguments': '{\"a\":5,\"b\":3}', 'name': 'multiply'}, 'type': 'function'}], 'refusal': None}, response_metadata={'token_usage': {'completion_tokens': 111, 'prompt_tokens': 352, 'total_tokens': 463, 'completion_tokens_details': None, 'prompt_tokens_details': None}, 'model_name': 'qwen3-1.7b', 'system_fingerprint': 'qwen3-1.7b', 'id': 'chatcmpl-yasedthk2pliyz2qhfsyot', 'service_tier': None, 'finish_reason': 'tool_calls', 'logprobs': None}, id='run--be09d7d5-24b3-4970-b18c-84337d10b259-0', tool_calls=[{'name': 'multiply', 'args': {'a': 5, 'b': 3}, 'id': '739027580', 'type': 'tool_call'}], usage_metadata={'input_tokens': 352, 'output_tokens': 111, 'total_tokens': 463, 'input_token_details': {}, 'output_token_details': {}}), ToolMessage(content='15', name='multiply', id='546483b2-ba27-4387-87cf-a543b8b5fa6b', tool_call_id='739027580'), AIMessage(content=\"<think>\\nOkay, the user asked to multiply 5 and 3. I need to use the multiply function. Let me check the tools provided. The multiply function takes two integers, a and b. So I'll set a to 5 and b to 3. Then, when I call the function, it should return 15. The user probably wants the result of the multiplication, so the answer is 15.\\n</think>\\n\\nThe result of multiplying 5 and 3 is 15.\", additional_kwargs={'refusal': None}, response_metadata={'token_usage': {'completion_tokens': 104, 'prompt_tokens': 392, 'total_tokens': 496, 'completion_tokens_details': None, 'prompt_tokens_details': None}, 'model_name': 'qwen3-1.7b', 'system_fingerprint': 'qwen3-1.7b', 'id': 'chatcmpl-ezk1jzyjzg51iwvu2nbgvb', 'service_tier': None, 'finish_reason': 'stop', 'logprobs': None}, id='run--0b566054-a895-4bae-a689-2b47bf42e490-0', usage_metadata={'input_tokens': 392, 'output_tokens': 104, 'total_tokens': 496, 'input_token_details': {}, 'output_token_details': {}})]}, next=(), config={'configurable': {'thread_id': '1', 'checkpoint_ns': '', 'checkpoint_id': '1f046ada-e665-61ef-8004-e66f3e71be34'}}, metadata={'source': 'loop', 'writes': {'assistant': {'messages': [AIMessage(content=\"<think>\\nOkay, the user asked to multiply 5 and 3. I need to use the multiply function. Let me check the tools provided. The multiply function takes two integers, a and b. So I'll set a to 5 and b to 3. Then, when I call the function, it should return 15. The user probably wants the result of the multiplication, so the answer is 15.\\n</think>\\n\\nThe result of multiplying 5 and 3 is 15.\", additional_kwargs={'refusal': None}, response_metadata={'token_usage': {'completion_tokens': 104, 'prompt_tokens': 392, 'total_tokens': 496, 'completion_tokens_details': None, 'prompt_tokens_details': None}, 'model_name': 'qwen3-1.7b', 'system_fingerprint': 'qwen3-1.7b', 'id': 'chatcmpl-ezk1jzyjzg51iwvu2nbgvb', 'service_tier': None, 'finish_reason': 'stop', 'logprobs': None}, id='run--0b566054-a895-4bae-a689-2b47bf42e490-0', usage_metadata={'input_tokens': 392, 'output_tokens': 104, 'total_tokens': 496, 'input_token_details': {}, 'output_token_details': {}})]}}, 'step': 4, 'parents': {}, 'thread_id': '1'}, created_at='2025-06-11T10:20:21.771313+00:00', parent_config={'configurable': {'thread_id': '1', 'checkpoint_ns': '', 'checkpoint_id': '1f046ada-d9f0-6f6b-8003-a1ecdd745238'}}, tasks=(), interrupts=())"
      ]
     },
     "execution_count": 48,
     "metadata": {},
     "output_type": "execute_result"
    }
   ],
   "source": [
    "graph.get_state({'configurable': {'thread_id': '1'}})"
   ]
  }
 ],
 "metadata": {
  "kernelspec": {
   "display_name": "learn_langraph",
   "language": "python",
   "name": "python3"
  },
  "language_info": {
   "codemirror_mode": {
    "name": "ipython",
    "version": 3
   },
   "file_extension": ".py",
   "mimetype": "text/x-python",
   "name": "python",
   "nbconvert_exporter": "python",
   "pygments_lexer": "ipython3",
   "version": "3.10.18"
  }
 },
 "nbformat": 4,
 "nbformat_minor": 5
}
