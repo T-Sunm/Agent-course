{
 "cells": [
  {
   "cell_type": "code",
   "execution_count": 1,
   "id": "02fd95ad",
   "metadata": {},
   "outputs": [],
   "source": [
    "import os\n",
    "os.environ[\"LANGSMITH_TRACING\"] = \"true\"\n",
    "os.environ[\"LANGSMITH_PROJECT\"] = \"langchain-academy\""
   ]
  },
  {
   "cell_type": "markdown",
   "id": "9f0a0cb2",
   "metadata": {},
   "source": [
    "## Define graph"
   ]
  },
  {
   "cell_type": "code",
   "execution_count": 2,
   "id": "5ccd5e30",
   "metadata": {},
   "outputs": [],
   "source": [
    "from langchain_openai import ChatOpenAI\n",
    "\n",
    "def multiply(a: int, b: int) -> int:\n",
    "    \"\"\"Multiply a and b.\n",
    "\n",
    "    Args:\n",
    "        a: first int\n",
    "        b: second int\n",
    "    \"\"\"\n",
    "    return a * b\n",
    "\n",
    "# This will be a tool\n",
    "def add(a: int, b: int) -> int:\n",
    "    \"\"\"Adds a and b.\n",
    "\n",
    "    Args:\n",
    "        a: first int\n",
    "        b: second int\n",
    "    \"\"\"\n",
    "    return a + b\n",
    "\n",
    "def divide(a: int, b: int) -> float:\n",
    "    \"\"\"Divide a and b.\n",
    "\n",
    "    Args:\n",
    "        a: first int\n",
    "        b: second int\n",
    "    \"\"\"\n",
    "    return a / b\n",
    "\n",
    "\n",
    "tools = [add, multiply, divide]\n",
    "llm: ChatOpenAI = ChatOpenAI(\n",
    "    base_url=\"http://127.0.0.1:1234/v1\",\n",
    "    temperature=0,\n",
    "    api_key=\"not-needed\"\n",
    ")\n",
    "llm_with_tools = llm.bind_tools(tools ,parallel_tool_calls=False)"
   ]
  },
  {
   "cell_type": "code",
   "execution_count": 3,
   "id": "0298e387",
   "metadata": {},
   "outputs": [],
   "source": [
    "from langgraph.graph import MessagesState\n",
    "from langchain_core.messages import HumanMessage, SystemMessage\n",
    "\n",
    "# System message\n",
    "sys_msg = SystemMessage(\n",
    "    content=\"You are a helpful assistant tasked with performing arithmetic on a set of inputs.\")\n",
    "\n",
    "# Node\n",
    "def assistant(state: MessagesState):\n",
    "    return {\"messages\": [llm_with_tools.invoke([sys_msg] + state[\"messages\"])]}"
   ]
  },
  {
   "cell_type": "markdown",
   "id": "3aed5563",
   "metadata": {},
   "source": [
    "We connect the Tools node back to the Assistant, forming a loop.\n",
    "\n",
    "- After the assistant node executes, tools_condition checks if the model's output is a tool call.\n",
    "- If it is a tool call, the flow is directed to the tools node.\n",
    "- The tools node connects back to assistant.\n",
    "- This loop continues as long as the model decides to call tools.\n",
    "- If the model response is not a tool call, the flow is directed to END, terminating the process."
   ]
  },
  {
   "cell_type": "code",
   "execution_count": 4,
   "id": "f32e0e24",
   "metadata": {},
   "outputs": [
    {
     "data": {
      "image/png": "[encoded data removed]",
      "text/plain": [
       "<IPython.core.display.Image object>"
      ]
     },
     "metadata": {},
     "output_type": "display_data"
    }
   ],
   "source": [
    "from langgraph.graph import START, StateGraph\n",
    "from langgraph.prebuilt import tools_condition\n",
    "from langgraph.prebuilt import ToolNode\n",
    "from IPython.display import Image, display\n",
    "\n",
    "builder = StateGraph(MessagesState)\n",
    "# Defines nodes: these do the work\n",
    "builder.add_node(assistant)\n",
    "builder.add_node(\"tools\", ToolNode(tools))\n",
    "\n",
    "# Define edges: these determine how the control flow moves\n",
    "builder.add_edge(START, \"assistant\")\n",
    "builder.add_conditional_edges(\n",
    "    \"assistant\",\n",
    "    # If the latest message (result) from assistant is a tool call -> tools_condition routes to tools\n",
    "    # If the latest message (result) from assistant is a not a tool call -> tools_condition routes to END\n",
    "    tools_condition,\n",
    ")\n",
    "\n",
    "builder.add_edge(\"tools\", \"assistant\")\n",
    "react_graph = builder.compile()\n",
    "\n",
    "display(Image(react_graph.get_graph(xray=True).draw_mermaid_png()))"
   ]
  },
  {
   "cell_type": "markdown",
   "id": "c526b8fc",
   "metadata": {},
   "source": [
    "## Memory"
   ]
  },
  {
   "cell_type": "code",
   "execution_count": null,
   "id": "c933dede",
   "metadata": {},
   "outputs": [
    {
     "name": "stderr",
     "output_type": "stream",
     "text": [
      "d:\\Asus\\Ungdung\\Miniconda\\workspace\\envs\\LLMs_Agents\\lib\\site-packages\\langsmith\\client.py:272: LangSmithMissingAPIKeyWarning: API key must be provided when using hosted LangSmith API\n",
      "  warnings.warn(\n",
      "Failed to multipart ingest runs: langsmith.utils.LangSmithAuthError: Authentication failed for https://api.smith.langchain.com/runs/multipart. HTTPError('401 Client Error: Unauthorized for url: https://api.smith.langchain.com/runs/multipart', '{\"error\":\"Unauthorized\"}\\n')trace=debd198e-7ad3-4a2c-9520-da71a10d8d56,id=debd198e-7ad3-4a2c-9520-da71a10d8d56\n",
      "Failed to send compressed multipart ingest: langsmith.utils.LangSmithAuthError: Authentication failed for https://api.smith.langchain.com/runs/multipart. HTTPError('401 Client Error: Unauthorized for url: https://api.smith.langchain.com/runs/multipart', '{\"error\":\"Unauthorized\"}\\n')trace=debd198e-7ad3-4a2c-9520-da71a10d8d56,id=f341d005-e0f9-48c9-ba3a-11f7caa08319; trace=debd198e-7ad3-4a2c-9520-da71a10d8d56,id=34221c2c-9b81-4b50-bd56-ae2ccfbbb044\n",
      "Failed to send compressed multipart ingest: langsmith.utils.LangSmithAuthError: Authentication failed for https://api.smith.langchain.com/runs/multipart. HTTPError('401 Client Error: Unauthorized for url: https://api.smith.langchain.com/runs/multipart', '{\"error\":\"Unauthorized\"}\\n')trace=debd198e-7ad3-4a2c-9520-da71a10d8d56,id=34221c2c-9b81-4b50-bd56-ae2ccfbbb044; trace=debd198e-7ad3-4a2c-9520-da71a10d8d56,id=a13014d5-bd83-4652-8984-882e37afda6b; trace=debd198e-7ad3-4a2c-9520-da71a10d8d56,id=a13014d5-bd83-4652-8984-882e37afda6b; trace=debd198e-7ad3-4a2c-9520-da71a10d8d56,id=f341d005-e0f9-48c9-ba3a-11f7caa08319; trace=debd198e-7ad3-4a2c-9520-da71a10d8d56,id=209b1c7a-c9b8-4a41-ba0c-ae0f5f5ebd18; trace=debd198e-7ad3-4a2c-9520-da71a10d8d56,id=32947fda-b196-4ca5-acb6-97e47d4d5cea; trace=debd198e-7ad3-4a2c-9520-da71a10d8d56,id=32947fda-b196-4ca5-acb6-97e47d4d5cea; trace=debd198e-7ad3-4a2c-9520-da71a10d8d56,id=209b1c7a-c9b8-4a41-ba0c-ae0f5f5ebd18; trace=debd198e-7ad3-4a2c-9520-da71a10d8d56,id=1ec89a16-c56a-40fa-8edd-cf1cb4fd60e7; trace=debd198e-7ad3-4a2c-9520-da71a10d8d56,id=978c11c4-1e42-4318-b83b-bf2d275e2f5d\n"
     ]
    },
    {
     "name": "stdout",
     "output_type": "stream",
     "text": [
      "================================\u001b[1m Human Message \u001b[0m=================================\n",
      "\n",
      "Add 3 and 4.\n",
      "==================================\u001b[1m Ai Message \u001b[0m==================================\n",
      "Tool Calls:\n",
      "  add (243548163)\n",
      " Call ID: 243548163\n",
      "  Args:\n",
      "    a: 3\n",
      "    b: 4\n",
      "=================================\u001b[1m Tool Message \u001b[0m=================================\n",
      "Name: add\n",
      "\n",
      "7\n",
      "==================================\u001b[1m Ai Message \u001b[0m==================================\n",
      "\n",
      "<think>\n",
      "Okay, the user asked to add 3 and 4. I used the add function with a=3 and b=4. The result was 7. Now I need to confirm that the answer is correct. 3 plus 4 equals 7, so yes, that's right. I should present the final answer as 7.\n",
      "</think>\n",
      "\n",
      "The result of adding 3 and 4 is **7**.\n"
     ]
    },
    {
     "name": "stderr",
     "output_type": "stream",
     "text": [
      "Failed to send compressed multipart ingest: langsmith.utils.LangSmithAuthError: Authentication failed for https://api.smith.langchain.com/runs/multipart. HTTPError('401 Client Error: Unauthorized for url: https://api.smith.langchain.com/runs/multipart', '{\"error\":\"Unauthorized\"}\\n')trace=debd198e-7ad3-4a2c-9520-da71a10d8d56,id=978c11c4-1e42-4318-b83b-bf2d275e2f5d; trace=debd198e-7ad3-4a2c-9520-da71a10d8d56,id=1561c91b-2b62-4bb7-8029-08e2c9585c4e; trace=debd198e-7ad3-4a2c-9520-da71a10d8d56,id=1561c91b-2b62-4bb7-8029-08e2c9585c4e; trace=debd198e-7ad3-4a2c-9520-da71a10d8d56,id=1ec89a16-c56a-40fa-8edd-cf1cb4fd60e7; trace=debd198e-7ad3-4a2c-9520-da71a10d8d56,id=debd198e-7ad3-4a2c-9520-da71a10d8d56; trace=371f038b-3994-476b-8102-277dccff169f,id=371f038b-3994-476b-8102-277dccff169f; trace=371f038b-3994-476b-8102-277dccff169f,id=080b2628-ee19-45b1-a20f-5e63eea69873; trace=371f038b-3994-476b-8102-277dccff169f,id=0f87c058-e94a-42c9-94c1-32dda28d19e8\n",
      "Failed to send compressed multipart ingest: langsmith.utils.LangSmithAuthError: Authentication failed for https://api.smith.langchain.com/runs/multipart. HTTPError('401 Client Error: Unauthorized for url: https://api.smith.langchain.com/runs/multipart', '{\"error\":\"Unauthorized\"}\\n')trace=371f038b-3994-476b-8102-277dccff169f,id=0f87c058-e94a-42c9-94c1-32dda28d19e8; trace=371f038b-3994-476b-8102-277dccff169f,id=307fe96f-7ebc-41a9-96ee-631b56a359f4; trace=371f038b-3994-476b-8102-277dccff169f,id=307fe96f-7ebc-41a9-96ee-631b56a359f4; trace=371f038b-3994-476b-8102-277dccff169f,id=080b2628-ee19-45b1-a20f-5e63eea69873; trace=371f038b-3994-476b-8102-277dccff169f,id=371f038b-3994-476b-8102-277dccff169f\n"
     ]
    }
   ],
   "source": [
    "messages = [HumanMessage(content=\"Add 3 and 4.\")]\n",
    "messages = react_graph.invoke({\"messages\": messages})\n",
    "for m in messages['messages']:\n",
    "    m.pretty_print()"
   ]
  },
  {
   "cell_type": "code",
   "execution_count": 6,
   "id": "a38a3929",
   "metadata": {},
   "outputs": [
    {
     "name": "stdout",
     "output_type": "stream",
     "text": [
      "================================\u001b[1m Human Message \u001b[0m=================================\n",
      "\n",
      "Multiply that by 2.\n",
      "==================================\u001b[1m Ai Message \u001b[0m==================================\n",
      "\n",
      "<think>\n",
      "Okay, let's see. The user said \"Multiply that by 2.\" Hmm, first I need to understand what \"that\" refers to. But wait, the context isn't provided here. Maybe there was a previous interaction where \"that\" was mentioned? Since this is a standalone query, perhaps there's missing information.\n",
      "\n",
      "Wait, maybe the user is referring to a previous calculation. But in the current prompt, there's no prior history. So without knowing what \"that\" refers to, I can't proceed. The functions available are add, multiply, and divide. However, the user's instruction is ambiguous because \"that\" isn't specified.\n",
      "\n",
      "I should check if there's any implicit context. For example, if \"that\" was mentioned in a previous step, but since this is a new query, maybe it's a mistake or missing information. The user might have intended to say something else, like \"Multiply 3 by 2\" but wrote \"that\" by accident.\n",
      "\n",
      "Alternatively, perhaps the user is referring to a variable or a number that was previously mentioned. But without any prior context, I can't assume that. In such cases, the best approach is to ask for clarification. However, since I can't ask questions here, I need to make an educated guess.\n",
      "\n",
      "Wait, maybe \"that\" refers to the result of a previous operation. For instance, if someone said \"Multiply 5 by 2,\" but the user wrote \"that\" instead. But without knowing what \"that\" is, it's impossible to proceed. \n",
      "\n",
      "Given that, the safest answer is to inform the user that there's insufficient information to perform the operation because \"that\" isn't specified. However, since I can't actually ask for clarification here, maybe I should respond that the query is incomplete. But according to the tools provided, I need to use the functions. \n",
      "\n",
      "Wait, perhaps the user intended to write a different phrase. For example, if they meant \"Multiply 3 by 2,\" but wrote \"that\" instead. In that case, the answer would be multiply 3 and 2. But since \"that\" is unclear, maybe the user made a typo. \n",
      "\n",
      "Alternatively, maybe \"that\" refers to a variable in the current context, but without knowing what it is, I can't use it. Therefore, the correct response is to point out that the query is incomplete due to the missing reference to \"that.\" But since the tools require function calls, perhaps there's another way.\n",
      "\n",
      "Wait, maybe the user is referring to a previous operation where \"that\" was used. For example, if in a prior step, they said something like \"Multiply 4 by 2 and that's the result,\" but here it's not clear. Without that context, I can't proceed. \n",
      "\n",
      "In conclusion, the query is incomplete as \"that\" refers to an entity not specified. Therefore, I should inform the user that there's insufficient information to perform the operation.\n",
      "</think>\n",
      "\n",
      "The instruction \"Multiply that by 2\" is ambiguous because \"that\" refers to an unspecified entity. Without additional context or a previous value for \"that,\" it's impossible to determine the exact operation to perform. Please provide more details or clarify what \"that\" refers to.\n"
     ]
    }
   ],
   "source": [
    "messages = [HumanMessage(content=\"Multiply that by 2.\")]\n",
    "messages = react_graph.invoke({\"messages\": messages})\n",
    "for m in messages['messages']:\n",
    "    m.pretty_print()"
   ]
  },
  {
   "cell_type": "code",
   "execution_count": null,
   "id": "5a05891c",
   "metadata": {},
   "outputs": [],
   "source": [
    "from langgraph.checkpoint.memory import MemorySaver\n",
    "memory = MemorySaver()\n",
    "react_graph_memory = builder.compile(checkpointer=memory)"
   ]
  },
  {
   "cell_type": "code",
   "execution_count": null,
   "id": "38294221",
   "metadata": {},
   "outputs": [],
   "source": []
  }
 ],
 "metadata": {
  "kernelspec": {
   "display_name": "LLMs_Agents",
   "language": "python",
   "name": "python3"
  },
  "language_info": {
   "codemirror_mode": {
    "name": "ipython",
    "version": 3
   },
   "file_extension": ".py",
   "mimetype": "text/x-python",
   "name": "python",
   "nbconvert_exporter": "python",
   "pygments_lexer": "ipython3",
   "version": "3.10.16"
  }
 },
 "nbformat": 4,
 "nbformat_minor": 5
}
