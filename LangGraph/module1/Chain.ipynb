{
 "cells": [
  {
   "cell_type": "markdown",
   "id": "e921d8d7",
   "metadata": {},
   "source": [
    "## Messages\n",
    "LangChain supports various message types, including 'HumanMessage', 'AIMessage', 'SystemMessage', and 'ToolMessage'. These represent a message from the user, from chat model, for the chat model to instruct behavior, and from a tool call.Let's create a list of messages.\n",
    "Each message can be supplied with a few things:\n",
    "- content - content of the message\n",
    "- name - optionally, a message author\n",
    "- response_metadata - optionally, a dict of metadata (e.g., often populated by model provider for AIMessages)"
   ]
  },
  {
   "cell_type": "code",
   "execution_count": 1,
   "id": "2b2da6d4",
   "metadata": {},
   "outputs": [
    {
     "name": "stdout",
     "output_type": "stream",
     "text": [
      "==================================\u001b[1m Ai Message \u001b[0m==================================\n",
      "Name: Model\n",
      "\n",
      "So you said you were researching ocean mammals?\n",
      "================================\u001b[1m Human Message \u001b[0m=================================\n",
      "Name: Lance\n",
      "\n",
      "Yes, that's right.\n",
      "==================================\u001b[1m Ai Message \u001b[0m==================================\n",
      "Name: Model\n",
      "\n",
      "Great, what would you like to learn about.\n",
      "================================\u001b[1m Human Message \u001b[0m=================================\n",
      "Name: Lance\n",
      "\n",
      "I want to learn about the best place to see Orcas in the US.\n"
     ]
    }
   ],
   "source": [
    "from pprint import pprint\n",
    "from langchain_core.messages import AIMessage, HumanMessage\n",
    "\n",
    "messages = [AIMessage(\n",
    "    content=f\"So you said you were researching ocean mammals?\", name=\"Model\")]\n",
    "messages.append(HumanMessage(content=f\"Yes, that's right.\", name=\"Lance\"))\n",
    "messages.append(\n",
    "    AIMessage(content=f\"Great, what would you like to learn about.\", name=\"Model\"))\n",
    "messages.append(HumanMessage(\n",
    "    content=f\"I want to learn about the best place to see Orcas in the US.\", name=\"Lance\"))\n",
    "\n",
    "for m in messages:\n",
    "    m.pretty_print()"
   ]
  },
  {
   "cell_type": "code",
   "execution_count": 2,
   "id": "5cb2e74d",
   "metadata": {},
   "outputs": [
    {
     "data": {
      "text/plain": [
       "langchain_core.messages.ai.AIMessage"
      ]
     },
     "execution_count": 2,
     "metadata": {},
     "output_type": "execute_result"
    }
   ],
   "source": [
    "from langchain_openai import ChatOpenAI\n",
    "llm: ChatOpenAI = ChatOpenAI(\n",
    "    base_url=\"http://127.0.0.1:1234/v1\",\n",
    "    temperature=0,\n",
    "    api_key=\"not-needed\"\n",
    ")\n",
    "result = llm.invoke(messages)\n",
    "type(result)"
   ]
  },
  {
   "cell_type": "code",
   "execution_count": 3,
   "id": "b8d8816d",
   "metadata": {},
   "outputs": [
    {
     "data": {
      "text/plain": [
       "AIMessage(content=\"<think>\\nOkay, the user wants to know the best place in the US to see orcas. Let me start by recalling where orcas are commonly seen. They're found along the coasts of Alaska, Washington, Oregon, and California. The Pacific Northwest is a hotspot.\\n\\nI should mention specific locations like the Olympic Peninsula, which has the Olympic National Park. There's also the San Juan Islands in Washington State, known for their orca populations. The Gulf of Alaska is another area with orcas, especially near the Kenai Peninsula.\\n\\nWait, the user might be interested in both coastal and inland areas. Maybe I should list the top regions and explain why each is good. For example, the Olympic National Park offers diverse wildlife, while the San Juan Islands have more concentrated orca sightings.\\n\\nI should also consider factors like accessibility, seasonality, and any specific activities they might enjoy. Maybe mention places like the Inside Passage for a scenic drive. Also, note that orcas are protected, so it's important to follow guidelines and respect their habitat.\\n\\nOh, and maybe include some tips on how to spot them, like looking for pods in open water or near coastal areas. Should I mention any particular parks or reserves? The Olympic National Park has the Orca Reserve, which is a designated area for orcas. That could be a key point.\\n\\nI need to make sure the information is accurate and up-to-date. Check if there are any recent changes in orca populations or sightings. Also, consider the user's interests—maybe they're planning a trip, so providing practical advice on how to get there and what to expect would be helpful.\\n\\nAvoiding too much technical jargon but still being informative. Maybe structure the answer by listing the top regions with brief explanations. Also, remind them about respecting wildlife and following local regulations.\\n</think>\\n\\nThat's an excellent question! Orcas (killer whales) are some of the most iconic marine mammals in the Pacific Northwest, and several U.S. locations are renowned for their orca populations. Here’s a breakdown of the best places to see them:\\n\\n---\\n\\n### **1. Olympic National Park (Washington State)**  \\n- **Why it's great**: The Olympic Peninsula is one of the most famous areas for orcas, especially in the **Olympic National Park**. The park’s rugged coastline and diverse marine life make it a top destination.  \\n- **Key spots**:  \\n  - **The Inside Passage**: A scenic route through the park where orcas often travel in pods.  \\n  - **Kenai Peninsula**: Known for its rich feeding grounds, especially near the Kenai Inlet.  \\n- **Tips**: Visit during peak season (late spring to early fall) and follow park guidelines to minimize disruption.\\n\\n---\\n\\n### **2. San Juan Islands (Washington State)**  \\n- **Why it's great**: This island group is a hotspot for orcas, particularly in the **San Juan Channel**. The islands are also known for their stunning natural beauty and mild climate.  \\n- **Key spots**:  \\n  - **Cape Perimeter**: A popular spot for spotting orcas in open water.  \\n  - **Hood Canal**: A calm, scenic area where orcas often gather.  \\n- **Tips**: Check with local guides for the best viewing times and routes.\\n\\n---\\n\\n### **3. Gulf of Alaska (Alaska)**  \\n- **Why it's great**: The Gulf of Alaska is home to some of the most genetically diverse orca populations in the world.  \\n- **Key spots**:  \\n  - **Kenai Peninsula**: A prime location for orcas, especially during the summer months.  \\n  - **Prince William Sound**: Known for its rich marine ecosystems and frequent orca sightings.  \\n- **Tips**: Look for guided tours or wildlife viewing opportunities (e.g., *The Orca Project*).\\n\\n---\\n\\n### **4. Northern California (Oregon & Washington)**  \\n- **Why it's great**: The **Northwest Passage** in Oregon and Washington offers excellent opportunities to see orcas, especially near the coast.  \\n- **Key spots**:  \\n  - **Coastal waters of Oregon**: Orca sightings are common along the Oregon coastline.  \\n  - **San Francisco Bay Area**: While less known for orcas, the region is a popular spot for whale watching.  \\n- **Tips**: Use apps like *Whale Watch* or check local guides for real-time sightings.\\n\\n---\\n\\n### **5. The Inside Passage (Washington State)**  \\n- **Why it's great**: This route connects Alaska to Vancouver and is one of the most iconic areas for orca viewing.  \\n- **Key spots**:  \\n  - **The Olympic Peninsula**: As mentioned earlier, this area offers some of the best orca sightings in the U.S.  \\n  - **Hood Canal**: A calm, scenic spot with frequent orca activity.  \\n- **Tips**: Combine your trip with a visit to nearby national parks for a full marine wildlife experience.\\n\\n---\\n\\n### **What to Expect**  \\n- **Seasons**: Orcas are most active during spring and summer when they hunt for salmon.  \\n- **Weather**: Rainy seasons can make waters calmer, which is ideal for spotting orcas.  \\n- **Safety**: Always follow local guidelines (e.g., no feeding, keep a safe distance) to protect the animals.\\n\\n---\\n\\n### **Tips for Viewing Orcas**  \\n1. **Use guided tours**: Many wildlife tours offer expert-led trips with better chances of seeing orcas.  \\n2. **Check local resources**: Apps like *Whale Watch* or websites like [National Oceanic and Atmospheric Administration (NOAA)](https://www.noaa.gov) provide real-time sightings.  \\n3. **Respect the animals**: Keep a safe distance, avoid loud noises, and never feed them.\\n\\n---\\n\\nIf you’re planning a trip, consider combining orca viewing with other activities like hiking in Olympic National Park or kayaking in the San Juan Islands for a memorable experience! Let me know if you’d like help with specific itineraries or tips! 🐟🌊\", additional_kwargs={'refusal': None}, response_metadata={'token_usage': {'completion_tokens': 1240, 'prompt_tokens': 64, 'total_tokens': 1304, 'completion_tokens_details': None, 'prompt_tokens_details': None}, 'model_name': 'qwen3-1.7b', 'system_fingerprint': 'qwen3-1.7b', 'id': 'chatcmpl-a5nkydi7jia7cmsz2c1jt', 'finish_reason': 'stop', 'logprobs': None}, id='run--2a57a42e-1d11-40b5-8cd8-f74cac854269-0', usage_metadata={'input_tokens': 64, 'output_tokens': 1240, 'total_tokens': 1304, 'input_token_details': {}, 'output_token_details': {}})"
      ]
     },
     "execution_count": 3,
     "metadata": {},
     "output_type": "execute_result"
    }
   ],
   "source": [
    "result"
   ]
  },
  {
   "cell_type": "code",
   "execution_count": 4,
   "id": "ddc5d810",
   "metadata": {},
   "outputs": [
    {
     "data": {
      "text/plain": [
       "{'token_usage': {'completion_tokens': 1240,\n",
       "  'prompt_tokens': 64,\n",
       "  'total_tokens': 1304,\n",
       "  'completion_tokens_details': None,\n",
       "  'prompt_tokens_details': None},\n",
       " 'model_name': 'qwen3-1.7b',\n",
       " 'system_fingerprint': 'qwen3-1.7b',\n",
       " 'id': 'chatcmpl-a5nkydi7jia7cmsz2c1jt',\n",
       " 'finish_reason': 'stop',\n",
       " 'logprobs': None}"
      ]
     },
     "execution_count": 4,
     "metadata": {},
     "output_type": "execute_result"
    }
   ],
   "source": [
    "result.response_metadata"
   ]
  },
  {
   "cell_type": "code",
   "execution_count": 5,
   "id": "92453466",
   "metadata": {},
   "outputs": [],
   "source": [
    "def multiply(a: int, b: int) -> int:\n",
    "    \"\"\"Multiply a and b.\n",
    "\n",
    "    Args:\n",
    "        a: first int\n",
    "        b: second int\n",
    "    \"\"\"\n",
    "    return a * b\n",
    "\n",
    "\n",
    "llm_with_tools = llm.bind_tools([multiply])"
   ]
  },
  {
   "cell_type": "code",
   "execution_count": 6,
   "id": "ea900ce7",
   "metadata": {},
   "outputs": [],
   "source": [
    "tool_call = llm_with_tools.invoke(\n",
    "    [HumanMessage(content=f\"What is 2 multiplied by 3\", name=\"Lance\")])"
   ]
  },
  {
   "cell_type": "code",
   "execution_count": 7,
   "id": "db3660b8",
   "metadata": {},
   "outputs": [
    {
     "data": {
      "text/plain": [
       "[{'name': 'multiply',\n",
       "  'args': {'a': 2, 'b': 3},\n",
       "  'id': '285126909',\n",
       "  'type': 'tool_call'}]"
      ]
     },
     "execution_count": 7,
     "metadata": {},
     "output_type": "execute_result"
    }
   ],
   "source": [
    "tool_call.tool_calls"
   ]
  },
  {
   "cell_type": "markdown",
   "id": "1985ea6f",
   "metadata": {},
   "source": [
    "## Using messages as state"
   ]
  },
  {
   "cell_type": "code",
   "execution_count": null,
   "id": "e4b91eb8",
   "metadata": {},
   "outputs": [],
   "source": [
    "from langgraph.graph import MessagesState\n",
    "from typing import Annotated\n",
    "from langgraph.graph.message import add_messages\n",
    "from langchain_core.messages import AnyMessage\n",
    "from typing_extensions import TypedDict\n",
    "\n",
    "# C1\n",
    "class MessagesState(TypedDict):\n",
    "    messages: Annotated[list[AnyMessage], add_messages]\n",
    "\n",
    "# C2 : less verbose than defining a custom TypedDict\n",
    "class MessagesState(MessagesState):\n",
    "    # Add any keys needed beyond messages, which is pre-built\n",
    "    pass"
   ]
  },
  {
   "cell_type": "code",
   "execution_count": 10,
   "id": "1d8db91c",
   "metadata": {},
   "outputs": [
    {
     "data": {
      "text/plain": [
       "[AIMessage(content='Hello! How can I assist you?', additional_kwargs={}, response_metadata={}, name='Model', id='39a897d4-aec6-4407-bf20-09efca678771'),\n",
       " HumanMessage(content=\"I'm looking for information on marine biology.\", additional_kwargs={}, response_metadata={}, name='Lance', id='3a4ea5e4-5548-41cb-a9b9-3bde1033e9e3'),\n",
       " AIMessage(content='Sure, I can help with that. What specifically are you interested in?', additional_kwargs={}, response_metadata={}, name='Model', id='77d44a76-9c80-43bb-99dc-98ddcf62556a')]"
      ]
     },
     "execution_count": 10,
     "metadata": {},
     "output_type": "execute_result"
    }
   ],
   "source": [
    "initial_messages = [AIMessage(content=\"Hello! How can I assist you?\", name=\"Model\"),\n",
    "                    HumanMessage(\n",
    "                        content=\"I'm looking for information on marine biology.\", name=\"Lance\")\n",
    "                    ]\n",
    "\n",
    "# New message to add\n",
    "new_message = AIMessage(\n",
    "    content=\"Sure, I can help with that. What specifically are you interested in?\", name=\"Model\")\n",
    "\n",
    "# Test\n",
    "add_messages(initial_messages, new_message)"
   ]
  },
  {
   "cell_type": "markdown",
   "id": "1bbd3df3",
   "metadata": {},
   "source": [
    "## Our graph"
   ]
  },
  {
   "cell_type": "code",
   "execution_count": 11,
   "id": "f24331b1",
   "metadata": {},
   "outputs": [
    {
     "data": {
      "image/png": "[encoded data removed]",
      "text/plain": [
       "<IPython.core.display.Image object>"
      ]
     },
     "metadata": {},
     "output_type": "display_data"
    }
   ],
   "source": [
    "from IPython.display import Image, display\n",
    "from langgraph.graph import StateGraph, START, END\n",
    "\n",
    "# Node : đầu vào luôn là dictionary để mình trích xuất \"messages\"\n",
    "def tool_calling_llm(state:MessagesState):\n",
    "    return {\"messages\": [llm_with_tools.invoke(state[\"messages\"])]}\n",
    "\n",
    "builder = StateGraph(MessagesState)\n",
    "builder.add_node(\"tool_calling_llm\", tool_calling_llm)\n",
    "builder.add_edge(START, \"tool_calling_llm\")\n",
    "builder.add_edge(\"tool_calling_llm\", END)\n",
    "\n",
    "graph = builder.compile()\n",
    "display(Image(graph.get_graph().draw_mermaid_png()))"
   ]
  },
  {
   "cell_type": "code",
   "execution_count": 12,
   "id": "f1a14c18",
   "metadata": {},
   "outputs": [
    {
     "name": "stdout",
     "output_type": "stream",
     "text": [
      "================================\u001b[1m Human Message \u001b[0m=================================\n",
      "\n",
      "Hello!\n",
      "==================================\u001b[1m Ai Message \u001b[0m==================================\n",
      "\n",
      "<think>\n",
      "Okay, the user said \"Hello!\" which is a greeting. I need to respond appropriately. Since there's no specific question or request here, I should just greet them back and offer help. Let me check if any functions are needed. The available function is multiply, but they didn't ask for a math problem. So, no function call required. Just a friendly response.\n",
      "</think>\n",
      "\n",
      "Hello! How can I assist you today?\n"
     ]
    }
   ],
   "source": [
    "messages = graph.invoke({\"messages\": HumanMessage(content=\"Hello!\")})\n",
    "for m in messages['messages']:\n",
    "    m.pretty_print()"
   ]
  },
  {
   "cell_type": "code",
   "execution_count": 13,
   "id": "583b8b62",
   "metadata": {},
   "outputs": [
    {
     "name": "stdout",
     "output_type": "stream",
     "text": [
      "================================\u001b[1m Human Message \u001b[0m=================================\n",
      "\n",
      "Multiply 2 and 3\n",
      "==================================\u001b[1m Ai Message \u001b[0m==================================\n",
      "Tool Calls:\n",
      "  multiply (553223065)\n",
      " Call ID: 553223065\n",
      "  Args:\n",
      "    a: 2\n",
      "    b: 3\n"
     ]
    }
   ],
   "source": [
    "messages = graph.invoke({\"messages\": HumanMessage(content=\"Multiply 2 and 3\")})\n",
    "for m in messages['messages']:\n",
    "    m.pretty_print()"
   ]
  }
 ],
 "metadata": {
  "kernelspec": {
   "display_name": "LLMs_Agents",
   "language": "python",
   "name": "python3"
  },
  "language_info": {
   "codemirror_mode": {
    "name": "ipython",
    "version": 3
   },
   "file_extension": ".py",
   "mimetype": "text/x-python",
   "name": "python",
   "nbconvert_exporter": "python",
   "pygments_lexer": "ipython3",
   "version": "3.10.16"
  }
 },
 "nbformat": 4,
 "nbformat_minor": 5
}
