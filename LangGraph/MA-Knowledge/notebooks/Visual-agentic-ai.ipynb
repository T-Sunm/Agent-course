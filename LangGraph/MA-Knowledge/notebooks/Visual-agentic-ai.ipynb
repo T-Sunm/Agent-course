{
 "cells": [
  {
   "cell_type": "code",
   "execution_count": 69,
   "metadata": {},
   "outputs": [],
   "source": [
    "import base64\n",
    "from typing import Annotated, List, Union\n",
    "\n",
    "# import magic\n",
    "import requests\n",
    "from IPython.display import Image, display\n",
    "from langchain_community.tools import (\n",
    "    ArxivQueryRun,\n",
    "    DuckDuckGoSearchResults,\n",
    "    WikipediaQueryRun,\n",
    ")\n",
    "from langchain_community.utilities import (\n",
    "    ArxivAPIWrapper,\n",
    "    DuckDuckGoSearchAPIWrapper,\n",
    "    WikipediaAPIWrapper,\n",
    ")\n",
    "from langchain_core.messages import AnyMessage, HumanMessage, SystemMessage\n",
    "from langchain_core.prompts import ChatPromptTemplate\n",
    "from langchain_openai import ChatOpenAI\n",
    "from langgraph.graph import END, START, StateGraph\n",
    "from langgraph.graph import MessagesState\n",
    "from langgraph.graph.message import add_messages\n",
    "from langgraph.prebuilt import ToolNode, create_react_agent, tools_condition\n",
    "from pydantic import BaseModel, Field\n",
    "from typing_extensions import TypedDict\n",
    "\n",
    "\n",
    "from typing import Optional\n",
    "\n",
    "from langchain_core.callbacks import (\n",
    "    AsyncCallbackManagerForToolRun,\n",
    "    CallbackManagerForToolRun,\n",
    ")\n",
    "from langchain_core.tools import BaseTool\n",
    "from langchain_core.tools import tool\n",
    "from langchain_core.tools.base import ArgsSchema\n",
    "from pydantic import BaseModel, Field\n",
    "from langgraph.checkpoint.memory import MemorySaver\n",
    "# from ultralytics import YOLO"
   ]
  },
  {
   "cell_type": "code",
   "execution_count": 70,
   "metadata": {},
   "outputs": [],
   "source": [
    "llm: ChatOpenAI = ChatOpenAI(\n",
    "    base_url=\"http://127.0.0.1:1234/v1\",\n",
    "    temperature=0,\n",
    "    api_key=\"not-needed\"\n",
    ")"
   ]
  },
  {
   "cell_type": "markdown",
   "metadata": {},
   "source": [
    "## Tools"
   ]
  },
  {
   "cell_type": "code",
   "execution_count": 71,
   "metadata": {},
   "outputs": [
    {
     "data": {
      "text/plain": [
       "[{'snippet': 'Unlike traditional positional embeddings, such as sinusoidal encodings used in transformers, which represent the absolute positions of tokens, Rotary Positional Embeddings (RoPE) are designed...',\n",
       "  'title': 'A Deep Dive into Rotary Positional Embeddings (RoPE): Theory and ...',\n",
       "  'link': 'https://medium.com/@parulsharmmaa/understanding-rotary-positional-embedding-and-implementation-9f4ad8b03e32'},\n",
       " {'snippet': 'One of the most popular types of encoding used today in LLMs are Rotary Positional Encodings (RoPE), that rotate the queries and keys based on their relative distance. A common belief is that RoPE is useful because it helps to decay token dependency as relative distance increases.',\n",
       "  'title': '[2410.06205] Round and Round We Go! What makes Rotary Positional ...',\n",
       "  'link': 'https://arxiv.org/abs/2410.06205'},\n",
       " {'snippet': 'The nn.Embedding layer acts as a lookup table mapping integer indices to vectors of dimension dim.In the forward() function, the positions tensor has shape (batch_size, seq_len, dim), matching the input x.The positional encoding is added to x before the attention operation.. Learned positional encodings adapt to data characteristics through training, potentially offering better performance ...',\n",
       "  'title': 'Positional Encodings in Transformer Models',\n",
       "  'link': 'https://machinelearningmastery.com/positional-encodings-in-transformer-models/'},\n",
       " {'snippet': 'RoPE also called Rotary Position Embedding is an elegant way to encode relative position information without explicitly storing positional difference. It blends the concepts of absolute and relative positional encodings in a clever way. Absolute Positional Encoding: Each token is assigned a unique positional embedding.',\n",
       "  'title': 'Unraveling RoPE: Encoding Relative Positions in Transformers with ...',\n",
       "  'link': 'https://mwauracollins.github.io/posts/2025-01-24-rope/'}]"
      ]
     },
     "execution_count": 71,
     "metadata": {},
     "output_type": "execute_result"
    }
   ],
   "source": [
    "arxiv_wrapper = ArxivAPIWrapper(\n",
    "    top_k_results=2, doc_content_chars_max=1000\n",
    ")\n",
    "arxiv = ArxivQueryRun(\n",
    "    api_wrapper=arxiv_wrapper,\n",
    "    description=\"Search for papers on a given topic using Arxiv\"\n",
    ")\n",
    "arxiv.invoke(\"Rotary Positional Encoding\")\n",
    "wikipedia_wrapper = WikipediaAPIWrapper()\n",
    "wikipedia = WikipediaQueryRun(\n",
    "    api_wrapper=wikipedia_wrapper,\n",
    "    description=\"Search for information on a given topic using Wikipedia\"\n",
    ")\n",
    "wikipedia.invoke(\"machine learning\")\n",
    "duck_search = DuckDuckGoSearchResults(output_format=\"list\")\n",
    "duck_search.invoke(\"Rotary Positional Encoding\")"
   ]
  },
  {
   "cell_type": "code",
   "execution_count": 72,
   "metadata": {},
   "outputs": [
    {
     "data": {
      "text/plain": [
       "{'arxiv': ArxivQueryRun(description='Search for papers on a given topic using Arxiv', api_wrapper=ArxivAPIWrapper(arxiv_search=<class 'arxiv.Search'>, arxiv_exceptions=(<class 'arxiv.ArxivError'>, <class 'arxiv.UnexpectedEmptyPageError'>, <class 'arxiv.HTTPError'>), top_k_results=2, ARXIV_MAX_QUERY_LENGTH=300, continue_on_failure=False, load_max_docs=100, load_all_available_meta=False, doc_content_chars_max=1000)),\n",
       " 'wikipedia': WikipediaQueryRun(description='Search for information on a given topic using Wikipedia', api_wrapper=WikipediaAPIWrapper(wiki_client=<module 'wikipedia' from 'd:\\\\Asus\\\\Ungdung\\\\Miniconda\\\\workspace\\\\envs\\\\learn_langraph\\\\lib\\\\site-packages\\\\wikipedia\\\\__init__.py'>, top_k_results=3, lang='en', load_all_available_meta=False, doc_content_chars_max=4000)),\n",
       " 'duckduckgo_results_json': DuckDuckGoSearchResults(api_wrapper=DuckDuckGoSearchAPIWrapper(region='wt-wt', safesearch='moderate', time='y', max_results=5, backend='auto', source='text'), output_format='list')}"
      ]
     },
     "execution_count": 72,
     "metadata": {},
     "output_type": "execute_result"
    }
   ],
   "source": [
    "tools = [arxiv, wikipedia, duck_search]\n",
    "tools_by_name = {tool.name: tool for tool in tools}\n",
    "\n",
    "tools_by_name"
   ]
  },
  {
   "cell_type": "markdown",
   "metadata": {},
   "source": [
    "## Generate Agent"
   ]
  },
  {
   "cell_type": "markdown",
   "metadata": {},
   "source": [
    "### State"
   ]
  },
  {
   "cell_type": "code",
   "execution_count": 73,
   "metadata": {},
   "outputs": [],
   "source": [
    "class Analyst(BaseModel):\n",
    "    name: str = Field(\n",
    "        description=\"Name of the analyst.\"\n",
    "    )\n",
    "    description: str = Field(\n",
    "        description=\"Description of the analyst focus, concerns, and motives.\",\n",
    "    )\n",
    "    tools: List[str]\n",
    "    \n",
    "    @property\n",
    "    def affiliation(self) -> str:\n",
    "        return f\"{self.name} Agent for VQA\"\n",
    "    \n",
    "    @property\n",
    "    def persona(self) -> str:\n",
    "        return f\"Name: {self.affiliation}\\nTools: {self.tools}\\nDescription: {self.description}\""
   ]
  },
  {
   "cell_type": "code",
   "execution_count": 74,
   "metadata": {},
   "outputs": [],
   "source": [
    "class GenerateAnalystsState(TypedDict):\n",
    "    question: str\n",
    "    image: str\n",
    "    analysts: List[Analyst] "
   ]
  },
  {
   "cell_type": "markdown",
   "metadata": {},
   "source": [
    "### Node"
   ]
  },
  {
   "cell_type": "code",
   "execution_count": 75,
   "metadata": {},
   "outputs": [],
   "source": [
    "def create_analysts(state: GenerateAnalystsState):\n",
    "    analyst_specs = {\n",
    "        \"junior\": {\n",
    "            \"name\": \"Junior\",\n",
    "            \"description\": \"A junior analyst who uses only the vanilla VQA model to generate candidate answers.\",\n",
    "            \"tools\": [\"arxiv\"]\n",
    "        },\n",
    "        \"senior\": {\n",
    "            \"name\": \"Senior\",\n",
    "            \"description\": \"A senior analyst who uses both the VQA model and KB retrieval to enhance answers.\",\n",
    "            \"tools\": [\"arxiv\", \"wikipedia\"]\n",
    "        },\n",
    "        \"manager\": {\n",
    "            \"name\": \"Manager\",\n",
    "            \"description\": \"A manager analyst with access to all tools including LLM-based knowledge generation.\",\n",
    "            \"tools\": [\"arxiv\", \"wikipedia\", \"duckduckgo_results_json\"]\n",
    "        }\n",
    "    }\n",
    "\n",
    "    # Tạo list các Analyst object\n",
    "    analysts = [Analyst(**spec) for spec in analyst_specs.values()]\n",
    "\n",
    "    return {\"analysts\": analysts}"
   ]
  },
  {
   "cell_type": "markdown",
   "metadata": {},
   "source": [
    "### Build graph"
   ]
  },
  {
   "cell_type": "code",
   "execution_count": 76,
   "metadata": {},
   "outputs": [
    {
     "data": {
      "image/png": "[encoded data removed]",
      "text/plain": [
       "<IPython.core.display.Image object>"
      ]
     },
     "metadata": {},
     "output_type": "display_data"
    }
   ],
   "source": [
    "# Add nodes and edges\n",
    "builder = StateGraph(GenerateAnalystsState)\n",
    "builder.add_node(\"create_analysts\", create_analysts)\n",
    "\n",
    "builder.add_edge(START, \"create_analysts\")\n",
    "builder.add_edge(\"create_analysts\", END)\n",
    "\n",
    "# Compile\n",
    "memory = MemorySaver()\n",
    "gen_analysis_graph = builder.compile(checkpointer=memory)\n",
    "\n",
    "# View\n",
    "display(Image(gen_analysis_graph.get_graph(xray=1).draw_mermaid_png()))"
   ]
  },
  {
   "cell_type": "code",
   "execution_count": 77,
   "metadata": {},
   "outputs": [],
   "source": [
    "thread = {\"configurable\": {\"thread_id\": \"1\"}}\n",
    "analysts = gen_analysis_graph.invoke({\"question\": \"What color is the dog's fur?\"}, thread)"
   ]
  },
  {
   "cell_type": "code",
   "execution_count": 78,
   "metadata": {},
   "outputs": [
    {
     "data": {
      "text/plain": [
       "Analyst(name='Manager', description='A manager analyst with access to all tools including LLM-based knowledge generation.', tools=['arxiv', 'wikipedia', 'duckduckgo_results_json'])"
      ]
     },
     "execution_count": 78,
     "metadata": {},
     "output_type": "execute_result"
    }
   ],
   "source": [
    "analysts[\"analysts\"][2]"
   ]
  },
  {
   "cell_type": "markdown",
   "metadata": {},
   "source": [
    "## Visual-research Agent"
   ]
  },
  {
   "cell_type": "markdown",
   "metadata": {},
   "source": [
    "### State"
   ]
  },
  {
   "cell_type": "code",
   "execution_count": 79,
   "metadata": {},
   "outputs": [],
   "source": [
    "class ViReAgentState(MessagesState):\n",
    "    question: str\n",
    "    image: str\n",
    "    analyst: Analyst\n",
    "    number_of_steps: int = 0\n",
    "    answer_candidate: Optional[str] = \"\"\n",
    "    LLM_Knowledge: Optional[str] = \"\"\n",
    "    KBs_Knowledge: Optional[List[str]] = []"
   ]
  },
  {
   "cell_type": "markdown",
   "metadata": {},
   "source": [
    "### Node"
   ]
  },
  {
   "cell_type": "code",
   "execution_count": 80,
   "metadata": {},
   "outputs": [],
   "source": [
    "from langchain_core.runnables import RunnableConfig\n",
    "import json\n",
    "from langchain_core.messages import ToolMessage\n",
    "\n",
    "\n",
    "# Define our tool node\n",
    "def tool_node(state: ViReAgentState):\n",
    "    outputs = []\n",
    "    print(state[\"messages\"][-1].tool_calls)\n",
    "    for tool_call in state[\"messages\"][-1].tool_calls:\n",
    "        tool_result = tools_by_name[tool_call[\"name\"]].invoke(\n",
    "            tool_call[\"args\"])\n",
    "        outputs.append(\n",
    "            ToolMessage(\n",
    "                content=json.dumps(tool_result),\n",
    "                name=tool_call[\"name\"],\n",
    "                tool_call_id=tool_call[\"id\"],\n",
    "            )\n",
    "        )\n",
    "    return {\"messages\": outputs}\n",
    "\n",
    "\n",
    "# Define the node that calls the model\n",
    "def call_vire_agent(\n",
    "    state: ViReAgentState,\n",
    "    config: RunnableConfig,\n",
    "):\n",
    "    tools = state[\"analyst\"].tools\n",
    "    tools = [tools_by_name[tool] for tool in tools]\n",
    "    llm: ChatOpenAI = ChatOpenAI(\n",
    "        base_url=\"http://127.0.0.1:1234/v1\",\n",
    "        temperature=0,\n",
    "        api_key=\"not-needed\"\n",
    "    ).bind_tools(tools)\n",
    "    system_prompt = SystemMessage(\n",
    "        content=(\n",
    "            f\"You are a {state['analyst'].affiliation}.\\n\\n\"\n",
    "            \"INSTRUCTIONS:\\n\"\n",
    "            \"- Assist ONLY with research-related tasks, DO NOT do any math\\n\"\n",
    "            \"- After you're done with your tasks, respond to the supervisor directly\\n\"\n",
    "            \"- Respond ONLY with the results of your work, do NOT include ANY other text.\"\n",
    "        )\n",
    "    )\n",
    "    question_prompt = HumanMessage(content=f\"question: {state['question']}\")\n",
    "    history = state.get(\"messages\", [])\n",
    "    sequence = [system_prompt, question_prompt] + history\n",
    "\n",
    "    response = llm.invoke(sequence, config)\n",
    "    return {\"messages\": [response]}\n",
    "\n",
    "# Define the conditional edge that determines whether to continue or not\n",
    "def should_continue(state: ViReAgentState):\n",
    "    messages = state[\"messages\"]\n",
    "    last_message = messages[-1]\n",
    "    # If there is no function call, then we finish\n",
    "    if not last_message.tool_calls:\n",
    "        return \"end\"\n",
    "    # Otherwise if there is, we continue\n",
    "    else:\n",
    "        return \"continue\""
   ]
  },
  {
   "cell_type": "markdown",
   "metadata": {},
   "source": [
    "### Graph"
   ]
  },
  {
   "cell_type": "code",
   "execution_count": 81,
   "metadata": {},
   "outputs": [
    {
     "data": {
      "image/png": "[encoded data removed]",
      "text/plain": [
       "<IPython.core.display.Image object>"
      ]
     },
     "metadata": {},
     "output_type": "display_data"
    }
   ],
   "source": [
    "from langgraph.graph import StateGraph, END\n",
    "from IPython.display import Image, display\n",
    "\n",
    "# Define a new graph\n",
    "workflow = StateGraph(ViReAgentState)\n",
    "\n",
    "# Define the two nodes we will cycle between\n",
    "workflow.add_node(\"agent\", call_vire_agent)\n",
    "workflow.add_node(\"tools\", tool_node)\n",
    "\n",
    "# Set start node : start -> agent\n",
    "workflow.set_entry_point(\"agent\")\n",
    "# We now add a conditional edge\n",
    "workflow.add_conditional_edges(\n",
    "    \"agent\",\n",
    "    should_continue,\n",
    "    {\n",
    "        \"continue\": \"tools\",\n",
    "        \"end\": END,\n",
    "    },\n",
    ")\n",
    "\n",
    "# We now add a normal edge from ‘tools‘ to ‘agent‘.\n",
    "# This means that after ‘tools‘ is called, ‘agent‘ node is called next.\n",
    "workflow.add_edge(\"tools\", \"agent\")\n",
    "\n",
    "# Now we can compile and visualize our graph\n",
    "ViReAgent = workflow.compile()\n",
    "display(Image(ViReAgent.get_graph().draw_mermaid_png()))"
   ]
  },
  {
   "cell_type": "code",
   "execution_count": 82,
   "metadata": {},
   "outputs": [
    {
     "name": "stdout",
     "output_type": "stream",
     "text": [
      "==================================\u001b[1m Ai Message \u001b[0m==================================\n",
      "Tool Calls:\n",
      "  duckduckgo_results_json (525454551)\n",
      " Call ID: 525454551\n",
      "  Args:\n",
      "    query: current weather in Vietnam\n",
      "[{'name': 'duckduckgo_results_json', 'args': {'query': 'current weather in Vietnam'}, 'id': '525454551', 'type': 'tool_call'}]\n",
      "=================================\u001b[1m Tool Message \u001b[0m=================================\n",
      "Name: duckduckgo_results_json\n",
      "\n",
      "[{\"snippet\": \"The weather today in Vietnam will be very hot with temperatures reaching 34 \\u00b0 C. During the evening and night time the temperatures will drop to 26 \\u00b0 C. For deep dive information check out our hourly weather forecast for today down the page.\", \"title\": \"Vietnam local weather (live): today, hourly weather\", \"link\": \"https://www.weather25.com/asia/vietnam?page=today\"}, {\"snippet\": \"Vietnam - Detailed weather forecast for today. Comprehensive weather report for today for all locations.\", \"title\": \"Weather today - Vietnam\", \"link\": \"https://www.weather-atlas.com/en/vietnam\"}, {\"snippet\": \"Scattered clouds. (Weather station: Ha Noi Airport, Vietnam). See more current weather\", \"title\": \"Hanoi, Vietnam 14 day weather forecast - timeanddate.com\", \"link\": \"https://www.timeanddate.com/weather/vietnam/hanoi/ext\"}, {\"snippet\": \"Stay updated with the latest weather conditions in Vietnam. Get real-time information on temperature, humidity, and overall climate to plan your day effectively.\", \"title\": \"Real-Time Vietnam Weather Conditions & Forecast | Temperature, Humidity\", \"link\": \"https://www.aqi.in/weather/vietnam\"}]\n",
      "==================================\u001b[1m Ai Message \u001b[0m==================================\n",
      "\n",
      "<think>\n",
      "Okay, the user asked about the weather in Vietnam. I used the DuckDuckGo search to find current info. The results show that today's weather is very hot with temperatures up to 34°C during the day and dropping to 26°C at night. There are links to different sources like Weather25.com, WeatherAtLAS, timeanddate.com, and AQI India. I should summarize the key points from the first two results since they're the most relevant. Mention the high temperatures, the temperature drop, and suggest checking the links for more details. Make sure to keep it clear and concise.\n",
      "</think>\n",
      "\n",
      "The current weather in Vietnam is characterized by hot temperatures reaching up to 34°C during the day, with nighttime temperatures dropping to 26°C. For detailed forecasts and updates, you can refer to the following sources:  \n",
      "- [Vietnam hourly weather](https://www.weather25.com/asia/vietnam?page=today)  \n",
      "- [Comprehensive weather report](https://www.weather-atlas.com/en/vietnam)  \n",
      "\n",
      "Let me know if you need further specifics!\n"
     ]
    }
   ],
   "source": [
    "agent = analysts[\"analysts\"][2]\n",
    "# Create our initial message dictionary\n",
    "# \"messages\": [(\"user\", \"How is the weather in Vietnam?\")] (optional)\n",
    "inputs = {\"analyst\": agent, \"question\": \"How is the weather in Vietnam?\"}\n",
    "\n",
    "for state in ViReAgent.stream(inputs, stream_mode=\"values\"):\n",
    "\n",
    "    if state[\"messages\"]:\n",
    "        last_message = state[\"messages\"][-1]\n",
    "        last_message.pretty_print()"
   ]
  }
 ],
 "metadata": {
  "kernelspec": {
   "display_name": "learn_langraph",
   "language": "python",
   "name": "python3"
  },
  "language_info": {
   "codemirror_mode": {
    "name": "ipython",
    "version": 3
   },
   "file_extension": ".py",
   "mimetype": "text/x-python",
   "name": "python",
   "nbconvert_exporter": "python",
   "pygments_lexer": "ipython3",
   "version": "3.10.18"
  }
 },
 "nbformat": 4,
 "nbformat_minor": 2
}
