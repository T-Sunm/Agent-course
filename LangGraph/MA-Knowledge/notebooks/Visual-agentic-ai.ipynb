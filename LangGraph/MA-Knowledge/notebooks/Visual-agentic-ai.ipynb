{
 "cells": [
  {
   "cell_type": "code",
   "execution_count": 17,
   "metadata": {},
   "outputs": [],
   "source": [
    "import sys\n",
    "from pathlib import Path\n",
    "\n",
    "# Lấy thư mục làm việc hiện tại\n",
    "current_dir = Path.cwd()\n",
    "\n",
    "# Đi lên một cấp\n",
    "parent_dir = current_dir.parent\n",
    "\n",
    "sys.path.insert(0, str(parent_dir))\n"
   ]
  },
  {
   "cell_type": "code",
   "execution_count": 18,
   "metadata": {},
   "outputs": [],
   "source": [
    "import base64\n",
    "from typing import Annotated, List, Union\n",
    "\n",
    "# import magic\n",
    "import requests\n",
    "from IPython.display import Image, display\n",
    "from langchain_community.tools import (\n",
    "    ArxivQueryRun,\n",
    "    DuckDuckGoSearchResults,\n",
    "    WikipediaQueryRun,\n",
    ")\n",
    "from langchain_community.utilities import (\n",
    "    ArxivAPIWrapper,\n",
    "    DuckDuckGoSearchAPIWrapper,\n",
    "    WikipediaAPIWrapper,\n",
    ")\n",
    "from langchain_core.messages import AnyMessage, HumanMessage, SystemMessage\n",
    "from langchain_core.prompts import ChatPromptTemplate\n",
    "from langchain_openai import ChatOpenAI\n",
    "from langgraph.graph import END, START, StateGraph\n",
    "from langgraph.graph import MessagesState\n",
    "from langgraph.graph.message import add_messages\n",
    "from langgraph.prebuilt import ToolNode, create_react_agent, tools_condition\n",
    "from pydantic import BaseModel, Field\n",
    "from typing_extensions import TypedDict\n",
    "\n",
    "\n",
    "from typing import Optional\n",
    "\n",
    "from langchain_core.callbacks import (\n",
    "    AsyncCallbackManagerForToolRun,\n",
    "    CallbackManagerForToolRun,\n",
    ")\n",
    "from langchain_core.tools import BaseTool\n",
    "from langchain_core.tools import tool\n",
    "from langchain_core.tools.base import ArgsSchema\n",
    "from pydantic import BaseModel, Field\n",
    "from langgraph.checkpoint.memory import MemorySaver\n",
    "from tools.dam import run_full_image_vqa\n",
    "import operator\n",
    "# from ultralytics import YOLO"
   ]
  },
  {
   "cell_type": "code",
   "execution_count": 19,
   "metadata": {},
   "outputs": [],
   "source": [
    "llm: ChatOpenAI = ChatOpenAI(\n",
    "    base_url=\"http://127.0.0.1:1234/v1\",\n",
    "    temperature=0,\n",
    "    api_key=\"not-needed\"\n",
    ")"
   ]
  },
  {
   "cell_type": "markdown",
   "metadata": {},
   "source": [
    "## Tools"
   ]
  },
  {
   "cell_type": "markdown",
   "metadata": {},
   "source": [
    "### KBs tools"
   ]
  },
  {
   "cell_type": "code",
   "execution_count": 20,
   "metadata": {},
   "outputs": [],
   "source": [
    "arxiv_wrapper = ArxivAPIWrapper(\n",
    "    top_k_results=2, doc_content_chars_max=1000\n",
    ")\n",
    "arxiv = ArxivQueryRun(\n",
    "    api_wrapper=arxiv_wrapper,\n",
    "    description=\"Search for papers on a given topic using Arxiv\"\n",
    ")\n",
    "# arxiv.invoke(\"Rotary Positional Encoding\")\n",
    "wikipedia_wrapper = WikipediaAPIWrapper()\n",
    "wikipedia = WikipediaQueryRun(\n",
    "    api_wrapper=wikipedia_wrapper,\n",
    "    description=\"Search for information on a given topic using Wikipedia\"\n",
    ")\n",
    "# wikipedia.invoke(\"machine learning\")\n",
    "duck_search = DuckDuckGoSearchResults(output_format=\"list\")\n",
    "# duck_search.invoke(\"Rotary Positional Encoding\")"
   ]
  },
  {
   "cell_type": "markdown",
   "metadata": {},
   "source": [
    "### VQA tool"
   ]
  },
  {
   "cell_type": "code",
   "execution_count": 21,
   "metadata": {},
   "outputs": [],
   "source": [
    "from langchain_core.tools import tool\n",
    "\n",
    "@tool\n",
    "def vqa_tool(image_url: str, questin: str) -> str:\n",
    "    \"\"\"return the candidate answer with probability of the question\"\"\"\n",
    "    return run_full_image_vqa(image_url, question)\n"
   ]
  },
  {
   "cell_type": "code",
   "execution_count": 22,
   "metadata": {},
   "outputs": [
    {
     "data": {
      "text/plain": [
       "{'arxiv': ArxivQueryRun(description='Search for papers on a given topic using Arxiv', api_wrapper=ArxivAPIWrapper(arxiv_search=<class 'arxiv.Search'>, arxiv_exceptions=(<class 'arxiv.ArxivError'>, <class 'arxiv.UnexpectedEmptyPageError'>, <class 'arxiv.HTTPError'>), top_k_results=2, ARXIV_MAX_QUERY_LENGTH=300, continue_on_failure=False, load_max_docs=100, load_all_available_meta=False, doc_content_chars_max=1000)),\n",
       " 'wikipedia': WikipediaQueryRun(description='Search for information on a given topic using Wikipedia', api_wrapper=WikipediaAPIWrapper(wiki_client=<module 'wikipedia' from 'd:\\\\Asus\\\\App\\\\miniconda\\\\workspace\\\\envs\\\\MAknowledge\\\\lib\\\\site-packages\\\\wikipedia\\\\__init__.py'>, top_k_results=3, lang='en', load_all_available_meta=False, doc_content_chars_max=4000)),\n",
       " 'duckduckgo_results_json': DuckDuckGoSearchResults(api_wrapper=DuckDuckGoSearchAPIWrapper(region='wt-wt', safesearch='moderate', time='y', max_results=5, backend='auto', source='text'), output_format='list'),\n",
       " 'vqa_tool': StructuredTool(name='vqa_tool', description='return the candidate answer with probability of the question', args_schema=<class 'langchain_core.utils.pydantic.vqa_tool'>, func=<function vqa_tool at 0x000002419C3545E0>)}"
      ]
     },
     "execution_count": 22,
     "metadata": {},
     "output_type": "execute_result"
    }
   ],
   "source": [
    "tools = [arxiv, wikipedia, duck_search, vqa_tool]\n",
    "tools_by_name = {tool.name: tool for tool in tools}\n",
    "\n",
    "tools_by_name"
   ]
  },
  {
   "cell_type": "markdown",
   "metadata": {},
   "source": [
    "## Generate Agent"
   ]
  },
  {
   "cell_type": "markdown",
   "metadata": {},
   "source": [
    "### State"
   ]
  },
  {
   "cell_type": "code",
   "execution_count": 23,
   "metadata": {},
   "outputs": [],
   "source": [
    "class Analyst(BaseModel):\n",
    "    name: str = Field(\n",
    "        description=\"Name of the analyst.\"\n",
    "    )\n",
    "    description: str = Field(\n",
    "        description=\"Description of the analyst focus, concerns, and motives.\",\n",
    "    )\n",
    "    tools: List[str]\n",
    "    \n",
    "    @property\n",
    "    def affiliation(self) -> str:\n",
    "        return f\"{self.name} Agent for VQA\"\n",
    "    \n",
    "    @property\n",
    "    def persona(self) -> str:\n",
    "        return f\"Name: {self.affiliation}\\nTools: {self.tools}\\nDescription: {self.description}\""
   ]
  },
  {
   "cell_type": "code",
   "execution_count": 24,
   "metadata": {},
   "outputs": [],
   "source": [
    "class GenerateAnalystsState(TypedDict):\n",
    "    question: str\n",
    "    image: str\n",
    "    analysts: List[Analyst] "
   ]
  },
  {
   "cell_type": "markdown",
   "metadata": {},
   "source": [
    "### Node"
   ]
  },
  {
   "cell_type": "code",
   "execution_count": 25,
   "metadata": {},
   "outputs": [],
   "source": [
    "def create_analysts(state: GenerateAnalystsState):\n",
    "    analyst_specs = {\n",
    "        \"junior\": {\n",
    "            \"name\": \"Junior\",\n",
    "            \"description\": \"A junior analyst who uses only the vanilla VQA model to generate candidate answers.\",\n",
    "            \"tools\": [\"vqa_tool\"],\n",
    "            \"system_prompt\": \"\"\"You are junior analyst. Please provide the actions for the given task.\n",
    "                                ===\n",
    "                                The actions should be in [Action_1].\n",
    "                                Action_1 (vqa_tool) is that you need to refer candidate answers to answer questions.\n",
    "                                ===\n",
    "                                task: {task}\n",
    "                                the response should be like this: Action_1\n",
    "                            \"\"\"\n",
    "        },\n",
    "        \"senior\": {\n",
    "            \"name\": \"Senior\",\n",
    "            \"description\": \"A senior analyst who uses both the VQA model and KBs retrieval to enhance answers.\",\n",
    "            \"tools\": [\"vqa_tool\", \"arxiv\", \"wikipedia\", \"duckduckgo_results_json\"],\n",
    "            \"system_prompt\": \"\"\"You are junior analyst. Please provide the actions for the given task.\n",
    "                        ===\n",
    "                        The actions should be in [Action_1, Action_2, Action_3].\n",
    "                        Action_1 (vqa_tool) is that you need to refer candidate answers to answer questions.\n",
    "                        Action_2 (arxiv, wikipedia) is that you need retrieve knowledge from KBs to answer questions.\n",
    "                        ===\n",
    "                        task: {task}\n",
    "                        the response should be like this: Action_1, Action_2\n",
    "                    \"\"\"\n",
    "        },\n",
    "        # \"manager\": {\n",
    "        #     \"name\": \"Manager\",\n",
    "        #     \"description\": \"A manager analyst with access to all tools including LLM-based knowledge generation.\",\n",
    "        #     \"tools\": [\"arxiv\", \"wikipedia\", \"duckduckgo_results_json\"]\n",
    "        # }\n",
    "    }\n",
    "\n",
    "    # Tạo list các Analyst object\n",
    "    analysts = [Analyst(**spec) for spec in analyst_specs.values()]\n",
    "\n",
    "    return {\"analysts\": analysts}"
   ]
  },
  {
   "cell_type": "markdown",
   "metadata": {},
   "source": [
    "### Build graph"
   ]
  },
  {
   "cell_type": "code",
   "execution_count": 26,
   "metadata": {},
   "outputs": [
    {
     "data": {
      "image/png": "[encoded data removed]",
      "text/plain": [
       "<IPython.core.display.Image object>"
      ]
     },
     "metadata": {},
     "output_type": "display_data"
    }
   ],
   "source": [
    "# Add nodes and edges\n",
    "builder = StateGraph(GenerateAnalystsState)\n",
    "builder.add_node(\"create_analysts\", create_analysts)\n",
    "\n",
    "builder.add_edge(START, \"create_analysts\")\n",
    "builder.add_edge(\"create_analysts\", END)\n",
    "\n",
    "# Compile\n",
    "memory = MemorySaver()\n",
    "gen_analysis_graph = builder.compile(checkpointer=memory)\n",
    "\n",
    "# View\n",
    "display(Image(gen_analysis_graph.get_graph(xray=1).draw_mermaid_png()))"
   ]
  },
  {
   "cell_type": "code",
   "execution_count": 27,
   "metadata": {},
   "outputs": [],
   "source": [
    "thread = {\"configurable\": {\"thread_id\": \"1\"}}\n",
    "analysts = gen_analysis_graph.invoke({\"question\": \"What color is the dog's fur?\"}, thread)"
   ]
  },
  {
   "cell_type": "code",
   "execution_count": 28,
   "metadata": {},
   "outputs": [
    {
     "data": {
      "text/plain": [
       "Analyst(name='Senior', description='A senior analyst who uses both the VQA model and KBs retrieval to enhance answers.', tools=['vqa_tool', 'arxiv', 'wikipedia', 'duckduckgo_results_json'])"
      ]
     },
     "execution_count": 28,
     "metadata": {},
     "output_type": "execute_result"
    }
   ],
   "source": [
    "analysts[\"analysts\"][1]"
   ]
  },
  {
   "cell_type": "markdown",
   "metadata": {},
   "source": [
    "## Visual-research Agent"
   ]
  },
  {
   "cell_type": "markdown",
   "metadata": {},
   "source": [
    "### State"
   ]
  },
  {
   "cell_type": "code",
   "execution_count": 29,
   "metadata": {},
   "outputs": [],
   "source": [
    "class ViReAgentState(MessagesState):\n",
    "    question: str\n",
    "    image: str\n",
    "    analysts: List[Analyst]\n",
    "    results: Annotated[List[str], operator.add] = []\n",
    "\n",
    "\n",
    "class ViReJuniorState(MessagesState):\n",
    "    question: str\n",
    "    image: str\n",
    "    analyst: Analyst\n",
    "    number_of_steps: int = 0\n",
    "    answer_candidate: Optional[str] = \"\"\n",
    "    LLM_Knowledge: Optional[str] = \"\"\n",
    "    KBs_Knowledge: Annotated[List[str], operator.add] = []\n",
    "\n",
    "class ViReSeniorState(MessagesState):\n",
    "    question: str\n",
    "    image: str\n",
    "    analyst: Analyst\n",
    "    number_of_steps: int = 0\n",
    "    KBs_Knowledge: Annotated[List[str], operator.add] = []\n",
    "\n",
    "class ViReManagerState(MessagesState):\n",
    "    question: str\n",
    "    image: str\n",
    "    analyst: Analyst\n",
    "    number_of_steps: int = 0\n",
    "    answer_candidate: Optional[str] = \"\"\n",
    "    KBs_Knowledge: Annotated[List[str], operator.add] = []\n",
    "    LLM_Knowledge: Optional[str] = \"\"\n"
   ]
  },
  {
   "cell_type": "markdown",
   "metadata": {},
   "source": [
    "### Node"
   ]
  },
  {
   "cell_type": "code",
   "execution_count": 30,
   "metadata": {},
   "outputs": [],
   "source": [
    "from langchain_core.runnables import RunnableConfig\n",
    "import json\n",
    "from langchain_core.messages import ToolMessage\n",
    "\n",
    "\n",
    "def tool_node(state: Union[ViReJuniorState, ViReSeniorState, ViReManagerState]):\n",
    "    outputs = []\n",
    "    tool_calls = state[\"messages\"][-1].tool_calls\n",
    "    print(f\"Processing {len(tool_calls)} tool calls\")\n",
    "    \n",
    "    updates = {\"messages\": outputs}\n",
    "    \n",
    "    for tool_call in tool_calls:\n",
    "        tool_name = tool_call[\"name\"]\n",
    "        \n",
    "        try:\n",
    "            if tool_name == \"vqa\":\n",
    "                result = vqa_tool(tool_call[\"args\"])\n",
    "                updates[\"answer_candidate\"] = result\n",
    "                \n",
    "            elif tool_name in [\"arxiv\", \"wikipedia\", \"duckduckgo_results_json\"]:\n",
    "                result = tools_by_name[tool_name].invoke(tool_call[\"args\"])\n",
    "                if \"KBs_Knowledge\" not in updates:\n",
    "                    updates[\"KBs_Knowledge\"] = []\n",
    "                \n",
    "                if isinstance(result, str):\n",
    "                    updates[\"KBs_Knowledge\"].append(result)\n",
    "                elif isinstance(result, list):\n",
    "                    updates[\"KBs_Knowledge\"].extend(result)\n",
    "                    \n",
    "            else:\n",
    "                result = f\"Unknown tool: {tool_name}\"\n",
    "            \n",
    "            outputs.append(\n",
    "                ToolMessage(\n",
    "                    content=json.dumps(result),\n",
    "                    name=tool_name,\n",
    "                    tool_call_id=tool_call[\"id\"],\n",
    "                )\n",
    "            )\n",
    "            \n",
    "        except Exception as e:\n",
    "            print(f\"Error processing tool {tool_name}: {e}\")\n",
    "            outputs.append(\n",
    "                ToolMessage(\n",
    "                    content=f\"Error: {str(e)}\",\n",
    "                    name=tool_name,\n",
    "                    tool_call_id=tool_call[\"id\"],\n",
    "                )\n",
    "            )\n",
    "    \n",
    "    return updates\n",
    "\n",
    "\n",
    "# Define the node that calls the model\n",
    "def call_vire_agent(\n",
    "    state: Union[ViReJuniorState, ViReSeniorState, ViReManagerState],\n",
    "    config: RunnableConfig,\n",
    "):\n",
    "    tools = state[\"analyst\"].tools\n",
    "    tools = [tools_by_name[tool] for tool in tools]\n",
    "    llm: ChatOpenAI = ChatOpenAI(\n",
    "        base_url=\"http://127.0.0.1:1234/v1\",\n",
    "        temperature=0,\n",
    "        api_key=\"not-needed\"\n",
    "    ).bind_tools(tools)\n",
    "    system_prompt = SystemMessage(\n",
    "        content=state[\"analyst\"].system_prompt\n",
    "    )\n",
    "    question_prompt = HumanMessage(content=f\"question: {state['question']}\")\n",
    "    history = state.get(\"messages\", [])\n",
    "    sequence = [system_prompt, question_prompt] + history\n",
    "\n",
    "    response = llm.invoke(sequence, config)\n",
    "    return {\"messages\": [response]}\n",
    "\n",
    "\n",
    "def final_reasoning_node(state: Union[ViReJuniorState, ViReSeniorState, ViReManagerState]):\n",
    "    \"\"\"Node cuối cùng để tổng hợp kết quả và đưa ra câu trả lời final\"\"\"\n",
    "    \n",
    "    # Tạo context từ các thông tin đã thu thập\n",
    "    context_parts = []\n",
    "    \n",
    "    # Thêm answer_candidate nếu có (từ VQA)\n",
    "    if hasattr(state, 'answer_candidate') and state.get(\"answer_candidate\"):\n",
    "        context_parts.append(f\"Visual Analysis Result: {state['answer_candidate']}\")\n",
    "    \n",
    "    # Thêm KBs_Knowledge nếu có\n",
    "    if state.get(\"KBs_Knowledge\"):\n",
    "        kb_info = \"\\n\".join(state[\"KBs_Knowledge\"])\n",
    "        context_parts.append(f\"Knowledge Base Information:\\n{kb_info}\")\n",
    "    \n",
    "    # Thêm LLM_Knowledge nếu có\n",
    "    if hasattr(state, 'LLM_Knowledge') and state.get(\"LLM_Knowledge\"):\n",
    "        context_parts.append(f\"LLM Generated Knowledge: {state['LLM_Knowledge']}\")\n",
    "    \n",
    "    # Tạo final reasoning prompt\n",
    "    context = \"\\n\\n\".join(context_parts)\n",
    "    \n",
    "    final_system_prompt = f\"\"\"\n",
    "    You are a {state['analyst'].name} analyst. Based on the information gathered from various tools, \n",
    "    provide a comprehensive and final answer to the user's question.\n",
    "    \n",
    "    Available Information:\n",
    "    {context}\n",
    "    \n",
    "    Original Question: {state['question']}\n",
    "    \n",
    "    Instructions:\n",
    "    1. Analyze all available information\n",
    "    2. Synthesize the findings\n",
    "    3. Provide a clear, concise final answer\n",
    "    4. Explain your reasoning briefly\n",
    "    \"\"\"\n",
    "    \n",
    "    # LLM không cần tools cho final reasoning\n",
    "    llm = ChatOpenAI(\n",
    "        base_url=\"http://127.0.0.1:1234/v1\",\n",
    "        temperature=0.1,  # Hơi creative một chút cho final reasoning\n",
    "        api_key=\"not-needed\"\n",
    "    )\n",
    "    \n",
    "    system_msg = SystemMessage(content=final_system_prompt)\n",
    "    human_msg = HumanMessage(content=\"Please provide your final analysis and answer.\")\n",
    "    \n",
    "    final_response = llm.invoke([system_msg, human_msg])\n",
    "    \n",
    "    return {\n",
    "        \"messages\": [final_response],\n",
    "        \"results\": [final_response.content],\n",
    "        \"number_of_steps\": state.get(\"number_of_steps\", 0) + 1\n",
    "    }\n",
    "\n",
    "def should_continue(state: Union[ViReJuniorState, ViReSeniorState, ViReManagerState]):\n",
    "    messages = state[\"messages\"]\n",
    "    last_message = messages[-1]\n",
    "    \n",
    "    # Nếu không có tool calls, chuyển sang final reasoning\n",
    "    if not last_message.tool_calls:\n",
    "        return \"final_reasoning\"\n",
    "    # Nếu có tool calls, tiếp tục với tools\n",
    "    else:\n",
    "        return \"continue\""
   ]
  },
  {
   "cell_type": "markdown",
   "metadata": {},
   "source": [
    "### Graph"
   ]
  },
  {
   "cell_type": "code",
   "execution_count": 31,
   "metadata": {},
   "outputs": [],
   "source": [
    "from langgraph.graph import StateGraph, END\n",
    "\n",
    "def create_junior_subgraph():\n",
    "    \"\"\"Tạo subgraph cho Junior Analyst\"\"\"\n",
    "    workflow = StateGraph(ViReJuniorState)\n",
    "    \n",
    "    workflow.add_node(\"agent\", call_vire_agent)\n",
    "    workflow.add_node(\"tools\", tool_node)\n",
    "    workflow.add_node(\"final_reasoning\", final_reasoning_node)\n",
    "    \n",
    "    workflow.set_entry_point(\"agent\")\n",
    "    workflow.add_conditional_edges(\"agent\", should_continue, {\n",
    "        \"continue\": \"tools\",\n",
    "        \"final_reasoning\": \"final_reasoning\"\n",
    "    })\n",
    "    workflow.add_edge(\"tools\", \"agent\")\n",
    "    workflow.add_edge(\"final_reasoning\", END)\n",
    "    \n",
    "    return workflow.compile()\n",
    "\n",
    "def create_senior_subgraph():\n",
    "    \"\"\"Tạo subgraph cho Senior Analyst\"\"\"\n",
    "    workflow = StateGraph(ViReSeniorState)\n",
    "    \n",
    "    workflow.add_node(\"agent\", call_vire_agent)\n",
    "    workflow.add_node(\"tools\", tool_node)\n",
    "    workflow.add_node(\"final_reasoning\", final_reasoning_node)\n",
    "    \n",
    "    workflow.set_entry_point(\"agent\")\n",
    "    workflow.add_conditional_edges(\"agent\", should_continue, {\n",
    "        \"continue\": \"tools\",\n",
    "        \"final_reasoning\": \"final_reasoning\"\n",
    "    })\n",
    "    workflow.add_edge(\"tools\", \"agent\")\n",
    "    workflow.add_edge(\"final_reasoning\", END)\n",
    "    \n",
    "    return workflow.compile()\n",
    "\n",
    "def create_manager_subgraph():\n",
    "    \"\"\"Tạo subgraph cho Manager Analyst\"\"\"\n",
    "    workflow = StateGraph(ViReManagerState)\n",
    "    \n",
    "    workflow.add_node(\"agent\", call_vire_agent)\n",
    "    workflow.add_node(\"tools\", tool_node)\n",
    "    workflow.add_node(\"final_reasoning\", final_reasoning_node)\n",
    "    \n",
    "    workflow.set_entry_point(\"agent\")\n",
    "    workflow.add_conditional_edges(\"agent\", should_continue, {\n",
    "        \"continue\": \"tools\",\n",
    "        \"final_reasoning\": \"final_reasoning\"\n",
    "    })\n",
    "    workflow.add_edge(\"tools\", \"agent\")\n",
    "    workflow.add_edge(\"final_reasoning\", END)\n",
    "    \n",
    "    return workflow.compile()\n"
   ]
  },
  {
   "cell_type": "code",
   "execution_count": 32,
   "metadata": {},
   "outputs": [],
   "source": [
    "def route_to_analysts(state: ViReAgentState):\n",
    "    \"\"\"Router sử dụng Send API để phân phối song song\"\"\"\n",
    "    sends = []\n",
    "    \n",
    "    for analyst in state[\"analysts\"]:\n",
    "        # Tạo state riêng cho mỗi analyst\n",
    "        analyst_state = {\n",
    "            \"question\": state[\"question\"],\n",
    "            \"image\": state[\"image\"],\n",
    "            \"analyst\": analyst,\n",
    "            \"number_of_steps\": 0,\n",
    "            \"messages\": []\n",
    "        }\n",
    "        \n",
    "        # Send đến subgraph tương ứng\n",
    "        if \"junior\" in analyst.name.lower():\n",
    "            sends.append(Send(\"junior_subgraph\", analyst_state))\n",
    "        elif \"senior\" in analyst.name.lower():\n",
    "            sends.append(Send(\"senior_subgraph\", analyst_state))\n",
    "        elif \"manager\" in analyst.name.lower():\n",
    "            sends.append(Send(\"manager_subgraph\", analyst_state))\n",
    "    \n",
    "    return sends"
   ]
  },
  {
   "cell_type": "code",
   "execution_count": 33,
   "metadata": {},
   "outputs": [
    {
     "data": {
      "image/png": "[encoded data removed]",
      "text/plain": [
       "<IPython.core.display.Image object>"
      ]
     },
     "metadata": {},
     "output_type": "display_data"
    }
   ],
   "source": [
    "from langgraph.graph import StateGraph, END\n",
    "from IPython.display import Image, display\n",
    "\n",
    "main_workflow = StateGraph(ViReAgentState)\n",
    "\n",
    "# Add nodes\n",
    "main_workflow.add_node(\"route_to_analysts\", route_to_analysts)\n",
    "main_workflow.add_node(\"junior_subgraph\", create_junior_subgraph())\n",
    "main_workflow.add_node(\"senior_subgraph\", create_senior_subgraph())\n",
    "main_workflow.add_node(\"manager_subgraph\", create_manager_subgraph())\n",
    "# main_workflow.add_node(\"aggregate_results\", aggregate_results)\n",
    "\n",
    "# Set entry point\n",
    "main_workflow.add_edge(START, \"route_to_analysts\")\n",
    "\n",
    "# Conditional edges từ router (Send API)\n",
    "main_workflow.add_conditional_edges(\n",
    "    \"route_to_analysts\",\n",
    "    lambda x: \"analysts\",  # Dummy function vì Send API tự route\n",
    "    [\"junior_subgraph\", \"senior_subgraph\", \"manager_subgraph\"]\n",
    ")\n",
    "\n",
    "# Tất cả subgraphs đều đi đến aggregation\n",
    "main_workflow.add_edge(\"junior_subgraph\", END)\n",
    "main_workflow.add_edge(\"senior_subgraph\", END)\n",
    "main_workflow.add_edge(\"manager_subgraph\", END)\n",
    "\n",
    "\n",
    "# Compile\n",
    "ViReAgent = main_workflow.compile()\n",
    "display(Image(ViReAgent.get_graph().draw_mermaid_png()))"
   ]
  },
  {
   "cell_type": "code",
   "execution_count": 34,
   "metadata": {},
   "outputs": [],
   "source": [
    "# agent = analysts[\"analysts\"][1]\n",
    "# # Create our initial message dictionary\n",
    "# # \"messages\": [(\"user\", \"How is the weather in Vietnam?\")] (optional)\n",
    "# URL = \"https://github.com/NVlabs/describe-anything/blob/main/images/1.jpg?raw=true\"\n",
    "# Q = \"What color is the dog's fur?\"\n",
    "# inputs = {\"analyst\": agent, \"question\": Q, \"image\": URL}\n",
    "\n",
    "# for state in ViReAgent.stream(inputs, stream_mode=\"values\"):\n",
    "#     if state[\"messages\"]:\n",
    "#         last_message = state[\"messages\"][-1]\n",
    "#         last_message.pretty_print()"
   ]
  },
  {
   "cell_type": "markdown",
   "metadata": {},
   "source": [
    "## Router"
   ]
  },
  {
   "cell_type": "code",
   "execution_count": 35,
   "metadata": {},
   "outputs": [],
   "source": [
    "def route_to_agents(state: ViReAgentState):\n",
    "    \"\"\"Phân phối input đến 3 agents song song\"\"\"\n",
    "    sends = []\n",
    "    \n",
    "    # Tạo state riêng cho mỗi agent level\n",
    "    junior_state = create_junior_state(state)\n",
    "    senior_state = create_senior_state(state)  \n",
    "    manager_state = create_manager_state(state)\n",
    "    \n",
    "    sends.extend([\n",
    "        Send(\"junior_agent\", junior_state),\n",
    "        Send(\"senior_agent\", senior_state),\n",
    "        Send(\"manager_agent\", manager_state)\n",
    "    ])\n",
    "    \n",
    "    return sends"
   ]
  }
 ],
 "metadata": {
  "kernelspec": {
   "display_name": "MAknowledge",
   "language": "python",
   "name": "python3"
  },
  "language_info": {
   "codemirror_mode": {
    "name": "ipython",
    "version": 3
   },
   "file_extension": ".py",
   "mimetype": "text/x-python",
   "name": "python",
   "nbconvert_exporter": "python",
   "pygments_lexer": "ipython3",
   "version": "3.10.18"
  }
 },
 "nbformat": 4,
 "nbformat_minor": 2
}
