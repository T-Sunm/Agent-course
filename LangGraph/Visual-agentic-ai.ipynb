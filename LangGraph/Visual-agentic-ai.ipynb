{
 "cells": [
  {
   "cell_type": "code",
   "execution_count": 21,
   "metadata": {},
   "outputs": [],
   "source": [
    "import base64\n",
    "from typing import Annotated, List, Union\n",
    "\n",
    "# import magic\n",
    "import requests\n",
    "from IPython.display import Image, display\n",
    "from langchain_community.tools import (\n",
    "    ArxivQueryRun,\n",
    "    DuckDuckGoSearchResults,\n",
    "    WikipediaQueryRun,\n",
    ")\n",
    "from langchain_community.utilities import (\n",
    "    ArxivAPIWrapper,\n",
    "    DuckDuckGoSearchAPIWrapper,\n",
    "    WikipediaAPIWrapper,\n",
    ")\n",
    "from langchain_core.messages import AnyMessage, HumanMessage, SystemMessage\n",
    "from langchain_core.prompts import ChatPromptTemplate\n",
    "from langchain_openai import ChatOpenAI\n",
    "from langgraph.graph import END, START, StateGraph\n",
    "from langgraph.graph import MessagesState\n",
    "from langgraph.graph.message import add_messages\n",
    "from langgraph.prebuilt import ToolNode, create_react_agent, tools_condition\n",
    "from pydantic import BaseModel, Field\n",
    "from typing_extensions import TypedDict\n",
    "\n",
    "\n",
    "from typing import Optional\n",
    "\n",
    "from langchain_core.callbacks import (\n",
    "    AsyncCallbackManagerForToolRun,\n",
    "    CallbackManagerForToolRun,\n",
    ")\n",
    "from langchain_core.tools import BaseTool\n",
    "from langchain_core.tools import tool\n",
    "from langchain_core.tools.base import ArgsSchema\n",
    "from pydantic import BaseModel, Field\n",
    "\n",
    "# from ultralytics import YOLO"
   ]
  },
  {
   "cell_type": "code",
   "execution_count": 22,
   "metadata": {},
   "outputs": [],
   "source": [
    "llm: ChatOpenAI = ChatOpenAI(\n",
    "    base_url=\"http://127.0.0.1:1234/v1\",\n",
    "    temperature=0,\n",
    "    api_key=\"not-needed\"\n",
    ")"
   ]
  },
  {
   "cell_type": "markdown",
   "metadata": {},
   "source": [
    "## Research Agent"
   ]
  },
  {
   "cell_type": "markdown",
   "metadata": {},
   "source": [
    "### State"
   ]
  },
  {
   "cell_type": "code",
   "execution_count": 23,
   "metadata": {},
   "outputs": [],
   "source": [
    "class ResearchAgentState(MessagesState):\n",
    "    \"\"\"The state of the agent.\"\"\"\n",
    "    number_of_steps: int"
   ]
  },
  {
   "cell_type": "markdown",
   "metadata": {},
   "source": [
    "### Tools"
   ]
  },
  {
   "cell_type": "code",
   "execution_count": 24,
   "metadata": {},
   "outputs": [],
   "source": [
    "from langchain_community.tools import (\n",
    "    ArxivQueryRun,\n",
    "    DuckDuckGoSearchResults,\n",
    "    WikipediaQueryRun,\n",
    ")\n",
    "from langchain_community.utilities import (\n",
    "    ArxivAPIWrapper,\n",
    "    DuckDuckGoSearchAPIWrapper,\n",
    "    WikipediaAPIWrapper,\n",
    ")"
   ]
  },
  {
   "cell_type": "code",
   "execution_count": 25,
   "metadata": {},
   "outputs": [
    {
     "data": {
      "text/plain": [
       "'Published: 2025-03-03\\nTitle: Rotary Outliers and Rotary Offset Features in Large Language Models\\nAuthors: André Jonasson\\nSummary: Transformer-based Large Language Models (LLMs) rely on positional encodings\\nto provide sequence position information to their attention mechanism. Rotary\\nPositional Encodings (RoPE), which encode relative position by rotating queries\\nand keys, have become widely used in modern LLMs. We study the features and\\npatterns that emerge in queries and keys when using rotary embeddings. Our\\nanalysis reveals consistent patterns within the same model across layers and\\nattention heads and across different models and architectures. We present and\\napply analysis techniques and show how the queries and keys use RoPE to\\nconstruct various attention patterns, including attention sinks. We find and\\nanalyze outliers across models in queries and keys and find that they are\\nlikely to be found in rotary features with partial cycles. We derive bounds\\nthat tell us what rotary freque'"
      ]
     },
     "execution_count": 25,
     "metadata": {},
     "output_type": "execute_result"
    }
   ],
   "source": [
    "arxiv_wrapper = ArxivAPIWrapper(\n",
    "    top_k_results=2, doc_content_chars_max=1000\n",
    ")\n",
    "arxiv = ArxivQueryRun(\n",
    "    api_wrapper=arxiv_wrapper,\n",
    "    description=\"Search for papers on a given topic using Arxiv\"\n",
    ")\n",
    "arxiv.invoke(\"Rotary Positional Encoding\")"
   ]
  },
  {
   "cell_type": "code",
   "execution_count": 26,
   "metadata": {},
   "outputs": [
    {
     "data": {
      "text/plain": [
       "'Page: Machine learning\\nSummary: Machine learning (ML) is a field of study in artificial intelligence concerned with the development and study of statistical algorithms that can learn from data and generalise to unseen data, and thus perform tasks without explicit instructions. Within a subdiscipline in machine learning, advances in the field of deep learning have allowed neural networks, a class of statistical algorithms, to surpass many previous machine learning approaches in performance.\\nML finds application in many fields, including natural language processing, computer vision, speech recognition, email filtering, agriculture, and medicine. The application of ML to business problems is known as predictive analytics.\\nStatistics and mathematical optimisation (mathematical programming) methods comprise the foundations of machine learning. Data mining is a related field of study, focusing on exploratory data analysis (EDA) via unsupervised learning. \\nFrom a theoretical viewpoint, probably approximately correct learning provides a framework for describing machine learning.\\n\\n\\n\\nPage: Attention (machine learning)\\nSummary: In machine learning, attention is a  method that determines the importance of each component in a sequence relative to the other components in that sequence. In natural language processing, importance is represented by \"soft\" weights assigned to each word in a sentence. More generally, attention encodes vectors called token embeddings across a fixed-width sequence that can range from tens to millions of tokens in size.\\nUnlike \"hard\" weights, which are computed during the backwards training pass, \"soft\" weights exist only in the forward pass and therefore change with every step of the input. Earlier designs implemented the attention mechanism in a serial recurrent neural network (RNN) language translation system, but a more recent design, namely the transformer, removed the slower sequential RNN and relied more heavily on the faster parallel attention scheme.\\nInspired by ideas about attention in humans, the attention mechanism was developed to address the weaknesses of leveraging information from the hidden layers of recurrent neural networks. Recurrent neural networks favor more recent information contained in words at the end of a sentence, while information earlier in the sentence tends to be attenuated. Attention allows a token equal access to any part of a sentence directly, rather than only through the previous state.\\n\\nPage: Neural network (machine learning)\\nSummary: In machine learning, a neural network (also artificial neural network or neural net, abbreviated ANN or NN) is a computational model inspired by the structure and functions of biological neural networks.\\nA neural network consists of connected units or nodes called artificial neurons, which loosely model the neurons in the brain. Artificial neuron models that mimic biological neurons more closely have also been recently investigated and shown to significantly improve performance. These are connected by edges, which model the synapses in the brain. Each artificial neuron receives signals from connected neurons, then processes them and sends a signal to other connected neurons. The \"signal\" is a real number, and the output of each neuron is computed by some non-linear function of the sum of its inputs, called the activation function. The strength of the signal at each connection is determined by a weight, which adjusts during the learning process.\\nTypically, neurons are aggregated into layers. Different layers may perform different transformations on their inputs. Signals travel from the first layer (the input layer) to the last layer (the output layer), possibly passing through multiple intermediate layers (hidden layers). A network is typically called a deep neural network if it has at least two hidden layers.\\nArtificial neural networks are used for various tasks, including predictive modeling, adaptive control, and solving problems in artificial '"
      ]
     },
     "execution_count": 26,
     "metadata": {},
     "output_type": "execute_result"
    }
   ],
   "source": [
    "wikipedia_wrapper = WikipediaAPIWrapper()\n",
    "wikipedia = WikipediaQueryRun(\n",
    "    api_wrapper=wikipedia_wrapper,\n",
    "    description=\"Search for information on a given topic using Wikipedia\"\n",
    ")\n",
    "wikipedia.invoke(\"machine learning\")"
   ]
  },
  {
   "cell_type": "code",
   "execution_count": 27,
   "metadata": {},
   "outputs": [
    {
     "data": {
      "text/plain": [
       "[{'snippet': 'Unlike traditional positional embeddings, such as sinusoidal encodings used in transformers, which represent the absolute positions of tokens, Rotary Positional Embeddings (RoPE) are designed...',\n",
       "  'title': 'A Deep Dive into Rotary Positional Embeddings (RoPE): Theory and ...',\n",
       "  'link': 'https://medium.com/@parulsharmmaa/understanding-rotary-positional-embedding-and-implementation-9f4ad8b03e32'},\n",
       " {'snippet': 'Rotary Positional Encodings (RoPE, used in Llama models): Uses constant vectors built with rotational matrices Relative Positional Encodings (used in T5 and MPT): Based on distances between tokens rather than absolute positions Attention with Linear Bias (ALiBi, used in Falcon models): A bias term added to attention scores based on token distances',\n",
       "  'title': 'Positional Encodings in Transformer Models',\n",
       "  'link': 'https://machinelearningmastery.com/positional-encodings-in-transformer-models/'},\n",
       " {'snippet': 'One of the most popular types of encoding used today in LLMs are Rotary Positional Encodings (RoPE), that rotate the queries and keys based on their relative distance. A common belief is that RoPE is useful because it helps to decay token dependency as relative distance increases. In this work, we argue that this is unlikely to be the core reason.',\n",
       "  'title': '[2410.06205] Round and Round We Go! What makes Rotary Positional ...',\n",
       "  'link': 'https://arxiv.org/abs/2410.06205'},\n",
       " {'snippet': \"Enter Rotary Position Embedding (RoPE), a novel method developed by researchers at Peking University that's rewriting the rules of positional encoding. By encoding positions through rotation matrices rather than fixed wave patterns, RoPE provides several breakthrough advantages that make it a game-changer for AI models.\",\n",
       "  'title': 'Understanding Rotary Position Embedding in AI - SERP AI',\n",
       "  'link': 'https://serp.ai/posts/rotary-position-embedding/'}]"
      ]
     },
     "execution_count": 27,
     "metadata": {},
     "output_type": "execute_result"
    }
   ],
   "source": [
    "duck_search = DuckDuckGoSearchResults(output_format=\"list\")\n",
    "duck_search.invoke(\"Rotary Positional Encoding\")"
   ]
  },
  {
   "cell_type": "markdown",
   "metadata": {},
   "source": [
    "### Graph"
   ]
  },
  {
   "cell_type": "code",
   "execution_count": 28,
   "metadata": {},
   "outputs": [],
   "source": [
    "from langchain_core.runnables import RunnableConfig\n",
    "import json\n",
    "from langchain_core.messages import ToolMessage\n",
    "tools = [arxiv, wikipedia, duck_search]\n",
    "tools_by_name = {tool.name: tool for tool in tools}\n",
    "\n",
    "# Define our tool node\n",
    "def tool_node(state: ResearchAgentState):\n",
    "    outputs = []\n",
    "    for tool_call in state[\"messages\"][-1].tool_calls:\n",
    "        tool_result = tools_by_name[tool_call[\"name\"]].invoke(\n",
    "            tool_call[\"args\"])\n",
    "        outputs.append(\n",
    "            ToolMessage(\n",
    "                content=json.dumps(tool_result),\n",
    "                name=tool_call[\"name\"],\n",
    "                tool_call_id=tool_call[\"id\"],\n",
    "            )\n",
    "        )\n",
    "    return {\"messages\": outputs}\n",
    "\n",
    "\n",
    "# Define the node that calls the model\n",
    "def call_research_agent(\n",
    "    state: ResearchAgentState,\n",
    "    config: RunnableConfig,\n",
    "):\n",
    "    llm: ChatOpenAI = ChatOpenAI(\n",
    "        base_url=\"http://127.0.0.1:1234/v1\",\n",
    "        temperature=0,\n",
    "        api_key=\"not-needed\"\n",
    "    ).bind_tools(tools)\n",
    "    system_prompt = SystemMessage(\n",
    "        \"You are a research agent.\\n\\n\"\n",
    "        \"INSTRUCTIONS:\\n\"\n",
    "        \"- Assist ONLY with research-related tasks, DO NOT do any math\\n\"\n",
    "        \"- After you're done with your tasks, respond to the supervisor directly\\n\"\n",
    "        \"- Respond ONLY with the results of your work, do NOT include ANY other text.\"\n",
    "    )\n",
    "    response = llm.invoke([system_prompt] + state[\"messages\"], config)\n",
    "    # We return a list, because this will get added to the existing list\n",
    "    return {\"messages\": [response]}\n",
    "\n",
    "# Define the conditional edge that determines whether to continue or not\n",
    "def should_continue(state: ResearchAgentState):\n",
    "    messages = state[\"messages\"]\n",
    "    last_message = messages[-1]\n",
    "    # If there is no function call, then we finish\n",
    "    if not last_message.tool_calls:\n",
    "        return \"end\"\n",
    "    # Otherwise if there is, we continue\n",
    "    else:\n",
    "        return \"continue\""
   ]
  },
  {
   "cell_type": "code",
   "execution_count": 29,
   "metadata": {},
   "outputs": [
    {
     "data": {
      "image/png": "[encoded data removed]",
      "text/plain": [
       "<IPython.core.display.Image object>"
      ]
     },
     "metadata": {},
     "output_type": "display_data"
    }
   ],
   "source": [
    "from langgraph.graph import StateGraph, END\n",
    "from IPython.display import Image, display\n",
    "\n",
    "# Define a new graph\n",
    "workflow = StateGraph(ResearchAgentState)\n",
    "\n",
    "# Define the two nodes we will cycle between\n",
    "workflow.add_node(\"agent\", call_research_agent)\n",
    "workflow.add_node(\"tools\", tool_node)\n",
    "\n",
    "# Set start node : start -> agent\n",
    "workflow.set_entry_point(\"agent\")\n",
    "# We now add a conditional edge\n",
    "workflow.add_conditional_edges(\n",
    "    \"agent\",\n",
    "    should_continue,\n",
    "    {\n",
    "        \"continue\": \"tools\",\n",
    "        \"end\": END,\n",
    "    },\n",
    ")\n",
    "\n",
    "# We now add a normal edge from ‘tools‘ to ‘agent‘.\n",
    "# This means that after ‘tools‘ is called, ‘agent‘ node is called next.\n",
    "workflow.add_edge(\"tools\", \"agent\")\n",
    "\n",
    "# Now we can compile and visualize our graph\n",
    "ResearchAgent = workflow.compile()\n",
    "display(Image(ResearchAgent.get_graph().draw_mermaid_png()))"
   ]
  },
  {
   "cell_type": "code",
   "execution_count": 30,
   "metadata": {},
   "outputs": [
    {
     "name": "stdout",
     "output_type": "stream",
     "text": [
      "================================\u001b[1m Human Message \u001b[0m=================================\n",
      "\n",
      "How is the weather in Vietnam?\n",
      "==================================\u001b[1m Ai Message \u001b[0m==================================\n",
      "Tool Calls:\n",
      "  duckduckgo_results_json (263786165)\n",
      " Call ID: 263786165\n",
      "  Args:\n",
      "    query: current weather in Vietnam\n",
      "=================================\u001b[1m Tool Message \u001b[0m=================================\n",
      "Name: duckduckgo_results_json\n",
      "\n",
      "[{\"snippet\": \"Vietnam - Detailed weather forecast for today. Comprehensive weather report for today for all locations.\", \"title\": \"Weather today - Vietnam\", \"link\": \"https://www.weather-atlas.com/en/vietnam\"}, {\"snippet\": \"The weather today in Vietnam will be very hot with temperatures reaching 34 \\u00b0 C. During the evening and night time the temperatures will drop to 26 \\u00b0 C. For deep dive information check out our hourly weather forecast for today down the page.\", \"title\": \"Vietnam local weather (live): today, hourly weather\", \"link\": \"https://www.weather25.com/asia/vietnam?page=today\"}, {\"snippet\": \"Scattered clouds. (Weather station: Ha Noi Airport, Vietnam). See more current weather\", \"title\": \"Hanoi, Vietnam 14 day weather forecast - timeanddate.com\", \"link\": \"https://www.timeanddate.com/weather/vietnam/hanoi/ext\"}, {\"snippet\": \"Ho Chi Minh City 7 day weather forecast including weather warnings, temperature, rain, wind, visibility, humidity and UV\", \"title\": \"Ho Chi Minh City (Vietnam) weather - Met Office\", \"link\": \"https://weather.metoffice.gov.uk/forecast/w3gve307f\"}]\n",
      "==================================\u001b[1m Ai Message \u001b[0m==================================\n",
      "\n",
      "<think>\n",
      "Okay, the user asked about the weather in Vietnam. I used the DuckDuckGo search to find current info. The results show that today's weather varies by location. Some places have high temperatures up to 34°C with cooler nights, while others have scattered clouds. There are links to specific websites like Weather Atlas and Weather25 for more details. Since the user didn't specify a particular city, I should summarize the general trends. I need to mention the temperature range and the possible weather conditions across different regions. Also, note that the exact details might vary by location. Make sure to present this info clearly without any markdown.\n",
      "</think>\n",
      "\n",
      "The current weather in Vietnam varies by region. Some areas experience high temperatures up to 34°C with cooler nighttime temperatures dropping to 26°C, while others have scattered clouds. For precise local conditions, check specific websites like [Weather Atlas](https://www.weather-atlas.com/en/vietnam) or [Weather25](https://www.weather25.com/asia/vietnam). General trends include hot days and mild nights across most locations.\n"
     ]
    }
   ],
   "source": [
    "# Create our initial message dictionary\n",
    "inputs = {\"messages\": [(\"user\", \"How is the weather in Vietnam?\")]}\n",
    "\n",
    "# call our graph with streaming to see the steps\n",
    "\n",
    "for state in ResearchAgent.stream(inputs, stream_mode=\"values\"):\n",
    "    last_message = state[\"messages\"][-1]\n",
    "    last_message.pretty_print()"
   ]
  },
  {
   "cell_type": "code",
   "execution_count": null,
   "metadata": {},
   "outputs": [],
   "source": []
  }
 ],
 "metadata": {
  "kernelspec": {
   "display_name": "learn_langraph",
   "language": "python",
   "name": "python3"
  },
  "language_info": {
   "codemirror_mode": {
    "name": "ipython",
    "version": 3
   },
   "file_extension": ".py",
   "mimetype": "text/x-python",
   "name": "python",
   "nbconvert_exporter": "python",
   "pygments_lexer": "ipython3",
   "version": "3.10.18"
  }
 },
 "nbformat": 4,
 "nbformat_minor": 2
}
