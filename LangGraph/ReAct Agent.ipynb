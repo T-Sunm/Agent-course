{
 "cells": [
  {
   "cell_type": "code",
   "execution_count": 3,
   "id": "7d026f7a",
   "metadata": {},
   "outputs": [
    {
     "data": {
      "text/plain": [
       "True"
      ]
     },
     "execution_count": 3,
     "metadata": {},
     "output_type": "execute_result"
    }
   ],
   "source": [
    "from langgraph.graph.message import add_messages\n",
    "from langchain_core.messages import BaseMessage\n",
    "from typing import Annotated, Sequence, TypedDict\n",
    "import os\n",
    "from dotenv import load_dotenv\n",
    "from langchain_tavily import TavilySearch\n",
    "from langchain_core.tools import tool\n",
    "from langchain_openai import ChatOpenAI\n",
    "from langchain_core.messages import SystemMessage\n",
    "import json\n",
    "from langchain_core.messages import ToolMessage\n",
    "from langchain_core.runnables import RunnableConfig\n",
    "\n",
    "load_dotenv()"
   ]
  },
  {
   "cell_type": "markdown",
   "id": "6e6a8dda",
   "metadata": {},
   "source": [
    "## Define state"
   ]
  },
  {
   "cell_type": "code",
   "execution_count": 4,
   "id": "aff4bda3",
   "metadata": {},
   "outputs": [],
   "source": [
    "class AgentState(TypedDict):\n",
    "    \"\"\"The state of the agent.\"\"\"\n",
    "    # Sequence[BaseMessage]: danh sách các message (vd: HumanMessage, AIMessage, ToolMessage])\n",
    "    # add_messages: hàm để thêm message vào danh sách\n",
    "    messages: Annotated[Sequence[BaseMessage], add_messages]\n",
    "    number_of_steps: int"
   ]
  },
  {
   "cell_type": "markdown",
   "id": "56a2127d",
   "metadata": {},
   "source": [
    "## Define tools"
   ]
  },
  {
   "cell_type": "code",
   "execution_count": 5,
   "id": "b3982cf3",
   "metadata": {},
   "outputs": [
    {
     "name": "stdout",
     "output_type": "stream",
     "text": [
      "Chào! Tôi là một mô hình ngôn ngữ, vì vậy tôi không có thể bị bệnh hay cảm thấy mệt mỏi như con người. Tôi luôn sẵn sàng giúp đỡ và trả lời các câu hỏi của bạn!\n"
     ]
    }
   ],
   "source": [
    "@tool\n",
    "def triple(num: float) -> float:\n",
    "    \"\"\"\n",
    "    :param num: a number to triple\n",
    "    :return: the number tripled -> multiplied by 3\n",
    "    \"\"\"\n",
    "    return 3 * float(num)\n",
    "\n",
    "\n",
    "tools = [TavilySearch(max_results=1), triple]\n",
    "\n",
    "system_prompt = SystemMessage(\n",
    "    \"\"\"\n",
    "    You are a reasoning agent. Always think step-by-step.\n",
    "\n",
    "    Use the following format:\n",
    "\n",
    "    Thought: what you are thinking\n",
    "    Action: the action to take, e.g. ‘search’, ‘calculate’\n",
    "    Action Input: the input to the action\n",
    "    Observation: the result of the action\n",
    "\n",
    "    (Repeat Thought / Action / Observation if needed)\n",
    "\n",
    "    Final Answer: your answer to the user\n",
    "\n",
    "    Question: {input}\n",
    "    \"\"\"\n",
    ")\n",
    "\n",
    "model = ChatOpenAI(\n",
    "    base_url=\"http://127.0.0.1:1234/v1\",\n",
    "    api_key=\"not-needed\",  # LM Studio không yêu cầu API key\n",
    "    temperature=0.7,\n",
    ")\n",
    "\n",
    "response2 = model.invoke(\"Xin chào, bạn khỏe không?\")\n",
    "print(response2.content)"
   ]
  },
  {
   "cell_type": "markdown",
   "id": "821e0b7f",
   "metadata": {},
   "source": [
    "## Defining nodes and edges"
   ]
  },
  {
   "cell_type": "code",
   "execution_count": 6,
   "id": "a864e3cb",
   "metadata": {},
   "outputs": [],
   "source": [
    "tools_by_name = {tool.name: tool for tool in tools}\n",
    "\n",
    "# Define our tool node\n",
    "def tool_node(state: AgentState):\n",
    "    outputs = []\n",
    "    for tool_call in state[\"messages\"][-1].tool_calls:\n",
    "        tool_result = tools_by_name[tool_call[\"name\"]].invoke(\n",
    "            tool_call[\"args\"])\n",
    "        outputs.append(\n",
    "            ToolMessage(\n",
    "                content=json.dumps(tool_result),\n",
    "                name=tool_call[\"name\"],\n",
    "                tool_call_id=tool_call[\"id\"],\n",
    "            )\n",
    "        )\n",
    "    return {\"messages\": outputs}\n",
    "\n",
    "\n",
    "# Define the node that calls the model\n",
    "def call_model(\n",
    "    state: AgentState,\n",
    "    config: RunnableConfig,\n",
    "):\n",
    "    response = model.invoke([system_prompt] + state[\"messages\"], config)\n",
    "    # We return a list, because this will get added to the existing list\n",
    "    return {\"messages\": [response]}\n",
    "\n",
    "# Define the conditional edge that determines whether to continue or not\n",
    "def should_continue(state: AgentState):\n",
    "    messages = state[\"messages\"]\n",
    "    last_message = messages[-1]\n",
    "    # If there is no function call, then we finish\n",
    "    if not last_message.tool_calls:\n",
    "        return \"end\"\n",
    "    # Otherwise if there is, we continue\n",
    "    else:\n",
    "        return \"continue\""
   ]
  },
  {
   "cell_type": "markdown",
   "id": "7a404cb0",
   "metadata": {},
   "source": [
    "## Build Graph"
   ]
  },
  {
   "cell_type": "code",
   "execution_count": 7,
   "id": "6645ccff",
   "metadata": {},
   "outputs": [],
   "source": [
    "from langgraph.graph import StateGraph, END\n",
    "\n",
    "# Define a new graph\n",
    "workflow = StateGraph(AgentState)\n",
    "\n",
    "# Define the two nodes we will cycle between\n",
    "workflow.add_node(\"agent\", call_model)\n",
    "workflow.add_node(\"tools\", tool_node)\n",
    "\n",
    "# Set start node : start -> agent\n",
    "workflow.set_entry_point(\"agent\")\n",
    "\n",
    "# We now add a conditional edge\n",
    "workflow.add_conditional_edges(\n",
    "    \"agent\",\n",
    "    should_continue,\n",
    "    {\n",
    "        \"continue\": \"tools\", \n",
    "        \"end\": END,      \n",
    "    },\n",
    ")\n",
    "\n",
    "# We now add a normal edge from ‘tools‘ to ‘agent‘.\n",
    "# This means that after ‘tools‘ is called, ‘agent‘ node is called next.\n",
    "workflow.add_edge(\"tools\", \"agent\")\n",
    "\n",
    "# Now we can compile and visualize our graph\n",
    "graph = workflow.compile()"
   ]
  },
  {
   "cell_type": "code",
   "execution_count": 8,
   "id": "20340e1a",
   "metadata": {},
   "outputs": [
    {
     "data": {
      "image/png": "[encoded data removed]",
      "text/plain": [
       "<IPython.core.display.Image object>"
      ]
     },
     "metadata": {},
     "output_type": "display_data"
    }
   ],
   "source": [
    "from IPython.display import Image, display\n",
    "\n",
    "try:\n",
    "    display(Image(graph.get_graph().draw_mermaid_png()))\n",
    "except Exception:\n",
    "    # This requires some extra dependencies and is optional\n",
    "    pass"
   ]
  },
  {
   "cell_type": "code",
   "execution_count": null,
   "id": "c8917dcf",
   "metadata": {},
   "outputs": [],
   "source": [
    "# Create our initial message dictionary\n",
    "inputs = {\"messages\": [(\"user\", \"How is the weather in Vietnam?\")]}\n",
    "\n",
    "# call our graph with streaming to see the steps\n",
    "\n",
    "for state in graph.stream(inputs, stream_mode=\"values\"):\n",
    "    print(state)"
   ]
  }
 ],
 "metadata": {
  "kernelspec": {
   "display_name": "LLMs_Agents",
   "language": "python",
   "name": "python3"
  },
  "language_info": {
   "codemirror_mode": {
    "name": "ipython",
    "version": 3
   },
   "file_extension": ".py",
   "mimetype": "text/x-python",
   "name": "python",
   "nbconvert_exporter": "python",
   "pygments_lexer": "ipython3",
   "version": "3.10.16"
  }
 },
 "nbformat": 4,
 "nbformat_minor": 5
}
