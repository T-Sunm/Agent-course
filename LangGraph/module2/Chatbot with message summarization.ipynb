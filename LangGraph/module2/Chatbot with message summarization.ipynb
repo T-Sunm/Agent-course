{
 "cells": [
  {
   "cell_type": "code",
   "execution_count": 12,
   "id": "e5df177f",
   "metadata": {},
   "outputs": [],
   "source": [
    "from pprint import pprint\n",
    "from langchain_core.messages import AIMessage, HumanMessage, SystemMessage\n",
    "from IPython.display import Image, display\n",
    "from langgraph.graph import MessagesState\n",
    "from langgraph.graph import StateGraph, START, END\n",
    "from langchain_core.messages import RemoveMessage"
   ]
  },
  {
   "cell_type": "code",
   "execution_count": 13,
   "id": "2d3acf42",
   "metadata": {},
   "outputs": [],
   "source": [
    "from langchain_openai import ChatOpenAI\n",
    "import re\n",
    "model: ChatOpenAI = ChatOpenAI(\n",
    "    base_url=\"http://127.0.0.1:1234/v1\",\n",
    "    temperature=0,\n",
    "    api_key=\"not-needed\"\n",
    ")\n",
    "\n",
    "pattern = r\"<think>[\\s\\S]*?<\\/think>\"\n"
   ]
  },
  {
   "cell_type": "markdown",
   "id": "0151762a",
   "metadata": {},
   "source": [
    "## State"
   ]
  },
  {
   "cell_type": "code",
   "execution_count": 14,
   "id": "f4c1045d",
   "metadata": {},
   "outputs": [],
   "source": [
    "class State(MessagesState):\n",
    "    summarize = str"
   ]
  },
  {
   "cell_type": "markdown",
   "id": "24bb0b82",
   "metadata": {},
   "source": [
    "## Node"
   ]
  },
  {
   "cell_type": "code",
   "execution_count": 15,
   "id": "156a24d1",
   "metadata": {},
   "outputs": [],
   "source": [
    "def call_model(state: State):\n",
    "\n",
    "    summary = state.get(\"summarize\", \"\")\n",
    "    if summary:\n",
    "        system_message = f\"Summary of conversation earlier: {summary}\"\n",
    "        messages = [SystemMessage(content=system_message)] + state[\"messages\"]\n",
    "    else:\n",
    "        messages = state[\"messages\"]\n",
    "\n",
    "    response = model.invoke(messages)\n",
    "    return {\"messages\": response}"
   ]
  },
  {
   "cell_type": "code",
   "execution_count": 16,
   "id": "4e097171",
   "metadata": {},
   "outputs": [],
   "source": [
    "def summarize_conversation(state: State):\n",
    "    summary = state.get(\"summarize\", \"\")\n",
    "    if summary:\n",
    "        summary_message = (\n",
    "            f\"This is summary of the conversation to date: {summary}\\n\\n\"\n",
    "            \"Extend the summary by taking into account the new messages above:\"\n",
    "        )\n",
    "    else:\n",
    "        summary_message = f\"Create a summary of the conversation above:\"\n",
    "\n",
    "    messages = [HumanMessage(content=summary_message)] + state[\"messages\"] \n",
    "\n",
    "    response = model.invoke(messages)\n",
    "    response = re.sub(pattern, \"\", response.content)\n",
    "    delete_msg = [RemoveMessage(id=m.id) for m in state[\"messages\"][:-2]]\n",
    "\n",
    "    return {\"messages\": delete_msg, \"summarize\": response}"
   ]
  },
  {
   "cell_type": "code",
   "execution_count": 17,
   "id": "7c8e504e",
   "metadata": {},
   "outputs": [],
   "source": [
    "from langgraph.graph import END\n",
    "# Determine whether to end or summarize the conversation\n",
    "def should_continue(state: State):\n",
    "    \"\"\"Return the next node to execute.\"\"\"\n",
    "\n",
    "    messages = state[\"messages\"]\n",
    "\n",
    "    # If there are more than six messages, then we summarize the conversation\n",
    "    if len(messages) > 6:\n",
    "        return \"summarize_conversation\"\n",
    "\n",
    "    # Otherwise we can just end\n",
    "    return END"
   ]
  },
  {
   "cell_type": "markdown",
   "id": "14970b35",
   "metadata": {},
   "source": [
    "## Build graph"
   ]
  },
  {
   "cell_type": "code",
   "execution_count": 22,
   "id": "29c1b097",
   "metadata": {},
   "outputs": [
    {
     "data": {
      "image/png": "[encoded data removed]",
      "text/plain": [
       "<IPython.core.display.Image object>"
      ]
     },
     "metadata": {},
     "output_type": "display_data"
    }
   ],
   "source": [
    "from IPython.display import Image, display\n",
    "from langgraph.checkpoint.memory import MemorySaver\n",
    "from langgraph.graph import StateGraph, START\n",
    "\n",
    "# Tạo graph\n",
    "workflow = StateGraph(State)\n",
    "workflow.add_node(\"conversation\", call_model)\n",
    "workflow.add_node(\"summarize_conversation\", summarize_conversation)\n",
    "\n",
    "# Bắt đầu từ START → gọi node \"conversation\"\n",
    "workflow.add_edge(START, \"conversation\")\n",
    "\n",
    "# Ở node \"conversation\", tùy kết quả của should_continue:\n",
    "#   - nếu trả về \"summarize_conversation\" thì đi vào node đó\n",
    "#   - nếu trả về END thì kết thúc\n",
    "workflow.add_conditional_edges(\n",
    "    \"conversation\",\n",
    "    should_continue,\n",
    "    {\n",
    "        \"summarize_conversation\": \"summarize_conversation\",\n",
    "        END: END\n",
    "    }\n",
    ")\n",
    "\n",
    "# Sau khi xong summarize, quay về END\n",
    "workflow.add_edge(\"summarize_conversation\", END)\n",
    "\n",
    "# Compile và vẽ\n",
    "memory = MemorySaver()\n",
    "graph = workflow.compile(checkpointer=memory)\n",
    "display(Image(graph.get_graph().draw_mermaid_png()))"
   ]
  },
  {
   "cell_type": "code",
   "execution_count": 19,
   "id": "90a5bb57",
   "metadata": {},
   "outputs": [
    {
     "name": "stdout",
     "output_type": "stream",
     "text": [
      "==================================\u001b[1m Ai Message \u001b[0m==================================\n",
      "\n",
      "<think>\n",
      "Okay, the user said \"hi! I'm Lance.\" So they're introducing themselves as Lance. I need to respond in a friendly and helpful way.\n",
      "\n",
      "First, I should acknowledge their greeting. Maybe say something like \"Hello!\" or \"Hi there!\" to keep it open.\n",
      "\n",
      "Then, since they mentioned being Lance, I can ask how they're doing or if they have any questions. That's a good way to invite them to ask anything.\n",
      "\n",
      "I should make sure the response is concise and not too long. Keep it simple and welcoming.\n",
      "\n",
      "Also, check for any possible follow-up questions they might have. Maybe offer assistance with anything related to their interests or tasks.\n",
      "\n",
      "Avoid using technical jargon unless they mention it. Stay conversational.\n",
      "\n",
      "Alright, putting it all together: a friendly greeting, an invitation to ask questions, and a positive tone.\n",
      "</think>\n",
      "\n",
      "Hello! I'm Lance. How can I assist you today? 😊\n",
      "==================================\u001b[1m Ai Message \u001b[0m==================================\n",
      "\n",
      "<think>\n",
      "Okay, the user asked, \"What's my name?\" They're probably trying to figure out their own name or maybe they want to know how to get it.\n",
      "\n",
      "First, I need to clarify that I don't have a name. But I can help them find out their name if they provide it. Maybe they're confused about their own identity or want to check something else.\n",
      "\n",
      "I should respond in a friendly and helpful way. Let me make sure to ask for their name so I can assist them properly. Also, keep the tone positive and encouraging.\n",
      "</think>\n",
      "\n",
      "Ah, that's a great question! I don’t have a name myself, but if you’d like to share your name, I’d love to help you with anything related to it—like finding a nickname, creating a character, or even solving a mystery! What’s your name? 😊\n",
      "==================================\u001b[1m Ai Message \u001b[0m==================================\n",
      "\n",
      "<think>\n",
      "Okay, the user mentioned they like the 49ers. I need to respond appropriately. First, I should acknowledge their preference for the San Francisco 49ers football team. Maybe mention that the 49ers are a popular team in California and have a strong fan base.\n",
      "\n",
      "I should also consider if there's any deeper meaning behind their comment. They might be interested in learning more about the team, its history, or maybe even how to support them. It would be good to offer help in that direction.\n",
      "\n",
      "I need to keep the tone friendly and engaging. Maybe add some enthusiasm about the team and ask if they want more information. Also, make sure to use emojis to keep it light and approachable. Let me check if there's anything else I should include. No, that should cover it. Just a simple response that invites them to ask for more help.\n",
      "</think>\n",
      "\n",
      "Oh, the 49ers are such a fantastic team! They’ve got a huge following in California and have had some incredible moments on the field. If you're into football, you might enjoy learning about their history, their rivalry with the Raiders, or even how to support them during games! Let me know if you'd like to dive deeper into anything related to them—whether it's trivia, fan culture, or something else! 🏈💪\n"
     ]
    }
   ],
   "source": [
    "# Create a thread\n",
    "config = {\"configurable\": {\"thread_id\": \"1\"}}\n",
    "\n",
    "# Start conversation\n",
    "input_message = HumanMessage(content=\"hi! I'm Lance\")\n",
    "output = graph.invoke({\"messages\": [input_message]}, config)\n",
    "for m in output['messages'][-1:]:\n",
    "    m.pretty_print()\n",
    "\n",
    "input_message = HumanMessage(content=\"what's my name?\")\n",
    "output = graph.invoke({\"messages\": [input_message]}, config)\n",
    "for m in output['messages'][-1:]:\n",
    "    m.pretty_print()\n",
    "\n",
    "input_message = HumanMessage(content=\"i like the 49ers!\")\n",
    "output = graph.invoke({\"messages\": [input_message]}, config)\n",
    "for m in output['messages'][-1:]:\n",
    "    m.pretty_print()"
   ]
  },
  {
   "cell_type": "code",
   "execution_count": 20,
   "id": "c743b81e",
   "metadata": {},
   "outputs": [
    {
     "name": "stdout",
     "output_type": "stream",
     "text": [
      "==================================\u001b[1m Ai Message \u001b[0m==================================\n",
      "\n",
      "<think>\n",
      "Okay, the user mentioned they like Nick Bosa and that he's the highest-paid defensive player. I need to respond appropriately.\n",
      "\n",
      "First, I should confirm their interest in Nick Bosa. Then, address the part about him being the highest-paid defensive player. I should check if that's accurate. Wait, as of 2023, Nick Bosa is indeed one of the top earners in the NFL, but he's not the highest paid defensive player. The highest would be maybe someone like Justin Jefferson or other wide receivers. But the user might not know that.\n",
      "\n",
      "I need to present this information accurately without making it sound like I'm contradicting them. Maybe explain that while Bosa is a top-tier player, there are others with higher salaries in the league. Also, acknowledge their interest and offer to discuss more about him or other players they enjoy.\n",
      "\n",
      "Make sure the tone is friendly and helpful. Encourage them to ask questions if they want more details. Keep it conversational and positive.\n",
      "</think>\n",
      "\n",
      "Oh, Nick Bosa is a fantastic player! He’s known for his incredible skills on the field and his dedication to the team. While he’s definitely one of the top defensive players in the league, I’d say he’s not the highest-paid defensive player overall—though he’s certainly among the top earners. If you’re into NFL salaries or want to learn more about his career, let me know! 🏈💪\n"
     ]
    }
   ],
   "source": [
    "input_message = HumanMessage(\n",
    "    content=\"i like Nick Bosa, isn't he the highest paid defensive player?\")\n",
    "output = graph.invoke({\"messages\": [input_message]}, config)\n",
    "for m in output['messages'][-1:]:\n",
    "    m.pretty_print()"
   ]
  },
  {
   "cell_type": "code",
   "execution_count": 21,
   "id": "9ca76d14",
   "metadata": {},
   "outputs": [
    {
     "data": {
      "text/plain": [
       "''"
      ]
     },
     "execution_count": 21,
     "metadata": {},
     "output_type": "execute_result"
    }
   ],
   "source": [
    "graph.get_state(config).values.get(\"summary\", \"\")"
   ]
  }
 ],
 "metadata": {
  "kernelspec": {
   "display_name": "LLMs_Agents",
   "language": "python",
   "name": "python3"
  },
  "language_info": {
   "codemirror_mode": {
    "name": "ipython",
    "version": 3
   },
   "file_extension": ".py",
   "mimetype": "text/x-python",
   "name": "python",
   "nbconvert_exporter": "python",
   "pygments_lexer": "ipython3",
   "version": "3.10.16"
  }
 },
 "nbformat": 4,
 "nbformat_minor": 5
}
