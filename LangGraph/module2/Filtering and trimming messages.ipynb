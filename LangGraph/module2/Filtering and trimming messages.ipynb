{
 "cells": [
  {
   "cell_type": "markdown",
   "id": "a1e6f242",
   "metadata": {},
   "source": [
    "## Messages as state"
   ]
  },
  {
   "cell_type": "code",
   "execution_count": 10,
   "id": "09fec864",
   "metadata": {},
   "outputs": [
    {
     "name": "stdout",
     "output_type": "stream",
     "text": [
      "==================================\u001b[1m Ai Message \u001b[0m==================================\n",
      "Name: Bot\n",
      "\n",
      "So you said you were researching ocean mammals?\n",
      "================================\u001b[1m Human Message \u001b[0m=================================\n",
      "Name: Lance\n",
      "\n",
      "Yes, I know about whales. But what others should I learn about?\n"
     ]
    }
   ],
   "source": [
    "from pprint import pprint\n",
    "from langchain_core.messages import AIMessage, HumanMessage\n",
    "messages = [\n",
    "    AIMessage(f\"So you said you were researching ocean mammals?\", name=\"Bot\")]\n",
    "messages.append(HumanMessage(\n",
    "    f\"Yes, I know about whales. But what others should I learn about?\", name=\"Lance\"))\n",
    "\n",
    "for m in messages:\n",
    "    m.pretty_print()"
   ]
  },
  {
   "cell_type": "code",
   "execution_count": 11,
   "id": "38cab432",
   "metadata": {},
   "outputs": [
    {
     "data": {
      "text/plain": [
       "langchain_core.messages.ai.AIMessage"
      ]
     },
     "execution_count": 11,
     "metadata": {},
     "output_type": "execute_result"
    }
   ],
   "source": [
    "from langchain_openai import ChatOpenAI\n",
    "llm: ChatOpenAI = ChatOpenAI(\n",
    "    base_url=\"http://127.0.0.1:1234/v1\",\n",
    "    temperature=0,\n",
    "    api_key=\"not-needed\"\n",
    ")\n",
    "result = llm.invoke(messages)\n",
    "type(result)"
   ]
  },
  {
   "cell_type": "code",
   "execution_count": 12,
   "id": "14454030",
   "metadata": {},
   "outputs": [
    {
     "data": {
      "image/png": "[encoded data removed]",
      "text/plain": [
       "<IPython.core.display.Image object>"
      ]
     },
     "metadata": {},
     "output_type": "display_data"
    }
   ],
   "source": [
    "from IPython.display import Image, display\n",
    "from langgraph.graph import MessagesState\n",
    "from langgraph.graph import StateGraph, START, END\n",
    "\n",
    "def chat_model_node(state: MessagesState):\n",
    "    return {\"messages\": llm.invoke(state[\"messages\"])}\n",
    "\n",
    "\n",
    "builder = StateGraph(MessagesState)\n",
    "builder.add_node(\"chat_model\", chat_model_node)\n",
    "builder.add_edge(START, \"chat_model\")\n",
    "builder.add_edge(\"chat_model\", END)\n",
    "graph = builder.compile()\n",
    "display(Image(graph.get_graph().draw_mermaid_png()))"
   ]
  },
  {
   "cell_type": "markdown",
   "id": "0ffa6706",
   "metadata": {},
   "source": [
    "## Reducer filtering"
   ]
  },
  {
   "cell_type": "code",
   "execution_count": 13,
   "id": "849e5fea",
   "metadata": {},
   "outputs": [
    {
     "data": {
      "image/png": "[encoded data removed]",
      "text/plain": [
       "<IPython.core.display.Image object>"
      ]
     },
     "metadata": {},
     "output_type": "display_data"
    }
   ],
   "source": [
    "from IPython.display import Image, display\n",
    "from langgraph.graph import MessagesState\n",
    "from langgraph.graph import StateGraph, START, END\n",
    "from langchain_core.messages import RemoveMessage\n",
    "\n",
    "def filter_messages(state: MessagesState):\n",
    "    delete_messages = [RemoveMessage(id=m.id) for m in state[\"messages\"][:-2]]\n",
    "\n",
    "    # vì có reducer add nơi state nên return về delete_message thì reducer sẽ xóa\n",
    "    return {\"messages\": delete_messages}\n",
    "\n",
    "def chat_model_node(state: MessagesState):\n",
    "    return {\"messages\": llm.invoke(state[\"messages\"])}\n",
    "\n",
    "\n",
    "builder = StateGraph(MessagesState)\n",
    "builder.add_node(\"filter\", filter_messages)\n",
    "builder.add_node(\"chat_model\", chat_model_node)\n",
    "builder.add_edge(START, \"filter\")\n",
    "builder.add_edge(\"filter\", \"chat_model\")\n",
    "builder.add_edge(\"chat_model\", END)\n",
    "graph = builder.compile()\n",
    "display(Image(graph.get_graph().draw_mermaid_png()))"
   ]
  },
  {
   "cell_type": "code",
   "execution_count": 14,
   "id": "d1f49fae",
   "metadata": {},
   "outputs": [
    {
     "name": "stdout",
     "output_type": "stream",
     "text": [
      "==================================\u001b[1m Ai Message \u001b[0m==================================\n",
      "Name: Bot\n",
      "\n",
      "So you said you were researching ocean mammals?\n",
      "================================\u001b[1m Human Message \u001b[0m=================================\n",
      "Name: Lance\n",
      "\n",
      "Yes, I know about whales. But what others should I learn about?\n",
      "==================================\u001b[1m Ai Message \u001b[0m==================================\n",
      "\n",
      "<think>\n",
      "Okay, the user mentioned they know about whales but want to learn more about other ocean mammals. Let me start by recalling the main types of marine mammals.\n",
      "\n",
      "First, there are the baleen whales and toothed whales. Baleen whales like bluefin tuna and humpback whales have baleen plates for filtering food. Toothed whales, such as orcas and sperm whales, use teeth to catch prey. I should explain the difference between them.\n",
      "\n",
      "Then there's the dolphin family, which includes species like bottlenose dolphins and killer whales. They're known for their intelligence and social structures. Maybe mention their unique features like echolocation.\n",
      "\n",
      "Marine mammals also include seals, sea lions, and penguins. Wait, penguins are birds, but they live in oceans. So I should clarify that they're not true marine mammals but have adapted to aquatic life. Mention their adaptations like flippers and streamlined bodies.\n",
      "\n",
      "Whales are a big category too. There are different types: toothed whales (like sperm whales) and baleen whales (like blue whales). Also, there's the case of the narwhal, which is a type of whale with a unique spiral horn.\n",
      "\n",
      "I should also touch on their habitats and behaviors. For example, some species live in polar regions, others in tropical areas. Their communication methods, like clicks and whistles in dolphins, or songs in whales.\n",
      "\n",
      "Wait, the user might be interested in learning about specific examples. Maybe list them in categories: baleen, toothed, and then other groups like seals, sea lions, penguins. Also mention their ecological roles and conservation status.\n",
      "\n",
      "I need to make sure the information is accurate. For example, penguins are not mammals but have evolved to live in water. Also, some whales are endangered due to hunting or pollution. Including that adds context about conservation.\n",
      "\n",
      "Structure-wise, start with an introduction about ocean mammals, then list categories with examples, explain differences, and maybe touch on their adaptations and conservation. Keep it clear and concise, avoiding jargon but providing enough detail for someone interested in learning.\n",
      "</think>\n",
      "\n",
      "That's a great question! Ocean mammals are fascinating because they've adapted to life in the sea in unique ways. Here’s an overview of the main types you might want to explore:\n",
      "\n",
      "---\n",
      "\n",
      "### **1. Baleen Whales (Mammals with Baleen Plates)**\n",
      "- **Key Features**: \n",
      "  - Have baleen plates (straw-like structures) for filtering food.\n",
      "  - No teeth; they feed on plankton, small fish, and krill.\n",
      "  - Examples: Bluefin tuna (though technically a fish), humpback whales, orcas (killer whales), and the blue whale (the largest animal).\n",
      "- **Adaptations**: \n",
      "  - Large size for energy efficiency in the ocean.\n",
      "  - Complex social structures (e.g., humpbacks sing complex songs).\n",
      "\n",
      "---\n",
      "\n",
      "### **2. Toothed Whales (Mammals with Teeth)**\n",
      "- **Key Features**:\n",
      "  - Use teeth to catch prey (fish, squid, etc.).\n",
      "  - Include species like sperm whales, orcas (killer whales), and the bottlenose dolphin.\n",
      "- **Adaptations**:\n",
      "  - Echolocation for navigation and hunting.\n",
      "  - High intelligence and social complexity (e.g., dolphins are known for their problem-solving skills).\n",
      "\n",
      "---\n",
      "\n",
      "### **3. Seals, Sea Lions, and Penguins**\n",
      "- **Note**: Penguins are birds, not mammals, but they’ve evolved to live in the ocean. They have flippers instead of limbs and streamlined bodies.\n",
      "  - **Seals** (e.g., harbor seals): Live in cold polar regions; use echolocation and strong swimming muscles.\n",
      "  - **Sea Lions** (e.g., California sea lions): Social animals with complex family structures.\n",
      "  - **Penguins** (e.g., emperor penguin): Adapted to freezing environments, with thick blubber and streamlined bodies.\n",
      "\n",
      "---\n",
      "\n",
      "### **4. Other Marine Mammals**\n",
      "- **Whales**: \n",
      "  - Includes the narwhal (a type of whale with a spiral horn), the beluga whale, and the dwarf sperm whale.\n",
      "- **Dolphins**:\n",
      "  - Known for intelligence, playfulness, and complex social behaviors.\n",
      "- **Sirenians** (e.g., manatees, dugongs): Marine mammals with flippers, but they’re more closely related to elephants.\n",
      "\n",
      "---\n",
      "\n",
      "### **Key Differences**\n",
      "| Feature | Baleen Whales | Toothed Whales | Seals/Sea Lions/Penguins |\n",
      "|--------|----------------|----------------|---------------------------|\n",
      "| Diet | Plankton, small fish | Fish, squid | Krill, algae (seals), plants (penguins) |\n",
      "| Teeth | None | Yes | None | \n",
      "| Communication | Songs (whales, dolphins) | Clicks, whistles | Vocalizations and social calls |\n",
      "\n",
      "---\n",
      "\n",
      "### **Adaptations for Life in the Ocean**\n",
      "- **Streamlined Bodies**: For efficient swimming.\n",
      "- **Flippers/Claws**: Instead of limbs for movement.\n",
      "- **Blubber**: Insulation against cold (e.g., polar bears are mammals, but penguins have blubber).\n",
      "- **Echolocation**: Used by dolphins and some whales to navigate.\n",
      "\n",
      "---\n",
      "\n",
      "### **Conservation Highlights**\n",
      "- Many marine mammals face threats like pollution, overfishing, and climate change.\n",
      "- Protecting their habitats (e.g., whale sanctuaries) is crucial for their survival.\n",
      "\n",
      "---\n",
      "\n",
      "Would you like to dive deeper into a specific group? For example, how do dolphins use echolocation? Or what’s the role of whales in ocean ecosystems? 😊\n"
     ]
    }
   ],
   "source": [
    "# Message list with a preamble\n",
    "messages = [AIMessage(\"Hi.\", name=\"Bot\", id=\"1\")]\n",
    "messages.append(HumanMessage(\"Hi.\", name=\"Lance\", id=\"2\"))\n",
    "messages.append(AIMessage(\n",
    "    \"So you said you were researching ocean mammals?\", name=\"Bot\", id=\"3\"))\n",
    "messages.append(HumanMessage(\n",
    "    \"Yes, I know about whales. But what others should I learn about?\", name=\"Lance\", id=\"4\"))\n",
    "\n",
    "# Invoke\n",
    "output = graph.invoke({'messages': messages})\n",
    "for m in output['messages']:\n",
    "    m.pretty_print()"
   ]
  },
  {
   "cell_type": "markdown",
   "id": "d9bec2bc",
   "metadata": {},
   "source": [
    "## Filtering messages"
   ]
  },
  {
   "cell_type": "code",
   "execution_count": 15,
   "id": "1cf07c61",
   "metadata": {},
   "outputs": [
    {
     "data": {
      "image/png": "[encoded data removed]",
      "text/plain": [
       "<IPython.core.display.Image object>"
      ]
     },
     "metadata": {},
     "output_type": "display_data"
    }
   ],
   "source": [
    "# Node : chỉ lấy tin nhắn gần nhất làm context\n",
    "def chat_model_node(state: MessagesState):\n",
    "    return {\"messages\": [llm.invoke(state[\"messages\"][-1:])]}\n",
    "\n",
    "\n",
    "# Build graph\n",
    "builder = StateGraph(MessagesState)\n",
    "builder.add_node(\"chat_model\", chat_model_node)\n",
    "builder.add_edge(START, \"chat_model\")\n",
    "builder.add_edge(\"chat_model\", END)\n",
    "graph = builder.compile()\n",
    "\n",
    "# View\n",
    "display(Image(graph.get_graph().draw_mermaid_png()))"
   ]
  },
  {
   "cell_type": "markdown",
   "id": "a31ff392",
   "metadata": {},
   "source": [
    "## Trim messages"
   ]
  },
  {
   "cell_type": "code",
   "execution_count": 16,
   "id": "8b215b6c",
   "metadata": {},
   "outputs": [
    {
     "data": {
      "image/png": "[encoded data removed]",
      "text/plain": [
       "<IPython.core.display.Image object>"
      ]
     },
     "metadata": {},
     "output_type": "display_data"
    }
   ],
   "source": [
    "from langchain_core.messages import trim_messages\n",
    "\n",
    "# Node\n",
    "def chat_model_node(state: MessagesState):\n",
    "    messages = trim_messages(\n",
    "        state[\"messages\"],\n",
    "        max_tokens=100,\n",
    "        strategy=\"last\",\n",
    "        token_counter=llm,\n",
    "        allow_partial=False,\n",
    "    )\n",
    "    return {\"messages\": [llm.invoke(messages)]}\n",
    "\n",
    "\n",
    "# Build graph\n",
    "builder = StateGraph(MessagesState)\n",
    "builder.add_node(\"chat_model\", chat_model_node)\n",
    "builder.add_edge(START, \"chat_model\")\n",
    "builder.add_edge(\"chat_model\", END)\n",
    "graph = builder.compile()\n",
    "\n",
    "# View\n",
    "display(Image(graph.get_graph().draw_mermaid_png()))"
   ]
  },
  {
   "cell_type": "code",
   "execution_count": 17,
   "id": "dc6fc410",
   "metadata": {},
   "outputs": [],
   "source": [
    "messages.append(output['messages'][-1])\n",
    "messages.append(HumanMessage(f\"Tell me where Orcas live!\", name=\"Lance\"))"
   ]
  },
  {
   "cell_type": "code",
   "execution_count": 20,
   "id": "3159b83c",
   "metadata": {},
   "outputs": [
    {
     "data": {
      "text/plain": [
       "[AIMessage(content='- Many marine mammals face threats like pollution, overfishing, and climate change.\\n- Protecting their habitats (e.g., whale sanctuaries) is crucial for their survival.\\n\\n---\\n\\nWould you like to dive deeper into a specific group? For example, how do dolphins use echolocation? Or what’s the role of whales in ocean ecosystems? 😊', additional_kwargs={'refusal': None}, response_metadata={'token_usage': {'completion_tokens': 1163, 'prompt_tokens': 37, 'total_tokens': 1200, 'completion_tokens_details': None, 'prompt_tokens_details': None}, 'model_name': 'qwen3-1.7b', 'system_fingerprint': 'qwen3-1.7b', 'id': 'chatcmpl-pn1afzurzcbqxyqhwkt3t', 'finish_reason': 'stop', 'logprobs': None}, id='run--d87e5445-2975-486e-afdf-fcbca2ec03cf-0', usage_metadata={'input_tokens': 37, 'output_tokens': 1163, 'total_tokens': 1200, 'input_token_details': {}, 'output_token_details': {}}),\n",
       " HumanMessage(content='Tell me where Orcas live!', additional_kwargs={}, response_metadata={}, name='Lance')]"
      ]
     },
     "execution_count": 20,
     "metadata": {},
     "output_type": "execute_result"
    }
   ],
   "source": [
    "# Example of trimming messages\n",
    "trim_messages(\n",
    "    messages,\n",
    "    max_tokens=100,\n",
    "    strategy=\"last\",\n",
    "    token_counter=llm,\n",
    "    allow_partial=True\n",
    ")"
   ]
  }
 ],
 "metadata": {
  "kernelspec": {
   "display_name": "LLMs_Agents",
   "language": "python",
   "name": "python3"
  },
  "language_info": {
   "codemirror_mode": {
    "name": "ipython",
    "version": 3
   },
   "file_extension": ".py",
   "mimetype": "text/x-python",
   "name": "python",
   "nbconvert_exporter": "python",
   "pygments_lexer": "ipython3",
   "version": "3.10.16"
  }
 },
 "nbformat": 4,
 "nbformat_minor": 5
}
