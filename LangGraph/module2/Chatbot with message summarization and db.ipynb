{
 "cells": [
  {
   "cell_type": "code",
   "execution_count": 1,
   "id": "e5df177f",
   "metadata": {},
   "outputs": [],
   "source": [
    "from pprint import pprint\n",
    "from langchain_core.messages import AIMessage, HumanMessage, SystemMessage\n",
    "from IPython.display import Image, display\n",
    "from langgraph.graph import MessagesState\n",
    "from langgraph.graph import StateGraph, START, END\n",
    "from langchain_core.messages import RemoveMessage"
   ]
  },
  {
   "cell_type": "code",
   "execution_count": 2,
   "id": "2d3acf42",
   "metadata": {},
   "outputs": [],
   "source": [
    "from langchain_openai import ChatOpenAI\n",
    "import re\n",
    "model: ChatOpenAI = ChatOpenAI(\n",
    "    base_url=\"http://127.0.0.1:1234/v1\",\n",
    "    temperature=0,\n",
    "    api_key=\"not-needed\"\n",
    ")\n",
    "\n",
    "pattern = r\"<think>[\\s\\S]*?<\\/think>\"\n"
   ]
  },
  {
   "cell_type": "markdown",
   "id": "afc37ce3",
   "metadata": {},
   "source": [
    "## Memory"
   ]
  },
  {
   "cell_type": "code",
   "execution_count": 3,
   "id": "bbc4e98e",
   "metadata": {},
   "outputs": [],
   "source": [
    "from langgraph.checkpoint.sqlite import SqliteSaver\n",
    "import sqlite3\n",
    "import os\n",
    "\n",
    "db_path = \"state_db/example.db\"\n",
    "os.makedirs(os.path.dirname(db_path), exist_ok=True)\n",
    "conn = sqlite3.connect(db_path, check_same_thread=False)\n",
    "memory = SqliteSaver(conn)"
   ]
  },
  {
   "cell_type": "markdown",
   "id": "0151762a",
   "metadata": {},
   "source": [
    "## State"
   ]
  },
  {
   "cell_type": "code",
   "execution_count": 4,
   "id": "f4c1045d",
   "metadata": {},
   "outputs": [],
   "source": [
    "from langgraph.graph.message import add_messages\n",
    "from typing import Annotated\n",
    "from typing_extensions import TypedDict\n",
    "from langchain_core.messages import AnyMessage\n",
    "\n",
    "class State(TypedDict):\n",
    "    messages: Annotated[list[AnyMessage], add_messages]\n",
    "    summary: str"
   ]
  },
  {
   "cell_type": "markdown",
   "id": "24bb0b82",
   "metadata": {},
   "source": [
    "## Node"
   ]
  },
  {
   "cell_type": "code",
   "execution_count": 5,
   "id": "156a24d1",
   "metadata": {},
   "outputs": [],
   "source": [
    "def call_model(state: State):\n",
    "    summary = state.get(\"summary\", \"\")\n",
    "\n",
    "    if summary:\n",
    "        system_message = f\"Summary of conversation earlier: {summary}\"\n",
    "        messages = [SystemMessage(content=system_message)] + state[\"messages\"]\n",
    "    else:\n",
    "        messages = state[\"messages\"]\n",
    "    response = model.invoke(messages)\n",
    "    \n",
    "    return {\"messages\": response}"
   ]
  },
  {
   "cell_type": "code",
   "execution_count": null,
   "id": "4e097171",
   "metadata": {},
   "outputs": [],
   "source": [
    "def summarize_conversation(state: State):\n",
    "    summary = state.get(\"summary\", \"\")\n",
    "    if summary:\n",
    "        summary_message = (\n",
    "            f\"This is summary of the conversation to date: {summary}\\n\\n\"\n",
    "            \"Extend the summary by taking into account the new messages above:\"\n",
    "        )\n",
    "    else:\n",
    "        summary_message = f\"Create a summary of the conversation above:\"\n",
    "\n",
    "    messages = state[\"messages\"] + [HumanMessage(content=summary_message)] # nếu đảo lại là sẽ bị dính 2 human mesages -> invoke kh có kết quả\n",
    "\n",
    "    response = model.invoke(messages)\n",
    "    response = re.sub(pattern, \"\", response.content)\n",
    "    \n",
    "    delete_msg = [RemoveMessage(id=m.id) for m in state[\"messages\"][:-2]]\n",
    "\n",
    "    return {\"messages\": delete_msg, \"summary\": response}"
   ]
  },
  {
   "cell_type": "markdown",
   "id": "14970b35",
   "metadata": {},
   "source": [
    "## Build graph"
   ]
  },
  {
   "cell_type": "code",
   "execution_count": 7,
   "id": "29c1b097",
   "metadata": {},
   "outputs": [
    {
     "data": {
      "image/png": "[encoded data removed]",
      "text/plain": [
       "<IPython.core.display.Image object>"
      ]
     },
     "metadata": {},
     "output_type": "display_data"
    }
   ],
   "source": [
    "from langgraph.graph import StateGraph, START, END\n",
    "from IPython.display import Image, display\n",
    "\n",
    "def should_continue(state: State):\n",
    "    return \"summarize_conversation\" if len(state[\"messages\"]) > 6 else \"End\"\n",
    "\n",
    "\n",
    "workflow = StateGraph(State)\n",
    "workflow.add_node(\"conversation\", call_model)\n",
    "workflow.add_node(\"summarize_conversation\", summarize_conversation)\n",
    "\n",
    "workflow.add_edge(START, \"conversation\")\n",
    "workflow.add_conditional_edges(\n",
    "    \"conversation\",\n",
    "    should_continue,\n",
    "    {\n",
    "        \"summarize_conversation\": \"summarize_conversation\",\n",
    "        \"End\": END         \n",
    "    }\n",
    ")\n",
    "workflow.add_edge(\"summarize_conversation\", END)\n",
    "\n",
    "graph = workflow.compile(checkpointer=memory)\n",
    "display(Image(graph.get_graph().draw_mermaid_png()))"
   ]
  },
  {
   "cell_type": "code",
   "execution_count": 8,
   "id": "764e53d0",
   "metadata": {},
   "outputs": [],
   "source": [
    "# Create a thread\n",
    "config = {\"configurable\": {\"thread_id\": \"2\"}}"
   ]
  },
  {
   "cell_type": "code",
   "execution_count": 9,
   "id": "90a5bb57",
   "metadata": {},
   "outputs": [
    {
     "name": "stdout",
     "output_type": "stream",
     "text": [
      "==================================\u001b[1m Ai Message \u001b[0m==================================\n",
      "\n",
      "<think>\n",
      "Okay, the user just said \"hi! I'm Lance.\" So they're introducing themselves as Lance. Let me see how to respond appropriately.\n",
      "\n",
      "First, I should acknowledge their greeting and mention that I'm here to help. Since the previous conversation was about Nick Bosa and his salary, maybe I can keep the tone friendly and offer assistance with any questions related to football or other topics.\n",
      "\n",
      "I need to make sure my response is welcoming and open-ended. Maybe ask how they're doing or if there's anything specific they want to discuss. Also, since they mentioned being Lance, perhaps add a bit of enthusiasm to keep it light.\n",
      "\n",
      "Wait, the user might be looking for a conversation starter. I should encourage them to share more about themselves or their interests. Maybe mention that I'm here to help with any questions they have, whether it's about football, other topics, or just general chat.\n",
      "\n",
      "I should avoid being too formal and keep the language casual. Let me check if there are any specific details from the previous conversation that I need to reference. The user was talking about Nick Bosa, so maybe they're interested in NFL players or sports in general. But since they introduced themselves as Lance, it's better to keep it open.\n",
      "\n",
      "Also, make sure to use emojis to keep the tone friendly and approachable. Maybe add something like \"Hey Lance! How’s your week going?\" to make it more personal.\n",
      "\n",
      "I think that covers it. The response should be friendly, offer help, and invite further conversation.\n",
      "</think>\n",
      "\n",
      "Hey Lance! How’s your week going? I’m glad you’re here—whether you want to chat about football, life, or just hang out, I’m here to help! 😊 What’s on your mind? 🎉\n",
      "==================================\u001b[1m Ai Message \u001b[0m==================================\n",
      "\n",
      "<think>\n",
      "Okay, the user asked, \"what's my name?\" So they're probably trying to figure out their own name. Let me think about how to respond.\n",
      "\n",
      "First, I need to acknowledge that I don't have access to personal information like names. But maybe I can help them find it. Wait, but in a chat setting, the user might be testing if I can recognize their name or if they're trying to play a game where I have to guess it.\n",
      "\n",
      "I should make sure not to give out any personal details. The best approach is to politely explain that I don't have access to that information and offer help with something else. Maybe ask how I can assist them today. That way, I'm being helpful without violating privacy rules.\n",
      "\n",
      "Also, the user might be confused or trying to see if I can recognize their name. But since I can't do that, it's better to stay neutral and focus on providing support in another area. Let me check if there's any other way to engage them. Maybe suggest a different topic they might find interesting, like football, which was mentioned earlier.\n",
      "\n",
      "I need to keep the tone friendly and open-ended. Let them know I'm here to help with whatever they need without assuming anything about their name.\n",
      "</think>\n",
      "\n",
      "Hey Lance! 😊 I don’t have access to personal information like your name, but if you’d like, I can help you find it or ask questions about something else you’re curious about! What’s on your mind? 🎉\n",
      "==================================\u001b[1m Ai Message \u001b[0m==================================\n",
      "\n",
      "<think>\n",
      "Okay, the user mentioned they like the 49ers. Let me think about how to respond. First, I should acknowledge their interest in the team. Maybe mention some key players or moments that make them a fan.\n",
      "\n",
      "I remember Nick Bosa is a big part of the 49ers' defense. He's known for his leadership and performance. Also, the team has had successful seasons with players like Deebo Jackson and Jalen Hurts. \n",
      "\n",
      "The user might be looking for more information about the team or maybe how to support them. I should keep the tone friendly and encouraging. Maybe ask if they want to learn more about the 49ers or discuss something else.\n",
      "\n",
      "I need to make sure my response is positive and helpful. Let me check if there's anything else they might be interested in. Maybe mention their history, recent performances, or fan culture. \n",
      "\n",
      "Also, since the user previously asked about Nick Bosa, I should connect that back. Highlight his role and why he's a favorite. But keep it concise. Avoid any negative information unless they ask for it.\n",
      "\n",
      "Alright, time to put it all together in a friendly and engaging way.\n",
      "</think>\n",
      "\n",
      "Hey Lance! 🎉 The 49ers are a fantastic team with a rich history and a lot of exciting players. Nick Bosa is definitely one of the standout defenders, known for his leadership and clutch performances. If you're into football, you might enjoy learning more about their roster, recent games, or even how to support the team! What’s your favorite aspect of the 49ers? 😊\n"
     ]
    }
   ],
   "source": [
    "# Start conversation\n",
    "input_message = HumanMessage(content=\"hi! I'm Lance\")\n",
    "output = graph.invoke({\"messages\": [input_message]}, config)\n",
    "for m in output['messages'][-1:]:\n",
    "    m.pretty_print()\n",
    "\n",
    "input_message = HumanMessage(content=\"what's my name?\")\n",
    "output = graph.invoke({\"messages\": [input_message]}, config)\n",
    "for m in output['messages'][-1:]:\n",
    "    m.pretty_print()\n",
    "\n",
    "input_message = HumanMessage(content=\"i like the 49ers!\")\n",
    "output = graph.invoke({\"messages\": [input_message]}, config)\n",
    "for m in output['messages'][-1:]:\n",
    "    m.pretty_print()"
   ]
  },
  {
   "cell_type": "code",
   "execution_count": 10,
   "id": "c743b81e",
   "metadata": {},
   "outputs": [
    {
     "name": "stdout",
     "output_type": "stream",
     "text": [
      "==================================\u001b[1m Ai Message \u001b[0m==================================\n",
      "\n",
      "<think>\n",
      "Okay, let's see. The user asked if Nick Bosa is the highest-paid defensive player. I need to clarify that while he's a top defender, his salary isn't the highest among all defensive players.\n",
      "\n",
      "First, I should mention his position and reputation as a leader. Then, list some other high-paid defenders like T.J. Watt or Jalen Reagor. Compare their salaries to Bosa's. Also, note that defensive players have different roles, so the highest pay might vary by position. Finally, offer to help with more questions about football or the 49ers.\n",
      "</think>\n",
      "\n",
      "Hey Lance! 😊 Nick Bosa is definitely a top-tier defender, known for his leadership and impact on the field. While he’s one of the most respected players in the league, **his salary isn’t the highest among all defensive players**. For example, T.J. Watt and Jalen Reagor are often cited as some of the highest-paid defensive linemen, with salaries exceeding $100 million per season. \n",
      "\n",
      "Defensive players vary in pay depending on their position, role, and market value. Bosa’s salary is competitive but not the top in the league. If you’re into football, you might enjoy learning more about the 49ers’ roster or how they’ve built a dynasty! Let me know if you want to dive deeper into any aspect of the team or players. 🏈\n"
     ]
    }
   ],
   "source": [
    "input_message = HumanMessage(\n",
    "    content=\"i like Nick Bosa, isn't he the highest paid defensive player?\")\n",
    "output = graph.invoke({\"messages\": [input_message]}, config)\n",
    "for m in output['messages'][-1:]:\n",
    "    m.pretty_print()"
   ]
  },
  {
   "cell_type": "code",
   "execution_count": 11,
   "id": "256beaf1",
   "metadata": {},
   "outputs": [
    {
     "data": {
      "text/plain": [
       "'\\n\\n**Summary of the Conversation:**  \\nThe conversation began with the user expressing interest in Nick Bosa and whether he is the highest-paid defensive player. The assistant clarified that while Bosa is a top-tier defender, his salary isn’t the highest among all defensive players. The user then mentioned liking the 49ers, prompting the assistant to acknowledge their enthusiasm for the team. The interaction continued with friendly exchanges about football, the 49ers’ roster, and the assistant offering help with questions. The user’s name was not provided, and the conversation remained light-hearted and supportive.'"
      ]
     },
     "execution_count": 11,
     "metadata": {},
     "output_type": "execute_result"
    }
   ],
   "source": [
    "config = {\"configurable\": {\"thread_id\": \"2\"}}\n",
    "graph_state = graph.get_state(config)\n",
    "graph_state.values['summary']"
   ]
  },
  {
   "cell_type": "code",
   "execution_count": 12,
   "id": "cb51c839",
   "metadata": {},
   "outputs": [
    {
     "data": {
      "text/plain": [
       "dict_keys(['messages', 'summary'])"
      ]
     },
     "execution_count": 12,
     "metadata": {},
     "output_type": "execute_result"
    }
   ],
   "source": [
    "graph_state.values.keys()"
   ]
  }
 ],
 "metadata": {
  "kernelspec": {
   "display_name": "learn_langraph",
   "language": "python",
   "name": "python3"
  },
  "language_info": {
   "codemirror_mode": {
    "name": "ipython",
    "version": 3
   },
   "file_extension": ".py",
   "mimetype": "text/x-python",
   "name": "python",
   "nbconvert_exporter": "python",
   "pygments_lexer": "ipython3",
   "version": "3.10.18"
  }
 },
 "nbformat": 4,
 "nbformat_minor": 5
}
