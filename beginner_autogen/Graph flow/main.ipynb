{
 "cells": [
  {
   "cell_type": "code",
   "execution_count": null,
   "id": "f01ad73e",
   "metadata": {},
   "outputs": [],
   "source": [
    "from autogen_core.models import ChatCompletionClient"
   ]
  },
  {
   "cell_type": "code",
   "execution_count": 9,
   "id": "dcefa0f9",
   "metadata": {},
   "outputs": [],
   "source": [
    "config = {\n",
    "    \"provider\": \"OpenAIChatCompletionClient\",\n",
    "    \"config\": {\n",
    "        \"model\": \"qwen2-vl-2b-instruct\",\n",
    "        \"base_url\": \"http://127.0.0.1:1234/v1\",\n",
    "        \"api_key\": \"lm-studio\",\n",
    "        \"model_info\": {\n",
    "            \"name\": \"qwen2-vl-2b-instruct\",\n",
    "            \"family\": \"openai\",\n",
    "            \"supports_tool_calling\": False,\n",
    "            \"supports_json_mode\": False,\n",
    "            \"structured_output\": True,\n",
    "            \"json_output\": True,\n",
    "            \"function_calling\": True,\n",
    "            \"vision\": True,\n",
    "        }\n",
    "    }\n",
    "}\n",
    "\n",
    "client = ChatCompletionClient.load_component(config)"
   ]
  },
  {
   "cell_type": "markdown",
   "id": "a68059d4",
   "metadata": {},
   "source": [
    "## Sequential Flow"
   ]
  },
  {
   "cell_type": "code",
   "execution_count": null,
   "id": "837c9ce6",
   "metadata": {},
   "outputs": [],
   "source": [
    "from autogen_agentchat.agents import AssistantAgent\n",
    "from autogen_agentchat.teams import DiGraphBuilder, GraphFlow\n",
    "from autogen_ext.models.openai import OpenAIChatCompletionClient"
   ]
  },
  {
   "cell_type": "code",
   "execution_count": 7,
   "id": "c5b33e45",
   "metadata": {},
   "outputs": [],
   "source": [
    "# Create the writer agent\n",
    "writer = AssistantAgent(\"writer\", model_client=client,\n",
    "                        system_message=\"Draft a short paragraph on climate change.\")\n",
    "\n",
    "# Create the reviewer agent\n",
    "reviewer = AssistantAgent(\"reviewer\", model_client=client,\n",
    "                          system_message=\"Review the draft and suggest improvements.\")\n",
    "\n",
    "# Build the graph\n",
    "builder = DiGraphBuilder()\n",
    "builder.add_node(writer).add_node(reviewer)\n",
    "builder.add_edge(writer, reviewer)\n",
    "\n",
    "# Build and validate the graph\n",
    "graph = builder.build()\n",
    "\n",
    "# Create the flow\n",
    "flow = GraphFlow([writer, reviewer], graph=graph)"
   ]
  },
  {
   "cell_type": "code",
   "execution_count": 8,
   "id": "5f7a6e9e",
   "metadata": {},
   "outputs": [
    {
     "name": "stdout",
     "output_type": "stream",
     "text": [
      "source='user' models_usage=None metadata={} content='Write a short paragraph about climate change.' type='TextMessage'\n",
      "source='writer' models_usage=RequestUsage(prompt_tokens=31, completion_tokens=127) metadata={} content='Climate change is one of the most pressing issues of our time, with far-reaching consequences for our planet and its inhabitants. The burning of fossil fuels, deforestation, and other human activities have led to a significant increase in greenhouse gas emissions, resulting in rising temperatures, melting ice caps, and more extreme weather events. If left unchecked, climate change will continue to worsen, causing devastating impacts on ecosystems, economies, and human societies worldwide. It is essential that we take immediate action to reduce our carbon footprint, invest in renewable energy, and adopt sustainable practices to mitigate the effects of climate change and create a more resilient future for all.' type='TextMessage'\n",
      "source='reviewer' models_usage=RequestUsage(prompt_tokens=157, completion_tokens=239) metadata={} content='Here\\'s a suggested improvement:\\n\\nClimate change is one of the most pressing issues of our time, with far-reaching consequences for the planet and its inhabitants. Human activities such as burning fossil fuels, deforestation, and land degradation have led to a significant increase in greenhouse gas emissions, resulting in rising temperatures, melting ice caps, and more frequent and intense extreme weather events. If left unchecked, climate change will continue to worsen, posing devastating impacts on ecosystems, economies, and human societies worldwide. It is crucial that we take immediate action to reduce our carbon footprint, invest in renewable energy, and adopt sustainable practices to mitigate the effects of climate change and create a more resilient future for all.\\n\\nImprovements I made:\\n\\n* Added \"the planet\" to make the phrase more specific and inclusive\\n* Changed \"and other human activities\" to \"land degradation\" to be more concise and clear\\n* Changed \"more extreme weather events\" to \"more frequent and intense extreme weather events\" to provide more detail\\n* Changed \"It is essential\" to \"It is crucial\" to make the tone more urgent and compelling\\n* Added an apostrophe to \"our carbon footprint\" for consistency with standard grammar rules' type='TextMessage'\n",
      "source='DiGraphStopAgent' models_usage=None metadata={} content='Digraph execution is complete' type='StopMessage'\n",
      "messages=[TextMessage(source='user', models_usage=None, metadata={}, content='Write a short paragraph about climate change.', type='TextMessage'), TextMessage(source='writer', models_usage=RequestUsage(prompt_tokens=31, completion_tokens=127), metadata={}, content='Climate change is one of the most pressing issues of our time, with far-reaching consequences for our planet and its inhabitants. The burning of fossil fuels, deforestation, and other human activities have led to a significant increase in greenhouse gas emissions, resulting in rising temperatures, melting ice caps, and more extreme weather events. If left unchecked, climate change will continue to worsen, causing devastating impacts on ecosystems, economies, and human societies worldwide. It is essential that we take immediate action to reduce our carbon footprint, invest in renewable energy, and adopt sustainable practices to mitigate the effects of climate change and create a more resilient future for all.', type='TextMessage'), TextMessage(source='reviewer', models_usage=RequestUsage(prompt_tokens=157, completion_tokens=239), metadata={}, content='Here\\'s a suggested improvement:\\n\\nClimate change is one of the most pressing issues of our time, with far-reaching consequences for the planet and its inhabitants. Human activities such as burning fossil fuels, deforestation, and land degradation have led to a significant increase in greenhouse gas emissions, resulting in rising temperatures, melting ice caps, and more frequent and intense extreme weather events. If left unchecked, climate change will continue to worsen, posing devastating impacts on ecosystems, economies, and human societies worldwide. It is crucial that we take immediate action to reduce our carbon footprint, invest in renewable energy, and adopt sustainable practices to mitigate the effects of climate change and create a more resilient future for all.\\n\\nImprovements I made:\\n\\n* Added \"the planet\" to make the phrase more specific and inclusive\\n* Changed \"and other human activities\" to \"land degradation\" to be more concise and clear\\n* Changed \"more extreme weather events\" to \"more frequent and intense extreme weather events\" to provide more detail\\n* Changed \"It is essential\" to \"It is crucial\" to make the tone more urgent and compelling\\n* Added an apostrophe to \"our carbon footprint\" for consistency with standard grammar rules', type='TextMessage'), StopMessage(source='DiGraphStopAgent', models_usage=None, metadata={}, content='Digraph execution is complete', type='StopMessage')] stop_reason='Stop message received'\n"
     ]
    }
   ],
   "source": [
    "# Use `asyncio.run(...)` and wrap the below in a async function when running in a script.\n",
    "stream = flow.run_stream(task=\"Write a short paragraph about climate change.\")\n",
    "async for event in stream:  # type: ignore\n",
    "    print(event)\n",
    "# Use Console(flow.run_stream(...)) for better formatting in console."
   ]
  },
  {
   "cell_type": "markdown",
   "id": "69b96524",
   "metadata": {},
   "source": [
    "## Parallel Flow with Join"
   ]
  },
  {
   "cell_type": "code",
   "execution_count": null,
   "id": "0c581fe4",
   "metadata": {},
   "outputs": [
    {
     "name": "stdout",
     "output_type": "stream",
     "text": [
      "---------- MultiModalMessage (user) ----------\n",
      "Question: What is the animal doing?\n",
      "<image>\n",
      "---------- TextMessage (vqa_agent) ----------\n",
      "sitting\n",
      "---------- TextMessage (explanation_agent) ----------\n",
      "The cat in the image is sitting on a wall. The visual cue of the cat being seated and looking directly at the camera provides this information.\n",
      "---------- TextMessage (grader1) ----------\n",
      "Correct, because the given answer \"sitting\" matches with the visual cue provided in the image where the cat is seen sitting on a wall.\n",
      "---------- TextMessage (grader2) ----------\n",
      "[Correct], because the given answer \"sitting\" matches with the visual cue provided in the image where the cat is seen sitting on a wall.\n",
      "---------- TextMessage (grader3) ----------\n",
      "[Incorrect], because the given answer \"sitting\" does not match with the visual cue provided in the image where the cat is seen sitting on a wall, but looking directly at the camera.\n",
      "---------- TextMessage (voter) ----------\n",
      "Correct\n",
      "---------- StopMessage (DiGraphStopAgent) ----------\n",
      "Digraph execution is complete\n"
     ]
    },
    {
     "data": {
      "text/plain": [
       "<coroutine object BaseOpenAIChatCompletionClient.close at 0x000001B21959B990>"
      ]
     },
     "execution_count": 14,
     "metadata": {},
     "output_type": "execute_result"
    }
   ],
   "source": [
    "from autogen_agentchat.agents import AssistantAgent\n",
    "from autogen_agentchat.teams import DiGraphBuilder, GraphFlow\n",
    "from autogen_agentchat.ui import Console\n",
    "from autogen_agentchat.messages import MultiModalMessage\n",
    "from autogen_core import CancellationToken, Image\n",
    "from pathlib import Path\n",
    "import asyncio\n",
    "# System prompt cho grader\n",
    "system_prompt = \"\"\"\n",
    "You are an experienced teacher.\n",
    "Your job is to independently evaluate whether the student's answer is correct or incorrect, based on the target answer provided.\n",
    "Please read both the student's answer and the target answer carefully.\n",
    "When you complete your evaluation, explain your reasoning clearly and concisely.\n",
    "Use the following response format:\n",
    "[Correct], because ...\n",
    "or\n",
    "[Incorrect], because ...\n",
    "\"\"\"\n",
    "\n",
    "# Khởi tạo các agent\n",
    "vqa_agent = AssistantAgent(\n",
    "    \"vqa_agent\",\n",
    "    model_client=client,\n",
    "    system_message=\"Answer the question based on the image and provide a short answer.\"\n",
    ")\n",
    "\n",
    "explanation_agent = AssistantAgent(\n",
    "    \"explanation_agent\",\n",
    "    model_client=client,\n",
    "    system_message=\"Explain why the given answer to the visual question is correct. Justify using visual cues from the image.\"\n",
    ")\n",
    "\n",
    "grader1 = AssistantAgent(\"grader1\", model_client=client,\n",
    "                         system_message=system_prompt)\n",
    "grader2 = AssistantAgent(\"grader2\", model_client=client,\n",
    "                         system_message=system_prompt)\n",
    "grader3 = AssistantAgent(\"grader3\", model_client=client,\n",
    "                         system_message=system_prompt)\n",
    "\n",
    "voter = AssistantAgent(\n",
    "    \"voter\",\n",
    "    model_client=client,\n",
    "    system_message=\"Based on the evaluations of the graders, provide the majority vote ([Correct] or [Incorrect]) and briefly justify it.\"\n",
    ")\n",
    "\n",
    "# Xây dựng đồ thị workflow\n",
    "builder = DiGraphBuilder()\n",
    "builder.add_node(vqa_agent).add_node(explanation_agent)\n",
    "builder.add_node(grader1).add_node(grader2).add_node(grader3)\n",
    "builder.add_node(voter)\n",
    "\n",
    "builder.add_edge(vqa_agent, explanation_agent)\n",
    "builder.add_edge(explanation_agent, grader1)\n",
    "builder.add_edge(explanation_agent, grader2)\n",
    "builder.add_edge(explanation_agent, grader3)\n",
    "\n",
    "# Các grader sẽ đánh giá câu trả lời của vqa_agent\n",
    "builder.add_edge(grader1, voter)\n",
    "builder.add_edge(grader2, voter)\n",
    "builder.add_edge(grader3, voter)\n",
    "\n",
    "graph = builder.build()\n",
    "\n",
    "flow = GraphFlow(\n",
    "    participants=builder.get_participants(),\n",
    "    graph=graph,\n",
    ")\n",
    "\n",
    "# Đọc ảnh từ file\n",
    "image_path = Path(\"cat.jpg\")  # Đổi đường dẫn tới ảnh phù hợp\n",
    "image = Image.from_file(image_path)\n",
    "\n",
    "# Tạo message đầu vào dạng multimodal\n",
    "message = MultiModalMessage(\n",
    "    content=[\n",
    "        \"Question: What is the animal doing?\",\n",
    "        image\n",
    "    ],\n",
    "    source=\"user\"\n",
    ")\n",
    "\n",
    "cancellation_token = CancellationToken()\n",
    "stream = flow.run_stream(          \n",
    "        task=[message],                 \n",
    "        cancellation_token=cancellation_token,\n",
    "    )\n",
    "await Console(stream) \n",
    "\n",
    "client.close()\n"
   ]
  }
 ],
 "metadata": {
  "kernelspec": {
   "display_name": "LLMs_Agents",
   "language": "python",
   "name": "python3"
  },
  "language_info": {
   "codemirror_mode": {
    "name": "ipython",
    "version": 3
   },
   "file_extension": ".py",
   "mimetype": "text/x-python",
   "name": "python",
   "nbconvert_exporter": "python",
   "pygments_lexer": "ipython3",
   "version": "3.10.16"
  }
 },
 "nbformat": 4,
 "nbformat_minor": 5
}
